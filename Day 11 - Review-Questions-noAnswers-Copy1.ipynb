{
 "cells": [
  {
   "cell_type": "code",
   "execution_count": 1,
   "metadata": {},
   "outputs": [
    {
     "data": {
      "text/plain": [
       "{'width': 1200, 'height': 700, 'scroll': True}"
      ]
     },
     "execution_count": 1,
     "metadata": {},
     "output_type": "execute_result"
    }
   ],
   "source": [
    "#: the usual imports\n",
    "from datascience import *\n",
    "import numpy as np\n",
    "\n",
    "%matplotlib inline\n",
    "import matplotlib.pyplot as plt\n",
    "import warnings; warnings.simplefilter('ignore')\n",
    "\n",
    "plt.style.use('fivethirtyeight')\n",
    "\n",
    "from notebook.services.config import ConfigManager\n",
    "\n",
    "cm = ConfigManager()\n",
    "cm.update(\n",
    "   \"livereveal\", {\n",
    "       'width': 1200,\n",
    "       'height': 700,\n",
    "       \"scroll\": True,\n",
    "})"
   ]
  },
  {
   "cell_type": "markdown",
   "metadata": {},
   "source": [
    "# Topics\n",
    "- Basic python\n",
    "- Table manipulation (column, select, take, where, apply, join, sort, etc)\n",
    "- Data Visualization\n",
    "- Hypothesis Testing and CI\n",
    "- CLT\n",
    "- Regression\n",
    "- Classification"
   ]
  },
  {
   "cell_type": "markdown",
   "metadata": {},
   "source": [
    "## Basic Python\n",
    "- Data types\n",
    "- String manipulation\n",
    "- array\n",
    "- list"
   ]
  },
  {
   "cell_type": "code",
   "execution_count": null,
   "metadata": {},
   "outputs": [],
   "source": []
  },
  {
   "cell_type": "code",
   "execution_count": null,
   "metadata": {},
   "outputs": [],
   "source": []
  },
  {
   "cell_type": "markdown",
   "metadata": {},
   "source": [
    "## Table Manipulation"
   ]
  },
  {
   "cell_type": "code",
   "execution_count": 2,
   "metadata": {},
   "outputs": [
    {
     "data": {
      "text/html": [
       "<table border=\"1\" class=\"dataframe\">\n",
       "    <thead>\n",
       "        <tr>\n",
       "            <th>business_id</th> <th>business_name</th> <th>business_address</th> <th>business_city</th> <th>business_state</th> <th>business_postal_code</th> <th>business_latitude</th> <th>business_longitude</th> <th>business_location</th> <th>business_phone_number</th> <th>inspection_id</th> <th>inspection_date</th> <th>inspection_score</th> <th>inspection_type</th> <th>violation_id</th> <th>violation_description</th> <th>risk_category</th> <th>Neighborhoods</th> <th>Police Districts</th> <th>Supervisor Districts</th> <th>Fire Prevention Districts</th> <th>Zip Codes</th> <th>Analysis Neighborhoods</th>\n",
       "        </tr>\n",
       "    </thead>\n",
       "    <tbody>\n",
       "        <tr>\n",
       "            <td>97164      </td> <td>Golden Waffle             </td> <td>244 Clement St          </td> <td>San Francisco</td> <td>CA            </td> <td>94118               </td> <td>nan              </td> <td>nan               </td> <td>nan              </td> <td>nan                  </td> <td>97164_20180808</td> <td>2018-08-08T00:00:00.000</td> <td>nan             </td> <td>New Ownership            </td> <td>nan                  </td> <td>nan                                               </td> <td>nan          </td> <td>nan          </td> <td>nan             </td> <td>nan                 </td> <td>nan                      </td> <td>nan      </td> <td>nan                   </td>\n",
       "        </tr>\n",
       "        <tr>\n",
       "            <td>69487      </td> <td>Hakkasan San Francisco    </td> <td>1 Kearny St             </td> <td>San Francisco</td> <td>CA            </td> <td>94108               </td> <td>nan              </td> <td>nan               </td> <td>nan              </td> <td>nan                  </td> <td>69487_20180418</td> <td>2018-04-18T00:00:00.000</td> <td>88              </td> <td>Routine - Unscheduled    </td> <td>69487_20180418_103119</td> <td>Inadequate and inaccessible handwashing facilities</td> <td>Moderate Risk</td> <td>nan          </td> <td>nan             </td> <td>nan                 </td> <td>nan                      </td> <td>nan      </td> <td>nan                   </td>\n",
       "        </tr>\n",
       "        <tr>\n",
       "            <td>91044      </td> <td>Chopsticks Restaurant     </td> <td>4615 Mission St         </td> <td>San Francisco</td> <td>CA            </td> <td>94112               </td> <td>nan              </td> <td>nan               </td> <td>nan              </td> <td>nan                  </td> <td>91044_20170818</td> <td>2017-08-18T00:00:00.000</td> <td>nan             </td> <td>Non-inspection site visit</td> <td>nan                  </td> <td>nan                                               </td> <td>nan          </td> <td>nan          </td> <td>nan             </td> <td>nan                 </td> <td>nan                      </td> <td>nan      </td> <td>nan                   </td>\n",
       "        </tr>\n",
       "        <tr>\n",
       "            <td>85987      </td> <td>Tselogs                   </td> <td>552 Jones St            </td> <td>San Francisco</td> <td>CA            </td> <td>94102               </td> <td>nan              </td> <td>nan               </td> <td>nan              </td> <td>nan                  </td> <td>85987_20180412</td> <td>2018-04-12T00:00:00.000</td> <td>94              </td> <td>Routine - Unscheduled    </td> <td>85987_20180412_103132</td> <td>Improper thawing methods                          </td> <td>Moderate Risk</td> <td>nan          </td> <td>nan             </td> <td>nan                 </td> <td>nan                      </td> <td>nan      </td> <td>nan                   </td>\n",
       "        </tr>\n",
       "        <tr>\n",
       "            <td>96024      </td> <td>Fig & Thistle Market      </td> <td>691 14th St             </td> <td>San Francisco</td> <td>CA            </td> <td>94114               </td> <td>nan              </td> <td>nan               </td> <td>nan              </td> <td>nan                  </td> <td>96024_20181108</td> <td>2018-11-08T00:00:00.000</td> <td>nan             </td> <td>New Ownership - Followup </td> <td>nan                  </td> <td>nan                                               </td> <td>nan          </td> <td>nan          </td> <td>nan             </td> <td>nan                 </td> <td>nan                      </td> <td>nan      </td> <td>nan                   </td>\n",
       "        </tr>\n",
       "        <tr>\n",
       "            <td>97503      </td> <td>Moscone South Main Kitchen</td> <td>747 Howard St           </td> <td>San Francisco</td> <td>CA            </td> <td>94103               </td> <td>nan              </td> <td>nan               </td> <td>nan              </td> <td>nan                  </td> <td>97503_20180911</td> <td>2018-09-11T00:00:00.000</td> <td>nan             </td> <td>New Ownership            </td> <td>nan                  </td> <td>nan                                               </td> <td>nan          </td> <td>nan          </td> <td>nan             </td> <td>nan                 </td> <td>nan                      </td> <td>nan      </td> <td>nan                   </td>\n",
       "        </tr>\n",
       "        <tr>\n",
       "            <td>97748      </td> <td>FISTFUL OF TACOS          </td> <td>201 Harrison St Unit C-2</td> <td>San Francisco</td> <td>CA            </td> <td>94105               </td> <td>nan              </td> <td>nan               </td> <td>nan              </td> <td>1.41505e+10          </td> <td>97748_20180821</td> <td>2018-08-21T00:00:00.000</td> <td>nan             </td> <td>Reinspection/Followup    </td> <td>nan                  </td> <td>nan                                               </td> <td>nan          </td> <td>nan          </td> <td>nan             </td> <td>nan                 </td> <td>nan                      </td> <td>nan      </td> <td>nan                   </td>\n",
       "        </tr>\n",
       "        <tr>\n",
       "            <td>77901      </td> <td>The Estate Kitchen, LLC   </td> <td>799 Bryant St           </td> <td>San Francisco</td> <td>CA            </td> <td>94107               </td> <td>nan              </td> <td>nan               </td> <td>nan              </td> <td>nan                  </td> <td>77901_20180416</td> <td>2018-04-16T00:00:00.000</td> <td>86              </td> <td>Routine - Unscheduled    </td> <td>77901_20180416_103139</td> <td>Improper food storage                             </td> <td>Low Risk     </td> <td>nan          </td> <td>nan             </td> <td>nan                 </td> <td>nan                      </td> <td>nan      </td> <td>nan                   </td>\n",
       "        </tr>\n",
       "        <tr>\n",
       "            <td>87782      </td> <td>Beloved Cafe              </td> <td>3338 24th St            </td> <td>San Francisco</td> <td>CA            </td> <td>94110               </td> <td>nan              </td> <td>nan               </td> <td>nan              </td> <td>1.41555e+10          </td> <td>87782_20180502</td> <td>2018-05-02T00:00:00.000</td> <td>96              </td> <td>Routine - Unscheduled    </td> <td>87782_20180502_103161</td> <td>Low risk vermin infestation                       </td> <td>Low Risk     </td> <td>nan          </td> <td>nan             </td> <td>nan                 </td> <td>nan                      </td> <td>nan      </td> <td>nan                   </td>\n",
       "        </tr>\n",
       "        <tr>\n",
       "            <td>77442      </td> <td>Gashead Tavern            </td> <td>2351 Mission St         </td> <td>San Francisco</td> <td>CA            </td> <td>94110               </td> <td>nan              </td> <td>nan               </td> <td>nan              </td> <td>1.41557e+10          </td> <td>77442_20180814</td> <td>2018-08-14T00:00:00.000</td> <td>nan             </td> <td>Reinspection/Followup    </td> <td>nan                  </td> <td>nan                                               </td> <td>nan          </td> <td>nan          </td> <td>nan             </td> <td>nan                 </td> <td>nan                      </td> <td>nan      </td> <td>nan                   </td>\n",
       "        </tr>\n",
       "    </tbody>\n",
       "</table>\n",
       "<p>... (54467 rows omitted)</p>"
      ],
      "text/plain": [
       "business_id | business_name              | business_address         | business_city | business_state | business_postal_code | business_latitude | business_longitude | business_location | business_phone_number | inspection_id  | inspection_date         | inspection_score | inspection_type           | violation_id          | violation_description                              | risk_category | Neighborhoods | Police Districts | Supervisor Districts | Fire Prevention Districts | Zip Codes | Analysis Neighborhoods\n",
       "97164       | Golden Waffle              | 244 Clement St           | San Francisco | CA             | 94118                | nan               | nan                | nan               | nan                   | 97164_20180808 | 2018-08-08T00:00:00.000 | nan              | New Ownership             | nan                   | nan                                                | nan           | nan           | nan              | nan                  | nan                       | nan       | nan\n",
       "69487       | Hakkasan San Francisco     | 1 Kearny St              | San Francisco | CA             | 94108                | nan               | nan                | nan               | nan                   | 69487_20180418 | 2018-04-18T00:00:00.000 | 88               | Routine - Unscheduled     | 69487_20180418_103119 | Inadequate and inaccessible handwashing facilities | Moderate Risk | nan           | nan              | nan                  | nan                       | nan       | nan\n",
       "91044       | Chopsticks Restaurant      | 4615 Mission St          | San Francisco | CA             | 94112                | nan               | nan                | nan               | nan                   | 91044_20170818 | 2017-08-18T00:00:00.000 | nan              | Non-inspection site visit | nan                   | nan                                                | nan           | nan           | nan              | nan                  | nan                       | nan       | nan\n",
       "85987       | Tselogs                    | 552 Jones St             | San Francisco | CA             | 94102                | nan               | nan                | nan               | nan                   | 85987_20180412 | 2018-04-12T00:00:00.000 | 94               | Routine - Unscheduled     | 85987_20180412_103132 | Improper thawing methods                           | Moderate Risk | nan           | nan              | nan                  | nan                       | nan       | nan\n",
       "96024       | Fig & Thistle Market       | 691 14th St              | San Francisco | CA             | 94114                | nan               | nan                | nan               | nan                   | 96024_20181108 | 2018-11-08T00:00:00.000 | nan              | New Ownership - Followup  | nan                   | nan                                                | nan           | nan           | nan              | nan                  | nan                       | nan       | nan\n",
       "97503       | Moscone South Main Kitchen | 747 Howard St            | San Francisco | CA             | 94103                | nan               | nan                | nan               | nan                   | 97503_20180911 | 2018-09-11T00:00:00.000 | nan              | New Ownership             | nan                   | nan                                                | nan           | nan           | nan              | nan                  | nan                       | nan       | nan\n",
       "97748       | FISTFUL OF TACOS           | 201 Harrison St Unit C-2 | San Francisco | CA             | 94105                | nan               | nan                | nan               | 1.41505e+10           | 97748_20180821 | 2018-08-21T00:00:00.000 | nan              | Reinspection/Followup     | nan                   | nan                                                | nan           | nan           | nan              | nan                  | nan                       | nan       | nan\n",
       "77901       | The Estate Kitchen, LLC    | 799 Bryant St            | San Francisco | CA             | 94107                | nan               | nan                | nan               | nan                   | 77901_20180416 | 2018-04-16T00:00:00.000 | 86               | Routine - Unscheduled     | 77901_20180416_103139 | Improper food storage                              | Low Risk      | nan           | nan              | nan                  | nan                       | nan       | nan\n",
       "87782       | Beloved Cafe               | 3338 24th St             | San Francisco | CA             | 94110                | nan               | nan                | nan               | 1.41555e+10           | 87782_20180502 | 2018-05-02T00:00:00.000 | 96               | Routine - Unscheduled     | 87782_20180502_103161 | Low risk vermin infestation                        | Low Risk      | nan           | nan              | nan                  | nan                       | nan       | nan\n",
       "77442       | Gashead Tavern             | 2351 Mission St          | San Francisco | CA             | 94110                | nan               | nan                | nan               | 1.41557e+10           | 77442_20180814 | 2018-08-14T00:00:00.000 | nan              | Reinspection/Followup     | nan                   | nan                                                | nan           | nan           | nan              | nan                  | nan                       | nan       | nan\n",
       "... (54467 rows omitted)"
      ]
     },
     "execution_count": 2,
     "metadata": {},
     "output_type": "execute_result"
    }
   ],
   "source": [
    "restaurants = Table.read_table('restaurants.csv')\n",
    "restaurants"
   ]
  },
  {
   "cell_type": "code",
   "execution_count": null,
   "metadata": {},
   "outputs": [],
   "source": [
    "# select the business_name, business_city, inspection_score, risk_category, Neighborhoods, Zip Codes from the table\n"
   ]
  },
  {
   "cell_type": "code",
   "execution_count": null,
   "metadata": {},
   "outputs": [],
   "source": [
    "# find the name of the restaurant with the lowest inspection score\n",
    "#select, column, with_column, take, where, sort, group, apply, join, exclude\n"
   ]
  },
  {
   "cell_type": "code",
   "execution_count": null,
   "metadata": {},
   "outputs": [],
   "source": [
    "# Find the top 3 most popular zip codes for restaurants\n"
   ]
  },
  {
   "cell_type": "code",
   "execution_count": null,
   "metadata": {
    "collapsed": true
   },
   "outputs": [],
   "source": [
    "# What is the average inspection score of all restaurants in San Francisco\n"
   ]
  },
  {
   "cell_type": "markdown",
   "metadata": {},
   "source": [
    "## Data Visualization"
   ]
  },
  {
   "cell_type": "code",
   "execution_count": null,
   "metadata": {},
   "outputs": [],
   "source": [
    "# Visualize the zipcodes' restaurant counts\n"
   ]
  },
  {
   "cell_type": "code",
   "execution_count": null,
   "metadata": {},
   "outputs": [],
   "source": [
    "# visualize the low risk restaurants' inspection score with different bin sizes\n"
   ]
  },
  {
   "cell_type": "markdown",
   "metadata": {},
   "source": [
    "## Hypothesis Testing and CI"
   ]
  },
  {
   "cell_type": "code",
   "execution_count": null,
   "metadata": {},
   "outputs": [],
   "source": [
    "# Are the high risk and low risk restaurants have the same inspection score?"
   ]
  },
  {
   "cell_type": "code",
   "execution_count": null,
   "metadata": {},
   "outputs": [],
   "source": [
    "# Build a CI for inspection scores for all the restaurants whose names are longer than 10 characters"
   ]
  },
  {
   "cell_type": "code",
   "execution_count": null,
   "metadata": {},
   "outputs": [],
   "source": [
    "# Build a 95% CI for the previous question using CLT"
   ]
  },
  {
   "cell_type": "code",
   "execution_count": null,
   "metadata": {},
   "outputs": [],
   "source": []
  },
  {
   "cell_type": "code",
   "execution_count": null,
   "metadata": {},
   "outputs": [],
   "source": []
  },
  {
   "cell_type": "markdown",
   "metadata": {},
   "source": [
    "## Regression"
   ]
  },
  {
   "cell_type": "code",
   "execution_count": null,
   "metadata": {},
   "outputs": [],
   "source": [
    "hybrid = Table.read_table('hybrid.csv')\n",
    "hybrid"
   ]
  },
  {
   "cell_type": "code",
   "execution_count": null,
   "metadata": {},
   "outputs": [],
   "source": [
    "#visualize the relationship between acceleration and msrp"
   ]
  },
  {
   "cell_type": "code",
   "execution_count": null,
   "metadata": {},
   "outputs": [],
   "source": [
    "# use bootstrap to find the regression line's equation"
   ]
  },
  {
   "cell_type": "code",
   "execution_count": null,
   "metadata": {},
   "outputs": [],
   "source": [
    "# use equation to find the regression line's equation"
   ]
  },
  {
   "cell_type": "markdown",
   "metadata": {},
   "source": [
    "What would Galton's method predict for the MSRP of a car with acceleration of 20 units?  \n",
    "A. 55,000  \n",
    "B. 65,000  \n",
    "C. 80,000  \n",
    "D. 100,000  "
   ]
  },
  {
   "cell_type": "code",
   "execution_count": null,
   "metadata": {},
   "outputs": [],
   "source": [
    "# build a 95% CI for the prediction"
   ]
  },
  {
   "cell_type": "code",
   "execution_count": null,
   "metadata": {},
   "outputs": [],
   "source": [
    "# What is the residual plot of our prediction? What does it tell us?"
   ]
  },
  {
   "cell_type": "markdown",
   "metadata": {},
   "source": []
  },
  {
   "cell_type": "code",
   "execution_count": null,
   "metadata": {},
   "outputs": [],
   "source": []
  }
 ],
 "metadata": {
  "celltoolbar": "Slideshow",
  "kernelspec": {
   "display_name": "Python 3",
   "language": "python",
   "name": "python3"
  },
  "language_info": {
   "codemirror_mode": {
    "name": "ipython",
    "version": 3
   },
   "file_extension": ".py",
   "mimetype": "text/x-python",
   "name": "python",
   "nbconvert_exporter": "python",
   "pygments_lexer": "ipython3",
   "version": "3.7.3"
  },
  "livereveal": {
   "scroll": true,
   "transition": "none"
  }
 },
 "nbformat": 4,
 "nbformat_minor": 2
}
