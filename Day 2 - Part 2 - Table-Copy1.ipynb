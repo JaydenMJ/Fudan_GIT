{
 "cells": [
  {
   "cell_type": "markdown",
   "metadata": {
    "slideshow": {
     "slide_type": "slide"
    }
   },
   "source": [
    "# Day 2 - p2 - Selecting Rows"
   ]
  },
  {
   "cell_type": "code",
   "execution_count": 1,
   "metadata": {},
   "outputs": [],
   "source": [
    "from datascience import *\n",
    "import numpy as np"
   ]
  },
  {
   "cell_type": "markdown",
   "metadata": {
    "slideshow": {
     "slide_type": "slide"
    }
   },
   "source": [
    "<center><img src=\"summary1.png\"  width=\"800\"/></center>"
   ]
  },
  {
   "cell_type": "markdown",
   "metadata": {
    "slideshow": {
     "slide_type": "slide"
    }
   },
   "source": [
    "# Sorting Tables\n",
    "\n",
    "* The `sort` method creates a new table with the same rows in a different order (the original table is unaffected).\n",
    "\n",
    "* The `show` method displays the first rows of a table"
   ]
  },
  {
   "cell_type": "code",
   "execution_count": 169,
   "metadata": {},
   "outputs": [
    {
     "data": {
      "text/html": [
       "<table border=\"1\" class=\"dataframe\">\n",
       "    <thead>\n",
       "        <tr>\n",
       "            <th>PLAYER</th> <th>POSITION</th> <th>TEAM</th> <th>'15-'16 SALARY</th>\n",
       "        </tr>\n",
       "    </thead>\n",
       "    <tbody>\n",
       "        <tr>\n",
       "            <td>Paul Millsap    </td> <td>PF      </td> <td>Atlanta Hawks</td> <td>18.6717       </td>\n",
       "        </tr>\n",
       "        <tr>\n",
       "            <td>Al Horford      </td> <td>C       </td> <td>Atlanta Hawks</td> <td>12            </td>\n",
       "        </tr>\n",
       "        <tr>\n",
       "            <td>Tiago Splitter  </td> <td>C       </td> <td>Atlanta Hawks</td> <td>9.75625       </td>\n",
       "        </tr>\n",
       "        <tr>\n",
       "            <td>Jeff Teague     </td> <td>PG      </td> <td>Atlanta Hawks</td> <td>8             </td>\n",
       "        </tr>\n",
       "        <tr>\n",
       "            <td>Kyle Korver     </td> <td>SG      </td> <td>Atlanta Hawks</td> <td>5.74648       </td>\n",
       "        </tr>\n",
       "        <tr>\n",
       "            <td>Thabo Sefolosha </td> <td>SF      </td> <td>Atlanta Hawks</td> <td>4             </td>\n",
       "        </tr>\n",
       "        <tr>\n",
       "            <td>Mike Scott      </td> <td>PF      </td> <td>Atlanta Hawks</td> <td>3.33333       </td>\n",
       "        </tr>\n",
       "        <tr>\n",
       "            <td>Kent Bazemore   </td> <td>SF      </td> <td>Atlanta Hawks</td> <td>2             </td>\n",
       "        </tr>\n",
       "        <tr>\n",
       "            <td>Dennis Schroder </td> <td>PG      </td> <td>Atlanta Hawks</td> <td>1.7634        </td>\n",
       "        </tr>\n",
       "        <tr>\n",
       "            <td>Tim Hardaway Jr.</td> <td>SG      </td> <td>Atlanta Hawks</td> <td>1.30452       </td>\n",
       "        </tr>\n",
       "    </tbody>\n",
       "</table>\n",
       "<p>... (407 rows omitted)</p>"
      ],
      "text/plain": [
       "PLAYER           | POSITION | TEAM          | '15-'16 SALARY\n",
       "Paul Millsap     | PF       | Atlanta Hawks | 18.6717\n",
       "Al Horford       | C        | Atlanta Hawks | 12\n",
       "Tiago Splitter   | C        | Atlanta Hawks | 9.75625\n",
       "Jeff Teague      | PG       | Atlanta Hawks | 8\n",
       "Kyle Korver      | SG       | Atlanta Hawks | 5.74648\n",
       "Thabo Sefolosha  | SF       | Atlanta Hawks | 4\n",
       "Mike Scott       | PF       | Atlanta Hawks | 3.33333\n",
       "Kent Bazemore    | SF       | Atlanta Hawks | 2\n",
       "Dennis Schroder  | PG       | Atlanta Hawks | 1.7634\n",
       "Tim Hardaway Jr. | SG       | Atlanta Hawks | 1.30452\n",
       "... (407 rows omitted)"
      ]
     },
     "execution_count": 169,
     "metadata": {},
     "output_type": "execute_result"
    }
   ],
   "source": [
    "nba = Table.read_table('nba_salaries.csv') # Larger tables have rows omitted\n",
    "nba "
   ]
  },
  {
   "cell_type": "code",
   "execution_count": 192,
   "metadata": {},
   "outputs": [
    {
     "data": {
      "text/html": [
       "<table border=\"1\" class=\"dataframe\">\n",
       "    <thead>\n",
       "        <tr>\n",
       "            <th>PLAYER</th>\n",
       "        </tr>\n",
       "    </thead>\n",
       "    <tbody>\n",
       "        <tr>\n",
       "            <td>Dwight Howard</td>\n",
       "        </tr>\n",
       "        <tr>\n",
       "            <td>Marc Gasol   </td>\n",
       "        </tr>\n",
       "        <tr>\n",
       "            <td>Enes Kanter  </td>\n",
       "        </tr>\n",
       "    </tbody>\n",
       "</table>"
      ],
      "text/plain": [
       "PLAYER\n",
       "Dwight Howard\n",
       "Marc Gasol\n",
       "Enes Kanter"
      ]
     },
     "execution_count": 192,
     "metadata": {},
     "output_type": "execute_result"
    }
   ],
   "source": [
    "nba.sort(3, descending=True).where(\"POSITION\",\"C\").select(0).take(0,1,2)"
   ]
  },
  {
   "cell_type": "markdown",
   "metadata": {
    "slideshow": {
     "slide_type": "slide"
    }
   },
   "source": [
    "# About the data\n",
    "\n",
    "<center><img src=\"nba_description.png\"  width=\"800\"/></center>"
   ]
  },
  {
   "cell_type": "markdown",
   "metadata": {
    "slideshow": {
     "slide_type": "slide"
    }
   },
   "source": [
    "### In 2015-16, what was the total payroll for all NBA teams combined?"
   ]
  },
  {
   "cell_type": "code",
   "execution_count": 5,
   "metadata": {},
   "outputs": [
    {
     "data": {
      "text/plain": [
       "2116.197639"
      ]
     },
     "execution_count": 5,
     "metadata": {},
     "output_type": "execute_result"
    }
   ],
   "source": [
    "nba.column(3).sum() #about 2 billion"
   ]
  },
  {
   "cell_type": "markdown",
   "metadata": {
    "slideshow": {
     "slide_type": "slide"
    }
   },
   "source": [
    "### What's the largest salary in the NBA in 2015-16? Who earned it?"
   ]
  },
  {
   "cell_type": "code",
   "execution_count": 3,
   "metadata": {},
   "outputs": [
    {
     "data": {
      "text/plain": [
       "'Kobe Bryant'"
      ]
     },
     "execution_count": 3,
     "metadata": {},
     "output_type": "execute_result"
    }
   ],
   "source": [
    "nba.sort(3, descending=True).column('PLAYER')[0]"
   ]
  },
  {
   "cell_type": "markdown",
   "metadata": {},
   "source": [
    "### How about the top 5?"
   ]
  },
  {
   "cell_type": "code",
   "execution_count": 13,
   "metadata": {},
   "outputs": [
    {
     "data": {
      "text/html": [
       "<table border=\"1\" class=\"dataframe\">\n",
       "    <thead>\n",
       "        <tr>\n",
       "            <th>PLAYER</th> <th>POSITION</th> <th>TEAM</th> <th>'15-'16 SALARY</th>\n",
       "        </tr>\n",
       "    </thead>\n",
       "    <tbody>\n",
       "        <tr>\n",
       "            <td>Kobe Bryant    </td> <td>SF      </td> <td>Los Angeles Lakers </td> <td>25            </td>\n",
       "        </tr>\n",
       "        <tr>\n",
       "            <td>Joe Johnson    </td> <td>SF      </td> <td>Brooklyn Nets      </td> <td>24.8949       </td>\n",
       "        </tr>\n",
       "        <tr>\n",
       "            <td>LeBron James   </td> <td>SF      </td> <td>Cleveland Cavaliers</td> <td>22.9705       </td>\n",
       "        </tr>\n",
       "        <tr>\n",
       "            <td>Carmelo Anthony</td> <td>SF      </td> <td>New York Knicks    </td> <td>22.875        </td>\n",
       "        </tr>\n",
       "        <tr>\n",
       "            <td>Dwight Howard  </td> <td>C       </td> <td>Houston Rockets    </td> <td>22.3594       </td>\n",
       "        </tr>\n",
       "    </tbody>\n",
       "</table>\n",
       "<p>... (412 rows omitted)</p>"
      ],
      "text/plain": [
       "<IPython.core.display.HTML object>"
      ]
     },
     "metadata": {},
     "output_type": "display_data"
    }
   ],
   "source": [
    "nba.sort(3, descending=True).show(5)"
   ]
  },
  {
   "cell_type": "markdown",
   "metadata": {
    "slideshow": {
     "slide_type": "slide"
    }
   },
   "source": [
    "### What are the optional arguments for `sort`?\n",
    "* `descending=True`, sorts the column in descending order (default: ascending order).\n",
    "* `distinct=True`, omits repeated values of the column, keeping the only the first. \n",
    "\n",
    "### What does the code below do?"
   ]
  },
  {
   "cell_type": "code",
   "execution_count": 70,
   "metadata": {},
   "outputs": [],
   "source": [
    "nba=nba.with_column('SALARY amax',nba.column(3))"
   ]
  },
  {
   "cell_type": "code",
   "execution_count": 81,
   "metadata": {},
   "outputs": [
    {
     "data": {
      "text/html": [
       "<table border=\"1\" class=\"dataframe\">\n",
       "    <thead>\n",
       "        <tr>\n",
       "            <th>POSITION</th> <th>SALARY amax</th>\n",
       "        </tr>\n",
       "    </thead>\n",
       "    <tbody>\n",
       "        <tr>\n",
       "            <td>C       </td> <td>22.3594    </td>\n",
       "        </tr>\n",
       "        <tr>\n",
       "            <td>PF      </td> <td>22.1927    </td>\n",
       "        </tr>\n",
       "        <tr>\n",
       "            <td>PG      </td> <td>21.4687    </td>\n",
       "        </tr>\n",
       "        <tr>\n",
       "            <td>SF      </td> <td>25         </td>\n",
       "        </tr>\n",
       "        <tr>\n",
       "            <td>SG      </td> <td>20         </td>\n",
       "        </tr>\n",
       "    </tbody>\n",
       "</table>"
      ],
      "text/plain": [
       "POSITION | SALARY amax\n",
       "C        | 22.3594\n",
       "PF       | 22.1927\n",
       "PG       | 21.4687\n",
       "SF       | 25\n",
       "SG       | 20"
      ]
     },
     "execution_count": 81,
     "metadata": {},
     "output_type": "execute_result"
    }
   ],
   "source": [
    "nba.sort(3, descending=True).sort(1, distinct=True).select(1,4)\n",
    "# No overlap in each position "
   ]
  },
  {
   "cell_type": "code",
   "execution_count": 91,
   "metadata": {},
   "outputs": [
    {
     "data": {
      "text/html": [
       "<table border=\"1\" class=\"dataframe\">\n",
       "    <thead>\n",
       "        <tr>\n",
       "            <th>PLAYER</th> <th>POSITION</th> <th>TEAM</th> <th>'15-'16 SALARY</th> <th>SALARY amax</th>\n",
       "        </tr>\n",
       "    </thead>\n",
       "    <tbody>\n",
       "        <tr>\n",
       "            <td>Dwight Howard</td> <td>C       </td> <td>Houston Rockets     </td> <td>22.3594       </td> <td>22.3594    </td>\n",
       "        </tr>\n",
       "        <tr>\n",
       "            <td>Chris Bosh   </td> <td>PF      </td> <td>Miami Heat          </td> <td>22.1927       </td> <td>22.1927    </td>\n",
       "        </tr>\n",
       "        <tr>\n",
       "            <td>Chris Paul   </td> <td>PG      </td> <td>Los Angeles Clippers</td> <td>21.4687       </td> <td>21.4687    </td>\n",
       "        </tr>\n",
       "        <tr>\n",
       "            <td>Kobe Bryant  </td> <td>SF      </td> <td>Los Angeles Lakers  </td> <td>25            </td> <td>25         </td>\n",
       "        </tr>\n",
       "        <tr>\n",
       "            <td>Dwyane Wade  </td> <td>SG      </td> <td>Miami Heat          </td> <td>20            </td> <td>20         </td>\n",
       "        </tr>\n",
       "    </tbody>\n",
       "</table>"
      ],
      "text/plain": [
       "PLAYER        | POSITION | TEAM                 | '15-'16 SALARY | SALARY amax\n",
       "Dwight Howard | C        | Houston Rockets      | 22.3594        | 22.3594\n",
       "Chris Bosh    | PF       | Miami Heat           | 22.1927        | 22.1927\n",
       "Chris Paul    | PG       | Los Angeles Clippers | 21.4687        | 21.4687\n",
       "Kobe Bryant   | SF       | Los Angeles Lakers   | 25             | 25\n",
       "Dwyane Wade   | SG       | Miami Heat           | 20             | 20"
      ]
     },
     "execution_count": 91,
     "metadata": {},
     "output_type": "execute_result"
    }
   ],
   "source": [
    "nba.sort(3, descending=True).sort(1, distinct=True)"
   ]
  },
  {
   "cell_type": "code",
   "execution_count": 63,
   "metadata": {},
   "outputs": [
    {
     "data": {
      "text/html": [
       "<table border=\"1\" class=\"dataframe\">\n",
       "    <thead>\n",
       "        <tr>\n",
       "            <th>PLAYER</th> <th>POSITION</th> <th>TEAM</th> <th>'15-'16 SALARY</th> <th>SALARY amax</th>\n",
       "        </tr>\n",
       "    </thead>\n",
       "    <tbody>\n",
       "        <tr>\n",
       "            <td>Paul Millsap    </td> <td>PF      </td> <td>Atlanta Hawks</td> <td>18.6717       </td> <td>18.6717    </td>\n",
       "        </tr>\n",
       "        <tr>\n",
       "            <td>Al Horford      </td> <td>C       </td> <td>Atlanta Hawks</td> <td>12            </td> <td>12         </td>\n",
       "        </tr>\n",
       "        <tr>\n",
       "            <td>Tiago Splitter  </td> <td>C       </td> <td>Atlanta Hawks</td> <td>9.75625       </td> <td>9.75625    </td>\n",
       "        </tr>\n",
       "        <tr>\n",
       "            <td>Jeff Teague     </td> <td>PG      </td> <td>Atlanta Hawks</td> <td>8             </td> <td>8          </td>\n",
       "        </tr>\n",
       "        <tr>\n",
       "            <td>Kyle Korver     </td> <td>SG      </td> <td>Atlanta Hawks</td> <td>5.74648       </td> <td>5.74648    </td>\n",
       "        </tr>\n",
       "        <tr>\n",
       "            <td>Thabo Sefolosha </td> <td>SF      </td> <td>Atlanta Hawks</td> <td>4             </td> <td>4          </td>\n",
       "        </tr>\n",
       "        <tr>\n",
       "            <td>Mike Scott      </td> <td>PF      </td> <td>Atlanta Hawks</td> <td>3.33333       </td> <td>3.33333    </td>\n",
       "        </tr>\n",
       "        <tr>\n",
       "            <td>Kent Bazemore   </td> <td>SF      </td> <td>Atlanta Hawks</td> <td>2             </td> <td>2          </td>\n",
       "        </tr>\n",
       "        <tr>\n",
       "            <td>Dennis Schroder </td> <td>PG      </td> <td>Atlanta Hawks</td> <td>1.7634        </td> <td>1.7634     </td>\n",
       "        </tr>\n",
       "        <tr>\n",
       "            <td>Tim Hardaway Jr.</td> <td>SG      </td> <td>Atlanta Hawks</td> <td>1.30452       </td> <td>1.30452    </td>\n",
       "        </tr>\n",
       "    </tbody>\n",
       "</table>\n",
       "<p>... (407 rows omitted)</p>"
      ],
      "text/plain": [
       "PLAYER           | POSITION | TEAM          | '15-'16 SALARY | SALARY amax\n",
       "Paul Millsap     | PF       | Atlanta Hawks | 18.6717        | 18.6717\n",
       "Al Horford       | C        | Atlanta Hawks | 12             | 12\n",
       "Tiago Splitter   | C        | Atlanta Hawks | 9.75625        | 9.75625\n",
       "Jeff Teague      | PG       | Atlanta Hawks | 8              | 8\n",
       "Kyle Korver      | SG       | Atlanta Hawks | 5.74648        | 5.74648\n",
       "Thabo Sefolosha  | SF       | Atlanta Hawks | 4              | 4\n",
       "Mike Scott       | PF       | Atlanta Hawks | 3.33333        | 3.33333\n",
       "Kent Bazemore    | SF       | Atlanta Hawks | 2              | 2\n",
       "Dennis Schroder  | PG       | Atlanta Hawks | 1.7634         | 1.7634\n",
       "Tim Hardaway Jr. | SG       | Atlanta Hawks | 1.30452        | 1.30452\n",
       "... (407 rows omitted)"
      ]
     },
     "execution_count": 63,
     "metadata": {},
     "output_type": "execute_result"
    }
   ],
   "source": [
    "nba.with_column('SALARY amax',nba.column(3))"
   ]
  },
  {
   "cell_type": "markdown",
   "metadata": {
    "slideshow": {
     "slide_type": "slide"
    }
   },
   "source": [
    "<center><img src=\"q7.png\"  width=\"1000\"/></center>"
   ]
  },
  {
   "cell_type": "code",
   "execution_count": 164,
   "metadata": {},
   "outputs": [
    {
     "data": {
      "text/plain": [
       "14"
      ]
     },
     "execution_count": 164,
     "metadata": {},
     "output_type": "execute_result"
    }
   ],
   "source": [
    "nba.sort(3, descending=True).where('TEAM',\"Atlanta Hawks\").num_rows"
   ]
  },
  {
   "cell_type": "code",
   "execution_count": 168,
   "metadata": {},
   "outputs": [
    {
     "ename": "TypeError",
     "evalue": "only size-1 arrays can be converted to Python scalars",
     "output_type": "error",
     "traceback": [
      "\u001b[1;31m---------------------------------------------------------------------------\u001b[0m",
      "\u001b[1;31mTypeError\u001b[0m                                 Traceback (most recent call last)",
      "\u001b[1;32m<ipython-input-168-8b09ba628263>\u001b[0m in \u001b[0;36m<module>\u001b[1;34m\u001b[0m\n\u001b[1;32m----> 1\u001b[1;33m \u001b[0mnba\u001b[0m\u001b[1;33m.\u001b[0m\u001b[0mwith_column\u001b[0m\u001b[1;33m(\u001b[0m\u001b[1;34m\"A\"\u001b[0m\u001b[1;33m,\u001b[0m\u001b[0mint\u001b[0m\u001b[1;33m(\u001b[0m\u001b[0mnba\u001b[0m\u001b[1;33m.\u001b[0m\u001b[0mcolumn\u001b[0m\u001b[1;33m(\u001b[0m\u001b[1;36m3\u001b[0m\u001b[1;33m)\u001b[0m\u001b[1;33m)\u001b[0m\u001b[1;33m)\u001b[0m\u001b[1;33m\u001b[0m\u001b[1;33m\u001b[0m\u001b[0m\n\u001b[0m",
      "\u001b[1;31mTypeError\u001b[0m: only size-1 arrays can be converted to Python scalars"
     ]
    }
   ],
   "source": [
    "nba.with_column(\"A\",int(nba.column(3)))"
   ]
  },
  {
   "cell_type": "code",
   "execution_count": null,
   "metadata": {},
   "outputs": [],
   "source": []
  },
  {
   "cell_type": "code",
   "execution_count": null,
   "metadata": {},
   "outputs": [],
   "source": []
  },
  {
   "cell_type": "code",
   "execution_count": 144,
   "metadata": {},
   "outputs": [],
   "source": [
    "nba_messedUp=nba.with_row(['Paul Cao' , 'PG', 'Fudan', 0.02])"
   ]
  },
  {
   "cell_type": "markdown",
   "metadata": {
    "slideshow": {
     "slide_type": "slide"
    }
   },
   "source": [
    "# Digression: Lists"
   ]
  },
  {
   "cell_type": "markdown",
   "metadata": {
    "slideshow": {
     "slide_type": "slide"
    }
   },
   "source": [
    "What happens when you make an array with objects of different types?"
   ]
  },
  {
   "cell_type": "code",
   "execution_count": null,
   "metadata": {
    "slideshow": {
     "slide_type": "-"
    }
   },
   "outputs": [],
   "source": [
    "data = make_array(1, 3.1415, 'n/a')\n",
    "data"
   ]
  },
  {
   "cell_type": "markdown",
   "metadata": {
    "slideshow": {
     "slide_type": "fragment"
    }
   },
   "source": [
    "Wait, what is the type of the first element?"
   ]
  },
  {
   "cell_type": "code",
   "execution_count": null,
   "metadata": {},
   "outputs": [],
   "source": [
    "type(data.item(0))"
   ]
  },
  {
   "cell_type": "markdown",
   "metadata": {
    "slideshow": {
     "slide_type": "slide"
    }
   },
   "source": [
    "## Lists are generic sequences\n",
    "\n",
    "- Arrays should only hold objects of one type.\n",
    "- But `list`s can hold objects of different types."
   ]
  },
  {
   "cell_type": "code",
   "execution_count": null,
   "metadata": {},
   "outputs": [],
   "source": [
    "[1, 3.1415, 'hey']"
   ]
  },
  {
   "cell_type": "markdown",
   "metadata": {
    "slideshow": {
     "slide_type": "slide"
    }
   },
   "source": [
    "## If lists are more general, why use arrays at all?"
   ]
  },
  {
   "cell_type": "markdown",
   "metadata": {},
   "source": [
    "Big reason: arrays are fast."
   ]
  },
  {
   "cell_type": "code",
   "execution_count": null,
   "metadata": {},
   "outputs": [],
   "source": [
    "# an array and a list with the same data\n",
    "n = 9999999\n",
    "arr = np.arange(n)\n",
    "lst = list(range(n))"
   ]
  },
  {
   "cell_type": "code",
   "execution_count": null,
   "metadata": {},
   "outputs": [],
   "source": [
    "%timeit arr.sum() # work with array"
   ]
  },
  {
   "cell_type": "code",
   "execution_count": null,
   "metadata": {},
   "outputs": [],
   "source": [
    "%timeit sum(lst) # work with list"
   ]
  },
  {
   "cell_type": "markdown",
   "metadata": {
    "slideshow": {
     "slide_type": "slide"
    }
   },
   "source": [
    "## Creating tables from lists"
   ]
  },
  {
   "cell_type": "markdown",
   "metadata": {},
   "source": [
    "Passing a list to `.with_column` converts it to an array implicity."
   ]
  },
  {
   "cell_type": "code",
   "execution_count": null,
   "metadata": {},
   "outputs": [],
   "source": [
    "data = Table().with_column('Stuff', [1, 3.1415, 'hey'])\n",
    "data"
   ]
  },
  {
   "cell_type": "markdown",
   "metadata": {
    "slideshow": {
     "slide_type": "fragment"
    }
   },
   "source": [
    "But look at the types..."
   ]
  },
  {
   "cell_type": "code",
   "execution_count": null,
   "metadata": {},
   "outputs": [],
   "source": [
    "data.column('Stuff')"
   ]
  },
  {
   "cell_type": "markdown",
   "metadata": {
    "slideshow": {
     "slide_type": "slide"
    }
   },
   "source": [
    "# Getting rows"
   ]
  },
  {
   "cell_type": "code",
   "execution_count": null,
   "metadata": {},
   "outputs": [],
   "source": [
    "nba = Table.read_table('nba_salaries.csv')\n",
    "nba"
   ]
  },
  {
   "cell_type": "markdown",
   "metadata": {
    "slideshow": {
     "slide_type": "slide"
    }
   },
   "source": [
    "## `.select()` columns, `.take()`rows\n",
    "\n",
    "- We know that `.select()` returns a table with the requested columns\n",
    "- To get a *table* with requested rows, use `.take()`\n",
    "- As with `.item()`, counting starts with 0"
   ]
  },
  {
   "cell_type": "code",
   "execution_count": 17,
   "metadata": {},
   "outputs": [
    {
     "data": {
      "text/html": [
       "<table border=\"1\" class=\"dataframe\">\n",
       "    <thead>\n",
       "        <tr>\n",
       "            <th>PLAYER</th> <th>POSITION</th> <th>TEAM</th> <th>'15-'16 SALARY</th>\n",
       "        </tr>\n",
       "    </thead>\n",
       "    <tbody>\n",
       "        <tr>\n",
       "            <td>Paul Millsap</td> <td>PF      </td> <td>Atlanta Hawks</td> <td>18.6717       </td>\n",
       "        </tr>\n",
       "    </tbody>\n",
       "</table>"
      ],
      "text/plain": [
       "PLAYER       | POSITION | TEAM          | '15-'16 SALARY\n",
       "Paul Millsap | PF       | Atlanta Hawks | 18.6717"
      ]
     },
     "execution_count": 17,
     "metadata": {},
     "output_type": "execute_result"
    }
   ],
   "source": [
    "# get the first row\n",
    "nba.take(0)"
   ]
  },
  {
   "cell_type": "markdown",
   "metadata": {
    "slideshow": {
     "slide_type": "slide"
    }
   },
   "source": [
    "## Multiple rows\n",
    "\n",
    "Take multiple rows by providing a list of row indices:"
   ]
  },
  {
   "cell_type": "code",
   "execution_count": 18,
   "metadata": {},
   "outputs": [
    {
     "data": {
      "text/html": [
       "<table border=\"1\" class=\"dataframe\">\n",
       "    <thead>\n",
       "        <tr>\n",
       "            <th>PLAYER</th> <th>POSITION</th> <th>TEAM</th> <th>'15-'16 SALARY</th>\n",
       "        </tr>\n",
       "    </thead>\n",
       "    <tbody>\n",
       "        <tr>\n",
       "            <td>Paul Millsap   </td> <td>PF      </td> <td>Atlanta Hawks</td> <td>18.6717       </td>\n",
       "        </tr>\n",
       "        <tr>\n",
       "            <td>Thabo Sefolosha</td> <td>SF      </td> <td>Atlanta Hawks</td> <td>4             </td>\n",
       "        </tr>\n",
       "        <tr>\n",
       "            <td>Mike Scott     </td> <td>PF      </td> <td>Atlanta Hawks</td> <td>3.33333       </td>\n",
       "        </tr>\n",
       "    </tbody>\n",
       "</table>"
      ],
      "text/plain": [
       "PLAYER          | POSITION | TEAM          | '15-'16 SALARY\n",
       "Paul Millsap    | PF       | Atlanta Hawks | 18.6717\n",
       "Thabo Sefolosha | SF       | Atlanta Hawks | 4\n",
       "Mike Scott      | PF       | Atlanta Hawks | 3.33333"
      ]
     },
     "execution_count": 18,
     "metadata": {},
     "output_type": "execute_result"
    }
   ],
   "source": [
    "nba.take([0,5,6])"
   ]
  },
  {
   "cell_type": "code",
   "execution_count": 19,
   "metadata": {
    "slideshow": {
     "slide_type": "fragment"
    }
   },
   "outputs": [
    {
     "data": {
      "text/html": [
       "<table border=\"1\" class=\"dataframe\">\n",
       "    <thead>\n",
       "        <tr>\n",
       "            <th>PLAYER</th> <th>POSITION</th> <th>TEAM</th> <th>'15-'16 SALARY</th>\n",
       "        </tr>\n",
       "    </thead>\n",
       "    <tbody>\n",
       "        <tr>\n",
       "            <td>Paul Millsap   </td> <td>PF      </td> <td>Atlanta Hawks</td> <td>18.6717       </td>\n",
       "        </tr>\n",
       "        <tr>\n",
       "            <td>Thabo Sefolosha</td> <td>SF      </td> <td>Atlanta Hawks</td> <td>4             </td>\n",
       "        </tr>\n",
       "        <tr>\n",
       "            <td>Mike Scott     </td> <td>PF      </td> <td>Atlanta Hawks</td> <td>3.33333       </td>\n",
       "        </tr>\n",
       "    </tbody>\n",
       "</table>"
      ],
      "text/plain": [
       "PLAYER          | POSITION | TEAM          | '15-'16 SALARY\n",
       "Paul Millsap    | PF       | Atlanta Hawks | 18.6717\n",
       "Thabo Sefolosha | SF       | Atlanta Hawks | 4\n",
       "Mike Scott      | PF       | Atlanta Hawks | 3.33333"
      ]
     },
     "execution_count": 19,
     "metadata": {},
     "output_type": "execute_result"
    }
   ],
   "source": [
    "#: indices have to be in a list or array\n",
    "nba.take(0, 5, 6)"
   ]
  },
  {
   "cell_type": "markdown",
   "metadata": {
    "slideshow": {
     "slide_type": "slide"
    }
   },
   "source": [
    "## Discuss\n",
    "\n",
    "For columns, we have:\n",
    "\n",
    "- `.select()`: returns a table\n",
    "- `.column()`: returns an array\n",
    "\n",
    "For rows, we just have:\n",
    "\n",
    "- `.take()`: returns a table\n",
    "\n",
    "Why don't we have something that returns a row as an array?"
   ]
  },
  {
   "cell_type": "markdown",
   "metadata": {
    "slideshow": {
     "slide_type": "slide"
    }
   },
   "source": [
    "# Retrieving a row "
   ]
  },
  {
   "cell_type": "code",
   "execution_count": 20,
   "metadata": {},
   "outputs": [
    {
     "data": {
      "text/plain": [
       "Row(PLAYER='Paul Millsap', POSITION='PF', TEAM='Atlanta Hawks', '15-'16 SALARY=18.671659)"
      ]
     },
     "execution_count": 20,
     "metadata": {},
     "output_type": "execute_result"
    }
   ],
   "source": [
    "nba.row(0)"
   ]
  },
  {
   "cell_type": "code",
   "execution_count": 21,
   "metadata": {
    "slideshow": {
     "slide_type": "fragment"
    }
   },
   "outputs": [
    {
     "data": {
      "text/html": [
       "<table border=\"1\" class=\"dataframe\">\n",
       "    <thead>\n",
       "        <tr>\n",
       "            <th>PLAYER</th> <th>POSITION</th> <th>TEAM</th> <th>'15-'16 SALARY</th>\n",
       "        </tr>\n",
       "    </thead>\n",
       "    <tbody>\n",
       "        <tr>\n",
       "            <td>Paul Millsap</td> <td>PF      </td> <td>Atlanta Hawks</td> <td>18.6717       </td>\n",
       "        </tr>\n",
       "    </tbody>\n",
       "</table>"
      ],
      "text/plain": [
       "PLAYER       | POSITION | TEAM          | '15-'16 SALARY\n",
       "Paul Millsap | PF       | Atlanta Hawks | 18.6717"
      ]
     },
     "execution_count": 21,
     "metadata": {},
     "output_type": "execute_result"
    }
   ],
   "source": [
    "#compare to\n",
    "nba.take(0)"
   ]
  },
  {
   "cell_type": "markdown",
   "metadata": {
    "slideshow": {
     "slide_type": "slide"
    }
   },
   "source": [
    "# Retrieving rows conditionally"
   ]
  },
  {
   "cell_type": "markdown",
   "metadata": {
    "slideshow": {
     "slide_type": "-"
    }
   },
   "source": [
    "- We often want to grab a subset of rows *conditionally*, when some condition is satisfied.\n",
    "- Examples:\n",
    "    - All NBA players who make over 20 million / year.\n",
    "    - All point guards (PGs) and centers (Cs).\n",
    "    - Any player with more than 20 letters in their name"
   ]
  },
  {
   "cell_type": "markdown",
   "metadata": {
    "slideshow": {
     "slide_type": "slide"
    }
   },
   "source": [
    "## Predicates\n",
    "\n",
    "- A predicate is a function that returns `True` or `False`.\n",
    "- We use predicates as conditions, keeping only rows that satisfy the condition.\n",
    "- Apply a predicate to each item in a column.\n",
    "    - Keep entries for which it is `True`.\n",
    "    - Discard those for which it is `False`."
   ]
  },
  {
   "cell_type": "markdown",
   "metadata": {
    "slideshow": {
     "slide_type": "slide"
    }
   },
   "source": [
    "## The `.where()` method\n",
    "\n",
    "- Applies a predicate to a column.\n",
    "- Returns a new table containing only the rows where the predicate is `True`.\n",
    "- Many predicates are provided."
   ]
  },
  {
   "cell_type": "code",
   "execution_count": 6,
   "metadata": {},
   "outputs": [
    {
     "data": {
      "text/html": [
       "<table border=\"1\" class=\"dataframe\">\n",
       "    <thead>\n",
       "        <tr>\n",
       "            <th>PLAYER</th> <th>POSITION</th> <th>TEAM</th> <th>'15-'16 SALARY</th>\n",
       "        </tr>\n",
       "    </thead>\n",
       "    <tbody>\n",
       "        <tr>\n",
       "            <td>Joe Johnson    </td> <td>SF      </td> <td>Brooklyn Nets        </td> <td>24.8949       </td>\n",
       "        </tr>\n",
       "        <tr>\n",
       "            <td>Derrick Rose   </td> <td>PG      </td> <td>Chicago Bulls        </td> <td>20.0931       </td>\n",
       "        </tr>\n",
       "        <tr>\n",
       "            <td>LeBron James   </td> <td>SF      </td> <td>Cleveland Cavaliers  </td> <td>22.9705       </td>\n",
       "        </tr>\n",
       "        <tr>\n",
       "            <td>Dwight Howard  </td> <td>C       </td> <td>Houston Rockets      </td> <td>22.3594       </td>\n",
       "        </tr>\n",
       "        <tr>\n",
       "            <td>Chris Paul     </td> <td>PG      </td> <td>Los Angeles Clippers </td> <td>21.4687       </td>\n",
       "        </tr>\n",
       "        <tr>\n",
       "            <td>Kobe Bryant    </td> <td>SF      </td> <td>Los Angeles Lakers   </td> <td>25            </td>\n",
       "        </tr>\n",
       "        <tr>\n",
       "            <td>Chris Bosh     </td> <td>PF      </td> <td>Miami Heat           </td> <td>22.1927       </td>\n",
       "        </tr>\n",
       "        <tr>\n",
       "            <td>Carmelo Anthony</td> <td>SF      </td> <td>New York Knicks      </td> <td>22.875        </td>\n",
       "        </tr>\n",
       "        <tr>\n",
       "            <td>Kevin Durant   </td> <td>SF      </td> <td>Oklahoma City Thunder</td> <td>20.1586       </td>\n",
       "        </tr>\n",
       "    </tbody>\n",
       "</table>"
      ],
      "text/plain": [
       "PLAYER          | POSITION | TEAM                  | '15-'16 SALARY\n",
       "Joe Johnson     | SF       | Brooklyn Nets         | 24.8949\n",
       "Derrick Rose    | PG       | Chicago Bulls         | 20.0931\n",
       "LeBron James    | SF       | Cleveland Cavaliers   | 22.9705\n",
       "Dwight Howard   | C        | Houston Rockets       | 22.3594\n",
       "Chris Paul      | PG       | Los Angeles Clippers  | 21.4687\n",
       "Kobe Bryant     | SF       | Los Angeles Lakers    | 25\n",
       "Chris Bosh      | PF       | Miami Heat            | 22.1927\n",
       "Carmelo Anthony | SF       | New York Knicks       | 22.875\n",
       "Kevin Durant    | SF       | Oklahoma City Thunder | 20.1586"
      ]
     },
     "execution_count": 6,
     "metadata": {},
     "output_type": "execute_result"
    }
   ],
   "source": [
    "nba.where(\"'15-'16 SALARY\", are.above(20))"
   ]
  },
  {
   "cell_type": "code",
   "execution_count": null,
   "metadata": {},
   "outputs": [],
   "source": []
  },
  {
   "cell_type": "markdown",
   "metadata": {
    "slideshow": {
     "slide_type": "slide"
    }
   },
   "source": [
    "## Provided predicates\n",
    "\n",
    "|Predicate|Description|\n",
    "|---------|-----------|\n",
    "|`are.above(y)`|Greater than y|\n",
    "|`are.above_or_equal_to(y)`|Greater than or equal to y|\n",
    "|`are.below(y)`|Less than y|\n",
    "|`are.below_or_equal_to(y)`|Less than or equal to y|\n",
    "|`are.between(y, z)`|Greater than or equal to y and less than z|\n",
    "|`are.between_or_equal_to(y, z)`|Greater than or equal to y and less than or equal to z|\n",
    "|`are.contained_in(superstring)`|A string that is part of the given superstring|\n",
    "|`are.containing(substring)`|A string that contains within it the given substring|\n",
    "|`are.equal_to(y)`|Equal to y|\n",
    "|`are.not_above(y)`|Is not above |\n",
    "|`are.not_above_or_equal_to(y)`|Is neither above y nor equal to |\n",
    "|`are.not_below(y)`|Is not below |\n",
    "|`are.not_below_or_equal_to(y)`|Is neither below y nor equal to |\n",
    "|`are.not_between(y, z)`|Is equal to y or less than y or greater than |\n",
    "|`are.not_between_or_equal_to(y, z)`|Is less than y or greater than |\n",
    "|`are.not_contained_in(superstring)`|A string that is not contained within the superstrin|\n",
    "|`are.not_containing(substring)`|A string that does not contain substrin|\n",
    "|`are.not_equal_to(y)`|Is not equal to |\n",
    "|`are.not_strictly_between(y, z)`|Is equal to y or equal to z or less than y or greater than |\n",
    "|`are.strictly_between(y, z)`|Greater than y and less than z|"
   ]
  },
  {
   "cell_type": "markdown",
   "metadata": {
    "slideshow": {
     "slide_type": "slide"
    }
   },
   "source": [
    "## Example\n",
    "\n",
    "Get LeBron's row."
   ]
  },
  {
   "cell_type": "code",
   "execution_count": 7,
   "metadata": {},
   "outputs": [
    {
     "data": {
      "text/html": [
       "<table border=\"1\" class=\"dataframe\">\n",
       "    <thead>\n",
       "        <tr>\n",
       "            <th>PLAYER</th> <th>POSITION</th> <th>TEAM</th> <th>'15-'16 SALARY</th>\n",
       "        </tr>\n",
       "    </thead>\n",
       "    <tbody>\n",
       "        <tr>\n",
       "            <td>LeBron James</td> <td>SF      </td> <td>Cleveland Cavaliers</td> <td>22.9705       </td>\n",
       "        </tr>\n",
       "    </tbody>\n",
       "</table>"
      ],
      "text/plain": [
       "PLAYER       | POSITION | TEAM                | '15-'16 SALARY\n",
       "LeBron James | SF       | Cleveland Cavaliers | 22.9705"
      ]
     },
     "execution_count": 7,
     "metadata": {},
     "output_type": "execute_result"
    }
   ],
   "source": [
    "nba.where('PLAYER', are.equal_to('LeBron James'))"
   ]
  },
  {
   "cell_type": "code",
   "execution_count": 12,
   "metadata": {},
   "outputs": [
    {
     "data": {
      "text/plain": [
       "'LeBron James'"
      ]
     },
     "execution_count": 12,
     "metadata": {},
     "output_type": "execute_result"
    }
   ],
   "source": [
    "a=nba['PLAYER']="
   ]
  },
  {
   "cell_type": "markdown",
   "metadata": {
    "slideshow": {
     "slide_type": "fragment"
    }
   },
   "source": [
    "`are.equal_to` is the default behavior:"
   ]
  },
  {
   "cell_type": "code",
   "execution_count": 13,
   "metadata": {},
   "outputs": [
    {
     "data": {
      "text/html": [
       "<table border=\"1\" class=\"dataframe\">\n",
       "    <thead>\n",
       "        <tr>\n",
       "            <th>PLAYER</th> <th>POSITION</th> <th>TEAM</th> <th>'15-'16 SALARY</th>\n",
       "        </tr>\n",
       "    </thead>\n",
       "    <tbody>\n",
       "        <tr>\n",
       "            <td>LeBron James</td> <td>PF      </td> <td>Atlanta Hawks</td> <td>18.6717       </td>\n",
       "        </tr>\n",
       "        <tr>\n",
       "            <td>LeBron James</td> <td>C       </td> <td>Atlanta Hawks</td> <td>12            </td>\n",
       "        </tr>\n",
       "        <tr>\n",
       "            <td>LeBron James</td> <td>C       </td> <td>Atlanta Hawks</td> <td>9.75625       </td>\n",
       "        </tr>\n",
       "        <tr>\n",
       "            <td>LeBron James</td> <td>PG      </td> <td>Atlanta Hawks</td> <td>8             </td>\n",
       "        </tr>\n",
       "        <tr>\n",
       "            <td>LeBron James</td> <td>SG      </td> <td>Atlanta Hawks</td> <td>5.74648       </td>\n",
       "        </tr>\n",
       "        <tr>\n",
       "            <td>LeBron James</td> <td>SF      </td> <td>Atlanta Hawks</td> <td>4             </td>\n",
       "        </tr>\n",
       "        <tr>\n",
       "            <td>LeBron James</td> <td>PF      </td> <td>Atlanta Hawks</td> <td>3.33333       </td>\n",
       "        </tr>\n",
       "        <tr>\n",
       "            <td>LeBron James</td> <td>SF      </td> <td>Atlanta Hawks</td> <td>2             </td>\n",
       "        </tr>\n",
       "        <tr>\n",
       "            <td>LeBron James</td> <td>PG      </td> <td>Atlanta Hawks</td> <td>1.7634        </td>\n",
       "        </tr>\n",
       "        <tr>\n",
       "            <td>LeBron James</td> <td>SG      </td> <td>Atlanta Hawks</td> <td>1.30452       </td>\n",
       "        </tr>\n",
       "    </tbody>\n",
       "</table>\n",
       "<p>... (407 rows omitted)</p>"
      ],
      "text/plain": [
       "PLAYER       | POSITION | TEAM          | '15-'16 SALARY\n",
       "LeBron James | PF       | Atlanta Hawks | 18.6717\n",
       "LeBron James | C        | Atlanta Hawks | 12\n",
       "LeBron James | C        | Atlanta Hawks | 9.75625\n",
       "LeBron James | PG       | Atlanta Hawks | 8\n",
       "LeBron James | SG       | Atlanta Hawks | 5.74648\n",
       "LeBron James | SF       | Atlanta Hawks | 4\n",
       "LeBron James | PF       | Atlanta Hawks | 3.33333\n",
       "LeBron James | SF       | Atlanta Hawks | 2\n",
       "LeBron James | PG       | Atlanta Hawks | 1.7634\n",
       "LeBron James | SG       | Atlanta Hawks | 1.30452\n",
       "... (407 rows omitted)"
      ]
     },
     "execution_count": 13,
     "metadata": {},
     "output_type": "execute_result"
    }
   ],
   "source": [
    "nba.where('PLAYER', 'LeBron James')"
   ]
  },
  {
   "cell_type": "markdown",
   "metadata": {
    "slideshow": {
     "slide_type": "slide"
    }
   },
   "source": [
    "## Example\n",
    "\n",
    "Grab all players with a salary between 5 and 6 million."
   ]
  },
  {
   "cell_type": "code",
   "execution_count": 18,
   "metadata": {},
   "outputs": [
    {
     "data": {
      "text/html": [
       "<table border=\"1\" class=\"dataframe\">\n",
       "    <thead>\n",
       "        <tr>\n",
       "            <th>PLAYER</th> <th>POSITION</th> <th>TEAM</th> <th>'15-'16 SALARY</th>\n",
       "        </tr>\n",
       "    </thead>\n",
       "    <tbody>\n",
       "        <tr>\n",
       "            <td>LeBron James</td> <td>SG      </td> <td>Atlanta Hawks         </td> <td>5.74648       </td>\n",
       "        </tr>\n",
       "        <tr>\n",
       "            <td>LeBron James</td> <td>PF      </td> <td>Boston Celtics        </td> <td>5             </td>\n",
       "        </tr>\n",
       "        <tr>\n",
       "            <td>LeBron James</td> <td>SG      </td> <td>Charlotte Hornets     </td> <td>5.675         </td>\n",
       "        </tr>\n",
       "        <tr>\n",
       "            <td>LeBron James</td> <td>PF      </td> <td>Chicago Bulls         </td> <td>5.54373       </td>\n",
       "        </tr>\n",
       "        <tr>\n",
       "            <td>LeBron James</td> <td>PG      </td> <td>Dallas Mavericks      </td> <td>5.37897       </td>\n",
       "        </tr>\n",
       "        <tr>\n",
       "            <td>LeBron James</td> <td>C       </td> <td>Dallas Mavericks      </td> <td>5.2           </td>\n",
       "        </tr>\n",
       "        <tr>\n",
       "            <td>LeBron James</td> <td>C       </td> <td>Denver Nuggets        </td> <td>5.6135        </td>\n",
       "        </tr>\n",
       "        <tr>\n",
       "            <td>LeBron James</td> <td>PG      </td> <td>Golden State Warriors </td> <td>5.54373       </td>\n",
       "        </tr>\n",
       "        <tr>\n",
       "            <td>LeBron James</td> <td>SF      </td> <td>Indiana Pacers        </td> <td>5             </td>\n",
       "        </tr>\n",
       "        <tr>\n",
       "            <td>LeBron James</td> <td>SG      </td> <td>Los Angeles Clippers  </td> <td>5.675         </td>\n",
       "        </tr>\n",
       "        <tr>\n",
       "            <td>LeBron James</td> <td>SF      </td> <td>Los Angeles Lakers    </td> <td>5.21917       </td>\n",
       "        </tr>\n",
       "        <tr>\n",
       "            <td>LeBron James</td> <td>PG      </td> <td>Los Angeles Lakers    </td> <td>5.10312       </td>\n",
       "        </tr>\n",
       "        <tr>\n",
       "            <td>LeBron James</td> <td>PF      </td> <td>Memphis Grizzlies     </td> <td>5.464         </td>\n",
       "        </tr>\n",
       "        <tr>\n",
       "            <td>LeBron James</td> <td>SG      </td> <td>Memphis Grizzlies     </td> <td>5.15854       </td>\n",
       "        </tr>\n",
       "        <tr>\n",
       "            <td>LeBron James</td> <td>PF      </td> <td>Memphis Grizzlies     </td> <td>5             </td>\n",
       "        </tr>\n",
       "        <tr>\n",
       "            <td>LeBron James</td> <td>PF      </td> <td>Miami Heat            </td> <td>5.54373       </td>\n",
       "        </tr>\n",
       "        <tr>\n",
       "            <td>LeBron James</td> <td>PF      </td> <td>Milwaukee Bucks       </td> <td>5.15244       </td>\n",
       "        </tr>\n",
       "        <tr>\n",
       "            <td>LeBron James</td> <td>SG      </td> <td>Minnesota Timberwolves</td> <td>5.75868       </td>\n",
       "        </tr>\n",
       "        <tr>\n",
       "            <td>LeBron James</td> <td>C       </td> <td>Minnesota Timberwolves</td> <td>5.7036        </td>\n",
       "        </tr>\n",
       "        <tr>\n",
       "            <td>LeBron James</td> <td>SG      </td> <td>Oklahoma City Thunder </td> <td>5.13843       </td>\n",
       "        </tr>\n",
       "        <tr>\n",
       "            <td>LeBron James</td> <td>SG      </td> <td>Orlando Magic         </td> <td>5.19252       </td>\n",
       "        </tr>\n",
       "        <tr>\n",
       "            <td>LeBron James</td> <td>PF      </td> <td>Phoenix Suns          </td> <td>5.5           </td>\n",
       "        </tr>\n",
       "        <tr>\n",
       "            <td>LeBron James</td> <td>SF      </td> <td>Phoenix Suns          </td> <td>5.5           </td>\n",
       "        </tr>\n",
       "        <tr>\n",
       "            <td>LeBron James</td> <td>C       </td> <td>Portland Trail Blazers</td> <td>5.016         </td>\n",
       "        </tr>\n",
       "        <tr>\n",
       "            <td>LeBron James</td> <td>PG      </td> <td>Sacramento Kings      </td> <td>5.01356       </td>\n",
       "        </tr>\n",
       "        <tr>\n",
       "            <td>LeBron James</td> <td>C       </td> <td>San Antonio Spurs     </td> <td>5.25          </td>\n",
       "        </tr>\n",
       "        <tr>\n",
       "            <td>LeBron James</td> <td>SG      </td> <td>Washington Wizards    </td> <td>5.69467       </td>\n",
       "        </tr>\n",
       "        <tr>\n",
       "            <td>LeBron James</td> <td>SF      </td> <td>Washington Wizards    </td> <td>5.6135        </td>\n",
       "        </tr>\n",
       "    </tbody>\n",
       "</table>"
      ],
      "text/plain": [
       "<IPython.core.display.HTML object>"
      ]
     },
     "metadata": {},
     "output_type": "display_data"
    }
   ],
   "source": [
    "nba.where(\"'15-'16 SALARY\", are.between(5, 6)).show()"
   ]
  },
  {
   "cell_type": "markdown",
   "metadata": {
    "slideshow": {
     "slide_type": "slide"
    }
   },
   "source": [
    "## Example\n",
    "\n",
    "Grab all of the players from Los Angeles ."
   ]
  },
  {
   "cell_type": "code",
   "execution_count": 15,
   "metadata": {},
   "outputs": [
    {
     "data": {
      "text/html": [
       "<table border=\"1\" class=\"dataframe\">\n",
       "    <thead>\n",
       "        <tr>\n",
       "            <th>PLAYER</th> <th>POSITION</th> <th>TEAM</th> <th>'15-'16 SALARY</th>\n",
       "        </tr>\n",
       "    </thead>\n",
       "    <tbody>\n",
       "        <tr>\n",
       "            <td>LeBron James</td> <td>PG      </td> <td>Los Angeles Clippers</td> <td>21.4687       </td>\n",
       "        </tr>\n",
       "        <tr>\n",
       "            <td>LeBron James</td> <td>PF      </td> <td>Los Angeles Clippers</td> <td>18.9077       </td>\n",
       "        </tr>\n",
       "        <tr>\n",
       "            <td>LeBron James</td> <td>SG      </td> <td>Los Angeles Clippers</td> <td>7.085         </td>\n",
       "        </tr>\n",
       "        <tr>\n",
       "            <td>LeBron James</td> <td>SG      </td> <td>Los Angeles Clippers</td> <td>5.675         </td>\n",
       "        </tr>\n",
       "        <tr>\n",
       "            <td>LeBron James</td> <td>SF      </td> <td>Los Angeles Clippers</td> <td>3.376         </td>\n",
       "        </tr>\n",
       "        <tr>\n",
       "            <td>LeBron James</td> <td>PG      </td> <td>Los Angeles Clippers</td> <td>3.1108        </td>\n",
       "        </tr>\n",
       "        <tr>\n",
       "            <td>LeBron James</td> <td>SG      </td> <td>Los Angeles Clippers</td> <td>1.15968       </td>\n",
       "        </tr>\n",
       "        <tr>\n",
       "            <td>LeBron James</td> <td>C       </td> <td>Los Angeles Clippers</td> <td>1.1006        </td>\n",
       "        </tr>\n",
       "        <tr>\n",
       "            <td>LeBron James</td> <td>SF      </td> <td>Los Angeles Clippers</td> <td>1.1006        </td>\n",
       "        </tr>\n",
       "        <tr>\n",
       "            <td>LeBron James</td> <td>SG      </td> <td>Los Angeles Clippers</td> <td>1.01542       </td>\n",
       "        </tr>\n",
       "        <tr>\n",
       "            <td>LeBron James</td> <td>SG      </td> <td>Los Angeles Clippers</td> <td>1.01542       </td>\n",
       "        </tr>\n",
       "        <tr>\n",
       "            <td>LeBron James</td> <td>PG      </td> <td>Los Angeles Clippers</td> <td>0.947726      </td>\n",
       "        </tr>\n",
       "        <tr>\n",
       "            <td>LeBron James</td> <td>PF      </td> <td>Los Angeles Clippers</td> <td>0.111444      </td>\n",
       "        </tr>\n",
       "        <tr>\n",
       "            <td>LeBron James</td> <td>SF      </td> <td>Los Angeles Lakers  </td> <td>25            </td>\n",
       "        </tr>\n",
       "        <tr>\n",
       "            <td>LeBron James</td> <td>C       </td> <td>Los Angeles Lakers  </td> <td>15.5922       </td>\n",
       "        </tr>\n",
       "    </tbody>\n",
       "</table>\n",
       "<p>... (9 rows omitted)</p>"
      ],
      "text/plain": [
       "<IPython.core.display.HTML object>"
      ]
     },
     "metadata": {},
     "output_type": "display_data"
    }
   ],
   "source": [
    "nba.where('TEAM', are.containing('Los Angeles')).show(15)"
   ]
  },
  {
   "cell_type": "markdown",
   "metadata": {
    "slideshow": {
     "slide_type": "slide"
    }
   },
   "source": [
    "## Example\n",
    "\n",
    "Find all teammates of LeBron James."
   ]
  },
  {
   "cell_type": "code",
   "execution_count": 24,
   "metadata": {},
   "outputs": [
    {
     "data": {
      "text/plain": [
       "array([], dtype='<U12')"
      ]
     },
     "execution_count": 24,
     "metadata": {},
     "output_type": "execute_result"
    }
   ],
   "source": [
    "lebron = nba.where('PLAYER', 'LeBron James')# make table with just LeBron's row\n",
    "team = lebron.column('TEAM').item(0)# extract his team name\n",
    "lebrons_teammates = nba.where('TEAM', team).where('PLAYER', are.not_equal_to('LeBron James'))\n",
    "lebrons_teammates  # make table with just his teammates"
   ]
  },
  {
   "cell_type": "code",
   "execution_count": 27,
   "metadata": {},
   "outputs": [
    {
     "data": {
      "text/html": [
       "<table border=\"1\" class=\"dataframe\">\n",
       "    <thead>\n",
       "        <tr>\n",
       "            <th>PLAYER</th> <th>POSITION</th> <th>TEAM</th> <th>'15-'16 SALARY</th>\n",
       "        </tr>\n",
       "    </thead>\n",
       "    <tbody>\n",
       "        <tr>\n",
       "            <td>LeBron James</td> <td>PF      </td> <td>Atlanta Hawks</td> <td>18.6717       </td>\n",
       "        </tr>\n",
       "        <tr>\n",
       "            <td>LeBron James</td> <td>C       </td> <td>Atlanta Hawks</td> <td>12            </td>\n",
       "        </tr>\n",
       "        <tr>\n",
       "            <td>LeBron James</td> <td>C       </td> <td>Atlanta Hawks</td> <td>9.75625       </td>\n",
       "        </tr>\n",
       "        <tr>\n",
       "            <td>LeBron James</td> <td>PG      </td> <td>Atlanta Hawks</td> <td>8             </td>\n",
       "        </tr>\n",
       "        <tr>\n",
       "            <td>LeBron James</td> <td>SG      </td> <td>Atlanta Hawks</td> <td>5.74648       </td>\n",
       "        </tr>\n",
       "        <tr>\n",
       "            <td>LeBron James</td> <td>SF      </td> <td>Atlanta Hawks</td> <td>4             </td>\n",
       "        </tr>\n",
       "        <tr>\n",
       "            <td>LeBron James</td> <td>PF      </td> <td>Atlanta Hawks</td> <td>3.33333       </td>\n",
       "        </tr>\n",
       "        <tr>\n",
       "            <td>LeBron James</td> <td>SF      </td> <td>Atlanta Hawks</td> <td>2             </td>\n",
       "        </tr>\n",
       "        <tr>\n",
       "            <td>LeBron James</td> <td>PG      </td> <td>Atlanta Hawks</td> <td>1.7634        </td>\n",
       "        </tr>\n",
       "        <tr>\n",
       "            <td>LeBron James</td> <td>SG      </td> <td>Atlanta Hawks</td> <td>1.30452       </td>\n",
       "        </tr>\n",
       "    </tbody>\n",
       "</table>\n",
       "<p>... (407 rows omitted)</p>"
      ],
      "text/plain": [
       "PLAYER       | POSITION | TEAM          | '15-'16 SALARY\n",
       "LeBron James | PF       | Atlanta Hawks | 18.6717\n",
       "LeBron James | C        | Atlanta Hawks | 12\n",
       "LeBron James | C        | Atlanta Hawks | 9.75625\n",
       "LeBron James | PG       | Atlanta Hawks | 8\n",
       "LeBron James | SG       | Atlanta Hawks | 5.74648\n",
       "LeBron James | SF       | Atlanta Hawks | 4\n",
       "LeBron James | PF       | Atlanta Hawks | 3.33333\n",
       "LeBron James | SF       | Atlanta Hawks | 2\n",
       "LeBron James | PG       | Atlanta Hawks | 1.7634\n",
       "LeBron James | SG       | Atlanta Hawks | 1.30452\n",
       "... (407 rows omitted)"
      ]
     },
     "execution_count": 27,
     "metadata": {},
     "output_type": "execute_result"
    }
   ],
   "source": [
    "lebron"
   ]
  },
  {
   "cell_type": "markdown",
   "metadata": {
    "slideshow": {
     "slide_type": "slide"
    }
   },
   "source": [
    "## Example\n",
    "\n",
    "Create an array containing the names of all point guards (PG) who made more than 15 million dollars.\n"
   ]
  },
  {
   "cell_type": "code",
   "execution_count": 25,
   "metadata": {},
   "outputs": [
    {
     "data": {
      "text/html": [
       "<table border=\"1\" class=\"dataframe\">\n",
       "    <thead>\n",
       "        <tr>\n",
       "            <th>PLAYER</th> <th>POSITION</th> <th>TEAM</th> <th>'15-'16 SALARY</th>\n",
       "        </tr>\n",
       "    </thead>\n",
       "    <tbody>\n",
       "        <tr>\n",
       "            <td>LeBron James</td> <td>PG      </td> <td>Chicago Bulls        </td> <td>20.0931       </td>\n",
       "        </tr>\n",
       "        <tr>\n",
       "            <td>LeBron James</td> <td>PG      </td> <td>Cleveland Cavaliers  </td> <td>16.4075       </td>\n",
       "        </tr>\n",
       "        <tr>\n",
       "            <td>LeBron James</td> <td>PG      </td> <td>Los Angeles Clippers </td> <td>21.4687       </td>\n",
       "        </tr>\n",
       "        <tr>\n",
       "            <td>LeBron James</td> <td>PG      </td> <td>Oklahoma City Thunder</td> <td>16.7442       </td>\n",
       "        </tr>\n",
       "        <tr>\n",
       "            <td>LeBron James</td> <td>PG      </td> <td>Washington Wizards   </td> <td>15.852        </td>\n",
       "        </tr>\n",
       "    </tbody>\n",
       "</table>"
      ],
      "text/plain": [
       "PLAYER       | POSITION | TEAM                  | '15-'16 SALARY\n",
       "LeBron James | PG       | Chicago Bulls         | 20.0931\n",
       "LeBron James | PG       | Cleveland Cavaliers   | 16.4075\n",
       "LeBron James | PG       | Los Angeles Clippers  | 21.4687\n",
       "LeBron James | PG       | Oklahoma City Thunder | 16.7442\n",
       "LeBron James | PG       | Washington Wizards    | 15.852"
      ]
     },
     "execution_count": 25,
     "metadata": {},
     "output_type": "execute_result"
    }
   ],
   "source": [
    "nba.where(3, are.above(15)).where('POSITION', 'PG')"
   ]
  },
  {
   "cell_type": "markdown",
   "metadata": {
    "slideshow": {
     "slide_type": "slide"
    }
   },
   "source": [
    "## Predicates are functions!"
   ]
  },
  {
   "cell_type": "code",
   "execution_count": 64,
   "metadata": {},
   "outputs": [],
   "source": [
    "# this creates a new function, f\n",
    "f = are.above(30)"
   ]
  },
  {
   "cell_type": "code",
   "execution_count": null,
   "metadata": {},
   "outputs": [],
   "source": [
    "f(31)"
   ]
  },
  {
   "cell_type": "code",
   "execution_count": null,
   "metadata": {},
   "outputs": [],
   "source": [
    "f(29)"
   ]
  },
  {
   "cell_type": "markdown",
   "metadata": {
    "slideshow": {
     "slide_type": "slide"
    }
   },
   "source": [
    "## Looking ahead: creating own predicates"
   ]
  },
  {
   "cell_type": "markdown",
   "metadata": {},
   "source": [
    "In Python, as in most languages, you can create your own functions."
   ]
  },
  {
   "cell_type": "code",
   "execution_count": 67,
   "metadata": {},
   "outputs": [],
   "source": [
    "#: we can define our own predicates...\n",
    "def name_is_20_or_more_letters(name):\n",
    "    return len(name) >= 20"
   ]
  },
  {
   "cell_type": "code",
   "execution_count": null,
   "metadata": {},
   "outputs": [],
   "source": [
    "nba.where('PLAYER', name_is_20_or_more_letters)"
   ]
  },
  {
   "cell_type": "markdown",
   "metadata": {
    "slideshow": {
     "slide_type": "slide"
    }
   },
   "source": [
    "# Discussion Question\n",
    "\n",
    "`.with_row()` works like `.with_column()`, except you give a *list* of row entries. \n",
    "\n",
    "The table `nba` has columns `PLAYER`, `POSITION`, `TEAM`, `SALARY`. What is the output when we execute a cell containing these two lines of code?\n",
    "\n",
    "```\n",
    "nba.with_row(['Jazz Bear', 'Mascot', 'Utah Jazz', 100])\n",
    "nba.where('PLAYER', are.containing('Bear'))\n",
    "```\n",
    "\n",
    "A. A table with one row for Jazz Bear  \n",
    "B. An empty table with no rows  \n",
    "C. An error message"
   ]
  },
  {
   "cell_type": "code",
   "execution_count": 70,
   "metadata": {
    "slideshow": {
     "slide_type": "slide"
    }
   },
   "outputs": [
    {
     "data": {
      "text/html": [
       "<table border=\"1\" class=\"dataframe\">\n",
       "    <thead>\n",
       "        <tr>\n",
       "            <th>PLAYER</th> <th>POSITION</th> <th>TEAM</th> <th>'15-'16 SALARY</th>\n",
       "        </tr>\n",
       "    </thead>\n",
       "    <tbody>\n",
       "        <tr>\n",
       "            <td>Jazz Bear</td> <td>Mascot  </td> <td>Utah Jazz</td> <td>100           </td>\n",
       "        </tr>\n",
       "    </tbody>\n",
       "</table>"
      ],
      "text/plain": [
       "PLAYER    | POSITION | TEAM      | '15-'16 SALARY\n",
       "Jazz Bear | Mascot   | Utah Jazz | 100"
      ]
     },
     "execution_count": 70,
     "metadata": {},
     "output_type": "execute_result"
    }
   ],
   "source": [
    "nba = nba.with_row(['Jazz Bear', 'Mascot', 'Utah Jazz', 100])\n",
    "nba.where('PLAYER', are.containing('Bear'))"
   ]
  },
  {
   "cell_type": "markdown",
   "metadata": {
    "slideshow": {
     "slide_type": "slide"
    }
   },
   "source": [
    "<center><img src=\"summary2.png\"  width=\"800\"/></center>"
   ]
  },
  {
   "cell_type": "markdown",
   "metadata": {
    "slideshow": {
     "slide_type": "slide"
    }
   },
   "source": [
    "# Practice: Census data\n",
    "\n",
    "- Every ten years, the U.S. Census Bureau counts the number of people in the U.S.\n",
    "- On other years, the bureau *estimates* the population\n",
    "- Data is published online"
   ]
  },
  {
   "cell_type": "code",
   "execution_count": 29,
   "metadata": {},
   "outputs": [
    {
     "data": {
      "text/html": [
       "<table border=\"1\" class=\"dataframe\">\n",
       "    <thead>\n",
       "        <tr>\n",
       "            <th>SEX</th> <th>AGE</th> <th>CENSUS2010POP</th> <th>ESTIMATESBASE2010</th> <th>POPESTIMATE2010</th> <th>POPESTIMATE2011</th> <th>POPESTIMATE2012</th> <th>POPESTIMATE2013</th> <th>POPESTIMATE2014</th> <th>POPESTIMATE2015</th>\n",
       "        </tr>\n",
       "    </thead>\n",
       "    <tbody>\n",
       "        <tr>\n",
       "            <td>0   </td> <td>0   </td> <td>3944153      </td> <td>3944160          </td> <td>3951330        </td> <td>3963087        </td> <td>3926540        </td> <td>3931141        </td> <td>3949775        </td> <td>3978038        </td>\n",
       "        </tr>\n",
       "        <tr>\n",
       "            <td>0   </td> <td>1   </td> <td>3978070      </td> <td>3978090          </td> <td>3957888        </td> <td>3966551        </td> <td>3977939        </td> <td>3942872        </td> <td>3949776        </td> <td>3968564        </td>\n",
       "        </tr>\n",
       "        <tr>\n",
       "            <td>0   </td> <td>2   </td> <td>4096929      </td> <td>4096939          </td> <td>4090862        </td> <td>3971565        </td> <td>3980095        </td> <td>3992720        </td> <td>3959664        </td> <td>3966583        </td>\n",
       "        </tr>\n",
       "        <tr>\n",
       "            <td>0   </td> <td>3   </td> <td>4119040      </td> <td>4119051          </td> <td>4111920        </td> <td>4102470        </td> <td>3983157        </td> <td>3992734        </td> <td>4007079        </td> <td>3974061        </td>\n",
       "        </tr>\n",
       "        <tr>\n",
       "            <td>0   </td> <td>4   </td> <td>4063170      </td> <td>4063186          </td> <td>4077551        </td> <td>4122294        </td> <td>4112849        </td> <td>3994449        </td> <td>4005716        </td> <td>4020035        </td>\n",
       "        </tr>\n",
       "        <tr>\n",
       "            <td>0   </td> <td>5   </td> <td>4056858      </td> <td>4056872          </td> <td>4064653        </td> <td>4087709        </td> <td>4132242        </td> <td>4123626        </td> <td>4006900        </td> <td>4018158        </td>\n",
       "        </tr>\n",
       "        <tr>\n",
       "            <td>0   </td> <td>6   </td> <td>4066381      </td> <td>4066412          </td> <td>4073013        </td> <td>4074993        </td> <td>4097605        </td> <td>4142916        </td> <td>4135930        </td> <td>4019207        </td>\n",
       "        </tr>\n",
       "        <tr>\n",
       "            <td>0   </td> <td>7   </td> <td>4030579      </td> <td>4030594          </td> <td>4043046        </td> <td>4083225        </td> <td>4084913        </td> <td>4108349        </td> <td>4155326        </td> <td>4148360        </td>\n",
       "        </tr>\n",
       "        <tr>\n",
       "            <td>0   </td> <td>8   </td> <td>4046486      </td> <td>4046497          </td> <td>4025604        </td> <td>4053203        </td> <td>4093177        </td> <td>4095711        </td> <td>4120903        </td> <td>4167887        </td>\n",
       "        </tr>\n",
       "        <tr>\n",
       "            <td>0   </td> <td>9   </td> <td>4148353      </td> <td>4148369          </td> <td>4125415        </td> <td>4035710        </td> <td>4063152        </td> <td>4104072        </td> <td>4108349        </td> <td>4133564        </td>\n",
       "        </tr>\n",
       "        <tr>\n",
       "            <td>0   </td> <td>10  </td> <td>4172541      </td> <td>4172559          </td> <td>4187062        </td> <td>4135613        </td> <td>4045779        </td> <td>4074111        </td> <td>4116942        </td> <td>4121289        </td>\n",
       "        </tr>\n",
       "        <tr>\n",
       "            <td>0   </td> <td>11  </td> <td>4114415      </td> <td>4114443          </td> <td>4115511        </td> <td>4197472        </td> <td>4146000        </td> <td>4057152        </td> <td>4087402        </td> <td>4130328        </td>\n",
       "        </tr>\n",
       "        <tr>\n",
       "            <td>0   </td> <td>12  </td> <td>4106243      </td> <td>4106261          </td> <td>4113279        </td> <td>4126117        </td> <td>4208009        </td> <td>4157476        </td> <td>4070682        </td> <td>4101021        </td>\n",
       "        </tr>\n",
       "        <tr>\n",
       "            <td>0   </td> <td>13  </td> <td>4118013      </td> <td>4118055          </td> <td>4119666        </td> <td>4124219        </td> <td>4136683        </td> <td>4219594        </td> <td>4171030        </td> <td>4084306        </td>\n",
       "        </tr>\n",
       "        <tr>\n",
       "            <td>0   </td> <td>14  </td> <td>4165982      </td> <td>4166059          </td> <td>4145614        </td> <td>4131501        </td> <td>4135460        </td> <td>4148966        </td> <td>4233839        </td> <td>4185386        </td>\n",
       "        </tr>\n",
       "        <tr>\n",
       "            <td>0   </td> <td>15  </td> <td>4242820      </td> <td>4242946          </td> <td>4231002        </td> <td>4158941        </td> <td>4144019        </td> <td>4149121        </td> <td>4164796        </td> <td>4249742        </td>\n",
       "        </tr>\n",
       "        <tr>\n",
       "            <td>0   </td> <td>16  </td> <td>4316139      </td> <td>4316311          </td> <td>4313252        </td> <td>4247444        </td> <td>4174379        </td> <td>4160892        </td> <td>4168559        </td> <td>4184296        </td>\n",
       "        </tr>\n",
       "        <tr>\n",
       "            <td>0   </td> <td>17  </td> <td>4395295      </td> <td>4395475          </td> <td>4376367        </td> <td>4334976        </td> <td>4268074        </td> <td>4196841        </td> <td>4186513        </td> <td>4194286        </td>\n",
       "        </tr>\n",
       "        <tr>\n",
       "            <td>0   </td> <td>18  </td> <td>4500855      </td> <td>4501114          </td> <td>4491005        </td> <td>4402578        </td> <td>4359870        </td> <td>4295311        </td> <td>4227920        </td> <td>4217995        </td>\n",
       "        </tr>\n",
       "        <tr>\n",
       "            <td>0   </td> <td>19  </td> <td>4585234      </td> <td>4585701          </td> <td>4571411        </td> <td>4520659        </td> <td>4430212        </td> <td>4388983        </td> <td>4329038        </td> <td>4262584        </td>\n",
       "        </tr>\n",
       "        <tr>\n",
       "            <td>0   </td> <td>20  </td> <td>4519129      </td> <td>4519556          </td> <td>4568517        </td> <td>4600425        </td> <td>4549989        </td> <td>4458717        </td> <td>4421330        </td> <td>4363440        </td>\n",
       "        </tr>\n",
       "        <tr>\n",
       "            <td>0   </td> <td>21  </td> <td>4354294      </td> <td>4354603          </td> <td>4387956        </td> <td>4596166        </td> <td>4632892        </td> <td>4580130        </td> <td>4492373        </td> <td>4456790        </td>\n",
       "        </tr>\n",
       "        <tr>\n",
       "            <td>0   </td> <td>22  </td> <td>4264642      </td> <td>4264946          </td> <td>4287005        </td> <td>4415300        </td> <td>4628459        </td> <td>4665965        </td> <td>4615729        </td> <td>4529472        </td>\n",
       "        </tr>\n",
       "        <tr>\n",
       "            <td>0   </td> <td>23  </td> <td>4198571      </td> <td>4198859          </td> <td>4217228        </td> <td>4314771        </td> <td>4446836        </td> <td>4660804        </td> <td>4702156        </td> <td>4652266        </td>\n",
       "        </tr>\n",
       "        <tr>\n",
       "            <td>0   </td> <td>24  </td> <td>4249363      </td> <td>4249609          </td> <td>4243602        </td> <td>4244555        </td> <td>4345405        </td> <td>4477806        </td> <td>4695411        </td> <td>4737345        </td>\n",
       "        </tr>\n",
       "        <tr>\n",
       "            <td>0   </td> <td>25  </td> <td>4262350      </td> <td>4262583          </td> <td>4289428        </td> <td>4269914        </td> <td>4274505        </td> <td>4375341        </td> <td>4511370        </td> <td>4729564        </td>\n",
       "        </tr>\n",
       "        <tr>\n",
       "            <td>0   </td> <td>26  </td> <td>4152305      </td> <td>4152598          </td> <td>4160806        </td> <td>4313743        </td> <td>4298276        </td> <td>4303348        </td> <td>4408043        </td> <td>4544416        </td>\n",
       "        </tr>\n",
       "        <tr>\n",
       "            <td>0   </td> <td>27  </td> <td>4248869      </td> <td>4249132          </td> <td>4237026        </td> <td>4183423        </td> <td>4340058        </td> <td>4325959        </td> <td>4334806        </td> <td>4439766        </td>\n",
       "        </tr>\n",
       "        <tr>\n",
       "            <td>0   </td> <td>28  </td> <td>4215249      </td> <td>4215502          </td> <td>4247541        </td> <td>4258087        </td> <td>4207400        </td> <td>4364997        </td> <td>4355240        </td> <td>4364669        </td>\n",
       "        </tr>\n",
       "        <tr>\n",
       "            <td>0   </td> <td>29  </td> <td>4223076      </td> <td>4223292          </td> <td>4210286        </td> <td>4266544        </td> <td>4280262        </td> <td>4230388        </td> <td>4391788        </td> <td>4383139        </td>\n",
       "        </tr>\n",
       "        <tr>\n",
       "            <td>0   </td> <td>30  </td> <td>4285668      </td> <td>4285877          </td> <td>4304239        </td> <td>4227388        </td> <td>4286351        </td> <td>4301333        </td> <td>4255334        </td> <td>4417209        </td>\n",
       "        </tr>\n",
       "        <tr>\n",
       "            <td>0   </td> <td>31  </td> <td>3970218      </td> <td>3970416          </td> <td>4042516        </td> <td>4319518        </td> <td>4244957        </td> <td>4304735        </td> <td>4323217        </td> <td>4278233        </td>\n",
       "        </tr>\n",
       "        <tr>\n",
       "            <td>0   </td> <td>32  </td> <td>3986847      </td> <td>3987041          </td> <td>3967602        </td> <td>4055945        </td> <td>4335012        </td> <td>4261440        </td> <td>4323951        </td> <td>4343614        </td>\n",
       "        </tr>\n",
       "        <tr>\n",
       "            <td>0   </td> <td>33  </td> <td>3880150      </td> <td>3880318          </td> <td>3933581        </td> <td>3979999        </td> <td>4069367        </td> <td>4349412        </td> <td>4278664        </td> <td>4341754        </td>\n",
       "        </tr>\n",
       "        <tr>\n",
       "            <td>0   </td> <td>34  </td> <td>3839216      </td> <td>3839372          </td> <td>3822189        </td> <td>3944594        </td> <td>3992461        </td> <td>4081963        </td> <td>4364748        </td> <td>4294838        </td>\n",
       "        </tr>\n",
       "        <tr>\n",
       "            <td>0   </td> <td>35  </td> <td>3956434      </td> <td>3956625          </td> <td>3948335        </td> <td>3832507        </td> <td>3955953        </td> <td>4004249        </td> <td>4095782        </td> <td>4379404        </td>\n",
       "        </tr>\n",
       "        <tr>\n",
       "            <td>0   </td> <td>36  </td> <td>3802087      </td> <td>3802236          </td> <td>3830199        </td> <td>3957062        </td> <td>3842465        </td> <td>3965855        </td> <td>4016711        </td> <td>4108775        </td>\n",
       "        </tr>\n",
       "        <tr>\n",
       "            <td>0   </td> <td>37  </td> <td>3934445      </td> <td>3934593          </td> <td>3896766        </td> <td>3837775        </td> <td>3965930        </td> <td>3851572        </td> <td>3976750        </td> <td>4028403        </td>\n",
       "        </tr>\n",
       "        <tr>\n",
       "            <td>0   </td> <td>38  </td> <td>4121880      </td> <td>4122089          </td> <td>4080228        </td> <td>3903219        </td> <td>3845592        </td> <td>3973859        </td> <td>3861636        </td> <td>3987141        </td>\n",
       "        </tr>\n",
       "        <tr>\n",
       "            <td>0   </td> <td>39  </td> <td>4364796      </td> <td>4364949          </td> <td>4324463        </td> <td>4085665        </td> <td>3909562        </td> <td>3852500        </td> <td>3982507        </td> <td>3870862        </td>\n",
       "        </tr>\n",
       "        <tr>\n",
       "            <td>0   </td> <td>40  </td> <td>4383274      </td> <td>4383450          </td> <td>4387480        </td> <td>4327667        </td> <td>4090348        </td> <td>3914669        </td> <td>3859395        </td> <td>3989839        </td>\n",
       "        </tr>\n",
       "        <tr>\n",
       "            <td>0   </td> <td>41  </td> <td>4114985      </td> <td>4115155          </td> <td>4163478        </td> <td>4388870        </td> <td>4330376        </td> <td>4093892        </td> <td>3919810        </td> <td>3865228        </td>\n",
       "        </tr>\n",
       "        <tr>\n",
       "            <td>0   </td> <td>42  </td> <td>4076104      </td> <td>4076260          </td> <td>4082712        </td> <td>4163973        </td> <td>4390089        </td> <td>4332009        </td> <td>4097698        </td> <td>3924258        </td>\n",
       "        </tr>\n",
       "        <tr>\n",
       "            <td>0   </td> <td>43  </td> <td>4105105      </td> <td>4105285          </td> <td>4093844        </td> <td>4082407        </td> <td>4164092        </td> <td>4390066        </td> <td>4333850        </td> <td>4100708        </td>\n",
       "        </tr>\n",
       "        <tr>\n",
       "            <td>0   </td> <td>44  </td> <td>4211496      </td> <td>4211684          </td> <td>4178508        </td> <td>4092574        </td> <td>4081644        </td> <td>4163434        </td> <td>4390283        </td> <td>4335165        </td>\n",
       "        </tr>\n",
       "        <tr>\n",
       "            <td>0   </td> <td>45  </td> <td>4508868      </td> <td>4509044          </td> <td>4438559        </td> <td>4175437        </td> <td>4090390        </td> <td>4079456        </td> <td>4162629        </td> <td>4389345        </td>\n",
       "        </tr>\n",
       "        <tr>\n",
       "            <td>0   </td> <td>46  </td> <td>4519761      </td> <td>4519941          </td> <td>4529716        </td> <td>4433561        </td> <td>4171181        </td> <td>4086735        </td> <td>4077151        </td> <td>4160573        </td>\n",
       "        </tr>\n",
       "        <tr>\n",
       "            <td>0   </td> <td>47  </td> <td>4535265      </td> <td>4535450          </td> <td>4535473        </td> <td>4522447        </td> <td>4427056        </td> <td>4165790        </td> <td>4082883        </td> <td>4073685        </td>\n",
       "        </tr>\n",
       "        <tr>\n",
       "            <td>0   </td> <td>48  </td> <td>4538796      </td> <td>4538968          </td> <td>4534663        </td> <td>4525970        </td> <td>4513628        </td> <td>4418987        </td> <td>4159738        </td> <td>4077689        </td>\n",
       "        </tr>\n",
       "        <tr>\n",
       "            <td>0   </td> <td>49  </td> <td>4605901      </td> <td>4606060          </td> <td>4599098        </td> <td>4523285        </td> <td>4515219        </td> <td>4503312        </td> <td>4410246        </td> <td>4152552        </td>\n",
       "        </tr>\n",
       "        <tr>\n",
       "            <td>0   </td> <td>50  </td> <td>4660295      </td> <td>4660457          </td> <td>4646231        </td> <td>4585687        </td> <td>4510749        </td> <td>4502956        </td> <td>4492407        </td> <td>4400288        </td>\n",
       "        </tr>\n",
       "        <tr>\n",
       "            <td>0   </td> <td>51  </td> <td>4464631      </td> <td>4464779          </td> <td>4498974        </td> <td>4631123        </td> <td>4570562        </td> <td>4496079        </td> <td>4489393        </td> <td>4479664        </td>\n",
       "        </tr>\n",
       "        <tr>\n",
       "            <td>0   </td> <td>52  </td> <td>4500846      </td> <td>4500963          </td> <td>4480584        </td> <td>4482225        </td> <td>4613728        </td> <td>4553156        </td> <td>4480188        </td> <td>4474344        </td>\n",
       "        </tr>\n",
       "        <tr>\n",
       "            <td>0   </td> <td>53  </td> <td>4380354      </td> <td>4380489          </td> <td>4439403        </td> <td>4461939        </td> <td>4463445        </td> <td>4594750        </td> <td>4535430        </td> <td>4463494        </td>\n",
       "        </tr>\n",
       "        <tr>\n",
       "            <td>0   </td> <td>54  </td> <td>4291999      </td> <td>4292120          </td> <td>4288447        </td> <td>4418949        </td> <td>4441616        </td> <td>4443259        </td> <td>4574760        </td> <td>4516527        </td>\n",
       "        </tr>\n",
       "        <tr>\n",
       "            <td>0   </td> <td>55  </td> <td>4254709      </td> <td>4254809          </td> <td>4258970        </td> <td>4266666        </td> <td>4396744        </td> <td>4419516        </td> <td>4421856        </td> <td>4553385        </td>\n",
       "        </tr>\n",
       "        <tr>\n",
       "            <td>0   </td> <td>56  </td> <td>4037513      </td> <td>4037601          </td> <td>4093136        </td> <td>4236030        </td> <td>4243306        </td> <td>4372503        </td> <td>4395949        </td> <td>4399120        </td>\n",
       "        </tr>\n",
       "        <tr>\n",
       "            <td>0   </td> <td>57  </td> <td>3936386      </td> <td>3936450          </td> <td>3946518        </td> <td>4069019        </td> <td>4211105        </td> <td>4218041        </td> <td>4347023        </td> <td>4371245        </td>\n",
       "        </tr>\n",
       "        <tr>\n",
       "            <td>0   </td> <td>58  </td> <td>3794928      </td> <td>3795015          </td> <td>3802447        </td> <td>3921219        </td> <td>4043361        </td> <td>4184031        </td> <td>4191360        </td> <td>4320522        </td>\n",
       "        </tr>\n",
       "        <tr>\n",
       "            <td>0   </td> <td>59  </td> <td>3641269      </td> <td>3641349          </td> <td>3694254        </td> <td>3776077        </td> <td>3894584        </td> <td>4015151        </td> <td>4155521        </td> <td>4163670        </td>\n",
       "        </tr>\n",
       "        <tr>\n",
       "            <td>0   </td> <td>60  </td> <td>3621131      </td> <td>3621214          </td> <td>3616721        </td> <td>3667096        </td> <td>3748195        </td> <td>3865421        </td> <td>3985598        </td> <td>4125792        </td>\n",
       "        </tr>\n",
       "        <tr>\n",
       "            <td>0   </td> <td>61  </td> <td>3492596      </td> <td>3492656          </td> <td>3520109        </td> <td>3588440        </td> <td>3637901        </td> <td>3717783        </td> <td>3834367        </td> <td>3954601        </td>\n",
       "        </tr>\n",
       "        <tr>\n",
       "            <td>0   </td> <td>62  </td> <td>3563182      </td> <td>3563260          </td> <td>3495059        </td> <td>3489560        </td> <td>3557636        </td> <td>3605696        </td> <td>3685282        </td> <td>3801935        </td>\n",
       "        </tr>\n",
       "        <tr>\n",
       "            <td>0   </td> <td>63  </td> <td>3483884      </td> <td>3483943          </td> <td>3652167        </td> <td>3461369        </td> <td>3456712        </td> <td>3523650        </td> <td>3571610        </td> <td>3651393        </td>\n",
       "        </tr>\n",
       "        <tr>\n",
       "            <td>0   </td> <td>64  </td> <td>2657131      </td> <td>2657194          </td> <td>2706055        </td> <td>3614375        </td> <td>3425798        </td> <td>3420461        </td> <td>3487559        </td> <td>3536156        </td>\n",
       "        </tr>\n",
       "        <tr>\n",
       "            <td>0   </td> <td>65  </td> <td>2680761      </td> <td>2680815          </td> <td>2678525        </td> <td>2675911        </td> <td>3574749        </td> <td>3387120        </td> <td>3382824        </td> <td>3450043        </td>\n",
       "        </tr>\n",
       "        <tr>\n",
       "            <td>0   </td> <td>66  </td> <td>2639141      </td> <td>2639209          </td> <td>2621335        </td> <td>2646364        </td> <td>2644042        </td> <td>3531521        </td> <td>3347060        </td> <td>3344134        </td>\n",
       "        </tr>\n",
       "        <tr>\n",
       "            <td>0   </td> <td>67  </td> <td>2649365      </td> <td>2649426          </td> <td>2693707        </td> <td>2586302        </td> <td>2612002        </td> <td>2609390        </td> <td>3485241        </td> <td>3304187        </td>\n",
       "        </tr>\n",
       "        <tr>\n",
       "            <td>0   </td> <td>68  </td> <td>2323672      </td> <td>2323736          </td> <td>2359816        </td> <td>2654106        </td> <td>2548669        </td> <td>2574501        </td> <td>2572359        </td> <td>3436357        </td>\n",
       "        </tr>\n",
       "        <tr>\n",
       "            <td>0   </td> <td>69  </td> <td>2142324      </td> <td>2142381          </td> <td>2167830        </td> <td>2321925        </td> <td>2612071        </td> <td>2507744        </td> <td>2534295        </td> <td>2532747        </td>\n",
       "        </tr>\n",
       "        <tr>\n",
       "            <td>0   </td> <td>70  </td> <td>2043121      </td> <td>2043178          </td> <td>2062577        </td> <td>2129707        </td> <td>2282127        </td> <td>2566440        </td> <td>2465438        </td> <td>2492490        </td>\n",
       "        </tr>\n",
       "        <tr>\n",
       "            <td>0   </td> <td>71  </td> <td>1949323      </td> <td>1949391          </td> <td>1953607        </td> <td>2022972        </td> <td>2090119        </td> <td>2238833        </td> <td>2519705        </td> <td>2421191        </td>\n",
       "        </tr>\n",
       "        <tr>\n",
       "            <td>0   </td> <td>72  </td> <td>1864275      </td> <td>1864324          </td> <td>1883820        </td> <td>1912417        </td> <td>1981694        </td> <td>2046698        </td> <td>2193945        </td> <td>2469605        </td>\n",
       "        </tr>\n",
       "        <tr>\n",
       "            <td>0   </td> <td>73  </td> <td>1736960      </td> <td>1737022          </td> <td>1750304        </td> <td>1840167        </td> <td>1869373        </td> <td>1936421        </td> <td>2001700        </td> <td>2146052        </td>\n",
       "        </tr>\n",
       "        <tr>\n",
       "            <td>0   </td> <td>74  </td> <td>1684487      </td> <td>1684563          </td> <td>1685995        </td> <td>1705634        </td> <td>1794659        </td> <td>1822287        </td> <td>1889513        </td> <td>1953711        </td>\n",
       "        </tr>\n",
       "        <tr>\n",
       "            <td>0   </td> <td>75  </td> <td>1620077      </td> <td>1620158          </td> <td>1631878        </td> <td>1638711        </td> <td>1659254        </td> <td>1745063        </td> <td>1773756        </td> <td>1839823        </td>\n",
       "        </tr>\n",
       "        <tr>\n",
       "            <td>0   </td> <td>76  </td> <td>1471070      </td> <td>1471157          </td> <td>1481680        </td> <td>1581369        </td> <td>1589520        </td> <td>1608544        </td> <td>1693674        </td> <td>1722041        </td>\n",
       "        </tr>\n",
       "        <tr>\n",
       "            <td>0   </td> <td>77  </td> <td>1455330      </td> <td>1455414          </td> <td>1449173        </td> <td>1430861        </td> <td>1529021        </td> <td>1535823        </td> <td>1556104        </td> <td>1639085        </td>\n",
       "        </tr>\n",
       "        <tr>\n",
       "            <td>0   </td> <td>78  </td> <td>1400123      </td> <td>1400205          </td> <td>1402182        </td> <td>1394591        </td> <td>1378355        </td> <td>1472041        </td> <td>1480611        </td> <td>1500813        </td>\n",
       "        </tr>\n",
       "        <tr>\n",
       "            <td>0   </td> <td>79  </td> <td>1371195      </td> <td>1371312          </td> <td>1354912        </td> <td>1343720        </td> <td>1338220        </td> <td>1321253        </td> <td>1413193        </td> <td>1422071        </td>\n",
       "        </tr>\n",
       "        <tr>\n",
       "            <td>0   </td> <td>80  </td> <td>1308511      </td> <td>1308608          </td> <td>1319725        </td> <td>1292451        </td> <td>1283388        </td> <td>1277015        </td> <td>1262537        </td> <td>1351196        </td>\n",
       "        </tr>\n",
       "        <tr>\n",
       "            <td>0   </td> <td>81  </td> <td>1212865      </td> <td>1212976          </td> <td>1212603        </td> <td>1252491        </td> <td>1228132        </td> <td>1218174        </td> <td>1214357        </td> <td>1201044        </td>\n",
       "        </tr>\n",
       "        <tr>\n",
       "            <td>0   </td> <td>82  </td> <td>1161421      </td> <td>1161546          </td> <td>1158351        </td> <td>1143940        </td> <td>1183585        </td> <td>1158932        </td> <td>1151677        </td> <td>1148948        </td>\n",
       "        </tr>\n",
       "        <tr>\n",
       "            <td>0   </td> <td>83  </td> <td>1074809      </td> <td>1074941          </td> <td>1081440        </td> <td>1085378        </td> <td>1073723        </td> <td>1109508        </td> <td>1088601        </td> <td>1082562        </td>\n",
       "        </tr>\n",
       "        <tr>\n",
       "            <td>0   </td> <td>84  </td> <td>985721       </td> <td>985854           </td> <td>987023         </td> <td>1005421        </td> <td>1011083        </td> <td>998540         </td> <td>1034369        </td> <td>1015591        </td>\n",
       "        </tr>\n",
       "        <tr>\n",
       "            <td>0   </td> <td>85  </td> <td>914723       </td> <td>914871           </td> <td>915013         </td> <td>909434         </td> <td>928705         </td> <td>932175         </td> <td>922947         </td> <td>957023         </td>\n",
       "        </tr>\n",
       "        <tr>\n",
       "            <td>0   </td> <td>86  </td> <td>814211       </td> <td>814341           </td> <td>821549         </td> <td>834977         </td> <td>831965         </td> <td>848046         </td> <td>853723         </td> <td>846081         </td>\n",
       "        </tr>\n",
       "        <tr>\n",
       "            <td>0   </td> <td>87  </td> <td>712908       </td> <td>713046           </td> <td>721196         </td> <td>741551         </td> <td>756097         </td> <td>751513         </td> <td>768676         </td> <td>774639         </td>\n",
       "        </tr>\n",
       "        <tr>\n",
       "            <td>0   </td> <td>88  </td> <td>640619       </td> <td>640765           </td> <td>636657         </td> <td>643266         </td> <td>663786         </td> <td>675235         </td> <td>673402         </td> <td>689755         </td>\n",
       "        </tr>\n",
       "        <tr>\n",
       "            <td>0   </td> <td>89  </td> <td>537998       </td> <td>538160           </td> <td>546193         </td> <td>560099         </td> <td>568661         </td> <td>585180         </td> <td>597828         </td> <td>596847         </td>\n",
       "        </tr>\n",
       "        <tr>\n",
       "            <td>0   </td> <td>90  </td> <td>435563       </td> <td>435695           </td> <td>448324         </td> <td>473878         </td> <td>487975         </td> <td>494402         </td> <td>511074         </td> <td>523034         </td>\n",
       "        </tr>\n",
       "        <tr>\n",
       "            <td>0   </td> <td>91  </td> <td>344987       </td> <td>345128           </td> <td>344442         </td> <td>382670         </td> <td>406898         </td> <td>417343         </td> <td>425314         </td> <td>440318         </td>\n",
       "        </tr>\n",
       "        <tr>\n",
       "            <td>0   </td> <td>92  </td> <td>281389       </td> <td>281498           </td> <td>288841         </td> <td>289272         </td> <td>322982         </td> <td>342490         </td> <td>352912         </td> <td>360659         </td>\n",
       "        </tr>\n",
       "        <tr>\n",
       "            <td>0   </td> <td>93  </td> <td>216978       </td> <td>217087           </td> <td>219064         </td> <td>238076         </td> <td>240184         </td> <td>266668         </td> <td>284885         </td> <td>293806         </td>\n",
       "        </tr>\n",
       "        <tr>\n",
       "            <td>0   </td> <td>94  </td> <td>169449       </td> <td>169525           </td> <td>170775         </td> <td>176696         </td> <td>193865         </td> <td>194920         </td> <td>217328         </td> <td>233118         </td>\n",
       "        </tr>\n",
       "        <tr>\n",
       "            <td>0   </td> <td>95  </td> <td>129717       </td> <td>129792           </td> <td>131077         </td> <td>135065         </td> <td>140683         </td> <td>153970         </td> <td>156288         </td> <td>174011         </td>\n",
       "        </tr>\n",
       "        <tr>\n",
       "            <td>0   </td> <td>96  </td> <td>95223        </td> <td>95288            </td> <td>97161          </td> <td>101261         </td> <td>105420         </td> <td>108964         </td> <td>120485         </td> <td>122887         </td>\n",
       "        </tr>\n",
       "        <tr>\n",
       "            <td>0   </td> <td>97  </td> <td>68138        </td> <td>68168            </td> <td>68893          </td> <td>73274          </td> <td>77156          </td> <td>79953          </td> <td>83089          </td> <td>92377          </td>\n",
       "        </tr>\n",
       "        <tr>\n",
       "            <td>0   </td> <td>98  </td> <td>45900        </td> <td>45938            </td> <td>47037          </td> <td>50670          </td> <td>54509          </td> <td>57015          </td> <td>59726          </td> <td>61991          </td>\n",
       "        </tr>\n",
       "        <tr>\n",
       "            <td>0   </td> <td>99  </td> <td>32266        </td> <td>32289            </td> <td>32178          </td> <td>33636          </td> <td>36779          </td> <td>39271          </td> <td>41468          </td> <td>43641          </td>\n",
       "        </tr>\n",
       "        <tr>\n",
       "            <td>0   </td> <td>100 </td> <td>53364        </td> <td>53412            </td> <td>54410          </td> <td>57702          </td> <td>61821          </td> <td>66189          </td> <td>71626          </td> <td>76974          </td>\n",
       "        </tr>\n",
       "        <tr>\n",
       "            <td>0   </td> <td>999 </td> <td>308745538    </td> <td>308758105        </td> <td>309346863      </td> <td>311718857      </td> <td>314102623      </td> <td>316427395      </td> <td>318907401      </td> <td>321418820      </td>\n",
       "        </tr>\n",
       "        <tr>\n",
       "            <td>1   </td> <td>0   </td> <td>2014276      </td> <td>2014278          </td> <td>2018420        </td> <td>2028427        </td> <td>2007717        </td> <td>2009528        </td> <td>2020326        </td> <td>2035134        </td>\n",
       "        </tr>\n",
       "        <tr>\n",
       "            <td>1   </td> <td>1   </td> <td>2030853      </td> <td>2030861          </td> <td>2020332        </td> <td>2025522        </td> <td>2035460        </td> <td>2015470        </td> <td>2018401        </td> <td>2029295        </td>\n",
       "        </tr>\n",
       "        <tr>\n",
       "            <td>1   </td> <td>2   </td> <td>2092198      </td> <td>2092202          </td> <td>2088685        </td> <td>2026973        </td> <td>2032095        </td> <td>2042649        </td> <td>2023673        </td> <td>2026604        </td>\n",
       "        </tr>\n",
       "        <tr>\n",
       "            <td>1   </td> <td>3   </td> <td>2104550      </td> <td>2104555          </td> <td>2101272        </td> <td>2094296        </td> <td>2032529        </td> <td>2038176        </td> <td>2049596        </td> <td>2030644        </td>\n",
       "        </tr>\n",
       "        <tr>\n",
       "            <td>1   </td> <td>4   </td> <td>2077550      </td> <td>2077556          </td> <td>2084312        </td> <td>2106323        </td> <td>2099309        </td> <td>2038023        </td> <td>2044517        </td> <td>2055924        </td>\n",
       "        </tr>\n",
       "        <tr>\n",
       "            <td>1   </td> <td>5   </td> <td>2072094      </td> <td>2072102          </td> <td>2076573        </td> <td>2089449        </td> <td>2111335        </td> <td>2104755        </td> <td>2044339        </td> <td>2050848        </td>\n",
       "        </tr>\n",
       "        <tr>\n",
       "            <td>1   </td> <td>6   </td> <td>2075319      </td> <td>2075330          </td> <td>2079410        </td> <td>2081827        </td> <td>2094468        </td> <td>2116787        </td> <td>2111060        </td> <td>2050663        </td>\n",
       "        </tr>\n",
       "        <tr>\n",
       "            <td>1   </td> <td>7   </td> <td>2057076      </td> <td>2057082          </td> <td>2063139        </td> <td>2084352        </td> <td>2086570        </td> <td>2099660        </td> <td>2122832        </td> <td>2117118        </td>\n",
       "        </tr>\n",
       "        <tr>\n",
       "            <td>1   </td> <td>8   </td> <td>2065453      </td> <td>2065459          </td> <td>2054462        </td> <td>2067969        </td> <td>2088958        </td> <td>2091645        </td> <td>2105618        </td> <td>2128825        </td>\n",
       "        </tr>\n",
       "        <tr>\n",
       "            <td>1   </td> <td>9   </td> <td>2119696      </td> <td>2119702          </td> <td>2107037        </td> <td>2059258        </td> <td>2072582        </td> <td>2094087        </td> <td>2097690        </td> <td>2111678        </td>\n",
       "        </tr>\n",
       "        <tr>\n",
       "            <td>1   </td> <td>10  </td> <td>2135996      </td> <td>2136007          </td> <td>2142167        </td> <td>2111883        </td> <td>2063922        </td> <td>2077771        </td> <td>2100262        </td> <td>2103943        </td>\n",
       "        </tr>\n",
       "        <tr>\n",
       "            <td>1   </td> <td>11  </td> <td>2103264      </td> <td>2103284          </td> <td>2104797        </td> <td>2147107        </td> <td>2116688        </td> <td>2069315        </td> <td>2084169        </td> <td>2106742        </td>\n",
       "        </tr>\n",
       "        <tr>\n",
       "            <td>1   </td> <td>12  </td> <td>2100145      </td> <td>2100156          </td> <td>2103649        </td> <td>2109791        </td> <td>2151995        </td> <td>2122109        </td> <td>2075836        </td> <td>2090780        </td>\n",
       "        </tr>\n",
       "        <tr>\n",
       "            <td>1   </td> <td>13  </td> <td>2104914      </td> <td>2104932          </td> <td>2104949        </td> <td>2108950        </td> <td>2114928        </td> <td>2157712        </td> <td>2128914        </td> <td>2082704        </td>\n",
       "        </tr>\n",
       "        <tr>\n",
       "            <td>1   </td> <td>14  </td> <td>2135543      </td> <td>2135596          </td> <td>2122913        </td> <td>2110812        </td> <td>2114448        </td> <td>2121069        </td> <td>2164924        </td> <td>2136219        </td>\n",
       "        </tr>\n",
       "        <tr>\n",
       "            <td>1   </td> <td>15  </td> <td>2177022      </td> <td>2177104          </td> <td>2170442        </td> <td>2129552        </td> <td>2116957        </td> <td>2121282        </td> <td>2129062        </td> <td>2172989        </td>\n",
       "        </tr>\n",
       "        <tr>\n",
       "            <td>1   </td> <td>16  </td> <td>2216034      </td> <td>2216153          </td> <td>2215032        </td> <td>2179110        </td> <td>2137477        </td> <td>2125700        </td> <td>2131425        </td> <td>2139271        </td>\n",
       "        </tr>\n",
       "        <tr>\n",
       "            <td>1   </td> <td>17  </td> <td>2263153      </td> <td>2263294          </td> <td>2252838        </td> <td>2226787        </td> <td>2189985        </td> <td>2149383        </td> <td>2139361        </td> <td>2145174        </td>\n",
       "        </tr>\n",
       "        <tr>\n",
       "            <td>1   </td> <td>18  </td> <td>2305473      </td> <td>2305664          </td> <td>2305733        </td> <td>2266685        </td> <td>2239662        </td> <td>2204200        </td> <td>2165744        </td> <td>2156041        </td>\n",
       "        </tr>\n",
       "        <tr>\n",
       "            <td>1   </td> <td>19  </td> <td>2341984      </td> <td>2342296          </td> <td>2334906        </td> <td>2321540        </td> <td>2281219        </td> <td>2254737        </td> <td>2221910        </td> <td>2184392        </td>\n",
       "        </tr>\n",
       "        <tr>\n",
       "            <td>1   </td> <td>20  </td> <td>2308319      </td> <td>2308579          </td> <td>2331845        </td> <td>2349998        </td> <td>2337580        </td> <td>2295892        </td> <td>2271216        </td> <td>2240373        </td>\n",
       "        </tr>\n",
       "        <tr>\n",
       "            <td>1   </td> <td>21  </td> <td>2223198      </td> <td>2223396          </td> <td>2241083        </td> <td>2345463        </td> <td>2368304        </td> <td>2353105        </td> <td>2312917        </td> <td>2290006        </td>\n",
       "        </tr>\n",
       "        <tr>\n",
       "            <td>1   </td> <td>22  </td> <td>2177797      </td> <td>2178023          </td> <td>2188199        </td> <td>2253377        </td> <td>2362632        </td> <td>2385302        </td> <td>2370459        </td> <td>2331696        </td>\n",
       "        </tr>\n",
       "        <tr>\n",
       "            <td>1   </td> <td>23  </td> <td>2140799      </td> <td>2141015          </td> <td>2151068        </td> <td>2199846        </td> <td>2269156        </td> <td>2378074        </td> <td>2402294        </td> <td>2387842        </td>\n",
       "        </tr>\n",
       "        <tr>\n",
       "            <td>1   </td> <td>24  </td> <td>2164063      </td> <td>2164238          </td> <td>2161347        </td> <td>2161963        </td> <td>2214223        </td> <td>2282944        </td> <td>2393037        </td> <td>2417937        </td>\n",
       "        </tr>\n",
       "        <tr>\n",
       "            <td>1   </td> <td>25  </td> <td>2161308      </td> <td>2161475          </td> <td>2177131        </td> <td>2171010        </td> <td>2175689        </td> <td>2226955        </td> <td>2296875        </td> <td>2407515        </td>\n",
       "        </tr>\n",
       "        <tr>\n",
       "            <td>1   </td> <td>26  </td> <td>2097088      </td> <td>2097305          </td> <td>2102331        </td> <td>2185818        </td> <td>2183943        </td> <td>2187971        </td> <td>2240881        </td> <td>2310983        </td>\n",
       "        </tr>\n",
       "        <tr>\n",
       "            <td>1   </td> <td>27  </td> <td>2140651      </td> <td>2140841          </td> <td>2135178        </td> <td>2110571        </td> <td>2197478        </td> <td>2196077        </td> <td>2201518        </td> <td>2254603        </td>\n",
       "        </tr>\n",
       "        <tr>\n",
       "            <td>1   </td> <td>28  </td> <td>2118605      </td> <td>2118796          </td> <td>2134981        </td> <td>2142891        </td> <td>2121209        </td> <td>2208095        </td> <td>2208749        </td> <td>2214738        </td>\n",
       "        </tr>\n",
       "        <tr>\n",
       "            <td>1   </td> <td>29  </td> <td>2117939      </td> <td>2118098          </td> <td>2112313        </td> <td>2142082        </td> <td>2153021        </td> <td>2131176        </td> <td>2219872        </td> <td>2221560        </td>\n",
       "        </tr>\n",
       "        <tr>\n",
       "            <td>1   </td> <td>30  </td> <td>2160802      </td> <td>2160945          </td> <td>2167495        </td> <td>2118826        </td> <td>2151124        </td> <td>2162233        </td> <td>2142240        </td> <td>2231463        </td>\n",
       "        </tr>\n",
       "        <tr>\n",
       "            <td>1   </td> <td>31  </td> <td>1988155      </td> <td>1988284          </td> <td>2026439        </td> <td>2173341        </td> <td>2126794        </td> <td>2159167        </td> <td>2171839        </td> <td>2152765        </td>\n",
       "        </tr>\n",
       "        <tr>\n",
       "            <td>1   </td> <td>32  </td> <td>1994476      </td> <td>1994606          </td> <td>1986147        </td> <td>2031378        </td> <td>2180342        </td> <td>2134062        </td> <td>2167557        </td> <td>2181163        </td>\n",
       "        </tr>\n",
       "        <tr>\n",
       "            <td>1   </td> <td>33  </td> <td>1936863      </td> <td>1936983          </td> <td>1963645        </td> <td>1990848        </td> <td>2037176        </td> <td>2186507        </td> <td>2141552        </td> <td>2175631        </td>\n",
       "        </tr>\n",
       "        <tr>\n",
       "            <td>1   </td> <td>34  </td> <td>1916204      </td> <td>1916311          </td> <td>1908731        </td> <td>1967550        </td> <td>1996280        </td> <td>2042248        </td> <td>2192877        </td> <td>2148717        </td>\n",
       "        </tr>\n",
       "        <tr>\n",
       "            <td>1   </td> <td>35  </td> <td>1980916      </td> <td>1981032          </td> <td>1974636        </td> <td>1912372        </td> <td>1972471        </td> <td>2000992        </td> <td>2047877        </td> <td>2199270        </td>\n",
       "        </tr>\n",
       "        <tr>\n",
       "            <td>1   </td> <td>36  </td> <td>1890595      </td> <td>1890693          </td> <td>1907408        </td> <td>1977550        </td> <td>1916369        </td> <td>1976019        </td> <td>2005880        </td> <td>2053297        </td>\n",
       "        </tr>\n",
       "        <tr>\n",
       "            <td>1   </td> <td>37  </td> <td>1953386      </td> <td>1953488          </td> <td>1934537        </td> <td>1909806        </td> <td>1981055        </td> <td>1919596        </td> <td>1979888        </td> <td>2010463        </td>\n",
       "        </tr>\n",
       "        <tr>\n",
       "            <td>1   </td> <td>38  </td> <td>2049720      </td> <td>2049866          </td> <td>2028052        </td> <td>1936364        </td> <td>1912807        </td> <td>1983677        </td> <td>1923133        </td> <td>1983816        </td>\n",
       "        </tr>\n",
       "        <tr>\n",
       "            <td>1   </td> <td>39  </td> <td>2167405      </td> <td>2167500          </td> <td>2148718        </td> <td>2029529        </td> <td>1938525        </td> <td>1915106        </td> <td>1986712        </td> <td>1926578        </td>\n",
       "        </tr>\n",
       "        <tr>\n",
       "            <td>1   </td> <td>40  </td> <td>2191249      </td> <td>2191367          </td> <td>2189516        </td> <td>2148743        </td> <td>2030826        </td> <td>1939892        </td> <td>1917201        </td> <td>1989213        </td>\n",
       "        </tr>\n",
       "        <tr>\n",
       "            <td>1   </td> <td>41  </td> <td>2047818      </td> <td>2047931          </td> <td>2073902        </td> <td>2188371        </td> <td>2149052        </td> <td>2031484        </td> <td>1941203        </td> <td>1919064        </td>\n",
       "        </tr>\n",
       "        <tr>\n",
       "            <td>1   </td> <td>42  </td> <td>2028653      </td> <td>2028755          </td> <td>2031782        </td> <td>2072600        </td> <td>2187792        </td> <td>2148550        </td> <td>2032207        </td> <td>1942311        </td>\n",
       "        </tr>\n",
       "        <tr>\n",
       "            <td>1   </td> <td>43  </td> <td>2035990      </td> <td>2036118          </td> <td>2030982        </td> <td>2030203        </td> <td>2071301        </td> <td>2186115        </td> <td>2147960        </td> <td>2032362        </td>\n",
       "        </tr>\n",
       "        <tr>\n",
       "            <td>1   </td> <td>44  </td> <td>2090267      </td> <td>2090388          </td> <td>2074572        </td> <td>2028857        </td> <td>2028440        </td> <td>2069377        </td> <td>2184448        </td> <td>2147203        </td>\n",
       "        </tr>\n",
       "        <tr>\n",
       "            <td>1   </td> <td>45  </td> <td>2237450      </td> <td>2237564          </td> <td>2201905        </td> <td>2071297        </td> <td>2026504        </td> <td>2025848        </td> <td>2067426        </td> <td>2182484        </td>\n",
       "        </tr>\n",
       "        <tr>\n",
       "            <td>1   </td> <td>46  </td> <td>2230982      </td> <td>2231099          </td> <td>2238774        </td> <td>2197620        </td> <td>2067845        </td> <td>2023195        </td> <td>2023033        </td> <td>2064898        </td>\n",
       "        </tr>\n",
       "        <tr>\n",
       "            <td>1   </td> <td>47  </td> <td>2238248      </td> <td>2238371          </td> <td>2237940        </td> <td>2233211        </td> <td>2192756        </td> <td>2063411        </td> <td>2019517        </td> <td>2019602        </td>\n",
       "        </tr>\n",
       "        <tr>\n",
       "            <td>1   </td> <td>48  </td> <td>2237734      </td> <td>2237859          </td> <td>2235296        </td> <td>2230985        </td> <td>2226817        </td> <td>2186678        </td> <td>2058392        </td> <td>2015073        </td>\n",
       "        </tr>\n",
       "        <tr>\n",
       "            <td>1   </td> <td>49  </td> <td>2264671      </td> <td>2264793          </td> <td>2262458        </td> <td>2227268        </td> <td>2223527        </td> <td>2219527        </td> <td>2180214        </td> <td>2052872        </td>\n",
       "        </tr>\n",
       "        <tr>\n",
       "            <td>1   </td> <td>50  </td> <td>2300354      </td> <td>2300471          </td> <td>2290862        </td> <td>2253279        </td> <td>2218725        </td> <td>2214949        </td> <td>2211767        </td> <td>2173002        </td>\n",
       "        </tr>\n",
       "        <tr>\n",
       "            <td>1   </td> <td>51  </td> <td>2190766      </td> <td>2190860          </td> <td>2209780        </td> <td>2280536        </td> <td>2242961        </td> <td>2208648        </td> <td>2205399        </td> <td>2202725        </td>\n",
       "        </tr>\n",
       "        <tr>\n",
       "            <td>1   </td> <td>52  </td> <td>2207246      </td> <td>2207331          </td> <td>2197161        </td> <td>2198502        </td> <td>2268944        </td> <td>2231328        </td> <td>2197801        </td> <td>2195088        </td>\n",
       "        </tr>\n",
       "        <tr>\n",
       "            <td>1   </td> <td>53  </td> <td>2141354      </td> <td>2141451          </td> <td>2170923        </td> <td>2184536        </td> <td>2186037        </td> <td>2256266        </td> <td>2219328        </td> <td>2186448        </td>\n",
       "        </tr>\n",
       "        <tr>\n",
       "            <td>1   </td> <td>54  </td> <td>2093554      </td> <td>2093639          </td> <td>2091640        </td> <td>2157204        </td> <td>2171162        </td> <td>2172742        </td> <td>2242757        </td> <td>2206584        </td>\n",
       "        </tr>\n",
       "        <tr>\n",
       "            <td>1   </td> <td>55  </td> <td>2073473      </td> <td>2073546          </td> <td>2075199        </td> <td>2077157        </td> <td>2142563        </td> <td>2156625        </td> <td>2158427        </td> <td>2228498        </td>\n",
       "        </tr>\n",
       "        <tr>\n",
       "            <td>1   </td> <td>56  </td> <td>1956141      </td> <td>1956202          </td> <td>1984452        </td> <td>2059901        </td> <td>2061721        </td> <td>2126689        </td> <td>2140940        </td> <td>2143285        </td>\n",
       "        </tr>\n",
       "        <tr>\n",
       "            <td>1   </td> <td>57  </td> <td>1905355      </td> <td>1905398          </td> <td>1909997        </td> <td>1968553        </td> <td>2043396        </td> <td>2045201        </td> <td>2109804        </td> <td>2124551        </td>\n",
       "        </tr>\n",
       "        <tr>\n",
       "            <td>1   </td> <td>58  </td> <td>1834808      </td> <td>1834863          </td> <td>1838680        </td> <td>1893257        </td> <td>1951727        </td> <td>2025597        </td> <td>2027452        </td> <td>2092228        </td>\n",
       "        </tr>\n",
       "        <tr>\n",
       "            <td>1   </td> <td>59  </td> <td>1753871      </td> <td>1753929          </td> <td>1779480        </td> <td>1821347        </td> <td>1875751        </td> <td>1933162        </td> <td>2006587        </td> <td>2009005        </td>\n",
       "        </tr>\n",
       "        <tr>\n",
       "            <td>1   </td> <td>60  </td> <td>1745507      </td> <td>1745559          </td> <td>1742220        </td> <td>1761658        </td> <td>1803236        </td> <td>1856810        </td> <td>1913729        </td> <td>1987008        </td>\n",
       "        </tr>\n",
       "        <tr>\n",
       "            <td>1   </td> <td>61  </td> <td>1679077      </td> <td>1679114          </td> <td>1691401        </td> <td>1724022        </td> <td>1742878        </td> <td>1783742        </td> <td>1836656        </td> <td>1893657        </td>\n",
       "        </tr>\n",
       "        <tr>\n",
       "            <td>1   </td> <td>62  </td> <td>1712692      </td> <td>1712746          </td> <td>1679060        </td> <td>1672334        </td> <td>1704510        </td> <td>1722521        </td> <td>1762880        </td> <td>1815914        </td>\n",
       "        </tr>\n",
       "        <tr>\n",
       "            <td>1   </td> <td>63  </td> <td>1672329      </td> <td>1672362          </td> <td>1753903        </td> <td>1658224        </td> <td>1652084        </td> <td>1683160        </td> <td>1701014        </td> <td>1741514        </td>\n",
       "        </tr>\n",
       "        <tr>\n",
       "            <td>1   </td> <td>64  </td> <td>1267895      </td> <td>1267924          </td> <td>1291833        </td> <td>1730925        </td> <td>1636557        </td> <td>1629731        </td> <td>1660815        </td> <td>1679087        </td>\n",
       "        </tr>\n",
       "        <tr>\n",
       "            <td>1   </td> <td>65  </td> <td>1273310      </td> <td>1273339          </td> <td>1272686        </td> <td>1273406        </td> <td>1706907        </td> <td>1612988        </td> <td>1606772        </td> <td>1637936        </td>\n",
       "        </tr>\n",
       "        <tr>\n",
       "            <td>1   </td> <td>66  </td> <td>1248276      </td> <td>1248309          </td> <td>1239794        </td> <td>1253322        </td> <td>1254202        </td> <td>1680799        </td> <td>1588723        </td> <td>1583339        </td>\n",
       "        </tr>\n",
       "        <tr>\n",
       "            <td>1   </td> <td>67  </td> <td>1248906      </td> <td>1248938          </td> <td>1270145        </td> <td>1218999        </td> <td>1232697        </td> <td>1233432        </td> <td>1652998        </td> <td>1562960        </td>\n",
       "        </tr>\n",
       "        <tr>\n",
       "            <td>1   </td> <td>68  </td> <td>1087296      </td> <td>1087339          </td> <td>1105699        </td> <td>1246765        </td> <td>1196783        </td> <td>1210461        </td> <td>1211278        </td> <td>1623929        </td>\n",
       "        </tr>\n",
       "        <tr>\n",
       "            <td>1   </td> <td>69  </td> <td>994759       </td> <td>994797           </td> <td>1006782        </td> <td>1083646        </td> <td>1222242        </td> <td>1173071        </td> <td>1186872        </td> <td>1188026        </td>\n",
       "        </tr>\n",
       "        <tr>\n",
       "            <td>1   </td> <td>70  </td> <td>945611       </td> <td>945642           </td> <td>954073         </td> <td>984933         </td> <td>1060828        </td> <td>1195964        </td> <td>1148508        </td> <td>1162672        </td>\n",
       "        </tr>\n",
       "        <tr>\n",
       "            <td>1   </td> <td>71  </td> <td>900148       </td> <td>900187           </td> <td>903258         </td> <td>931570         </td> <td>962386         </td> <td>1036100        </td> <td>1169115        </td> <td>1123102        </td>\n",
       "        </tr>\n",
       "        <tr>\n",
       "            <td>1   </td> <td>72  </td> <td>853726       </td> <td>853749           </td> <td>862529         </td> <td>879973         </td> <td>908292         </td> <td>937925         </td> <td>1010582        </td> <td>1140651        </td>\n",
       "        </tr>\n",
       "        <tr>\n",
       "            <td>1   </td> <td>73  </td> <td>787863       </td> <td>787903           </td> <td>794646         </td> <td>838124         </td> <td>855842         </td> <td>883005         </td> <td>912673         </td> <td>983641         </td>\n",
       "        </tr>\n",
       "        <tr>\n",
       "            <td>1   </td> <td>74  </td> <td>756624       </td> <td>756661           </td> <td>758830         </td> <td>770000         </td> <td>812952         </td> <td>829745         </td> <td>856970         </td> <td>886092         </td>\n",
       "        </tr>\n",
       "        <tr>\n",
       "            <td>1   </td> <td>75  </td> <td>721008       </td> <td>721040           </td> <td>725663         </td> <td>733013         </td> <td>744634         </td> <td>785800         </td> <td>802960         </td> <td>829659         </td>\n",
       "        </tr>\n",
       "        <tr>\n",
       "            <td>1   </td> <td>76  </td> <td>647804       </td> <td>647847           </td> <td>653551         </td> <td>698486         </td> <td>706479         </td> <td>717247         </td> <td>757841         </td> <td>774758         </td>\n",
       "        </tr>\n",
       "        <tr>\n",
       "            <td>1   </td> <td>77  </td> <td>631884       </td> <td>631915           </td> <td>630867         </td> <td>626566         </td> <td>670691         </td> <td>677918         </td> <td>689162         </td> <td>728549         </td>\n",
       "        </tr>\n",
       "        <tr>\n",
       "            <td>1   </td> <td>78  </td> <td>602458       </td> <td>602490           </td> <td>602774         </td> <td>602303         </td> <td>598991         </td> <td>640784         </td> <td>648696         </td> <td>659853         </td>\n",
       "        </tr>\n",
       "        <tr>\n",
       "            <td>1   </td> <td>79  </td> <td>579234       </td> <td>579284           </td> <td>573885         </td> <td>572606         </td> <td>573172         </td> <td>569406         </td> <td>610115         </td> <td>618087         </td>\n",
       "        </tr>\n",
       "        <tr>\n",
       "            <td>1   </td> <td>80  </td> <td>543559       </td> <td>543595           </td> <td>549216         </td> <td>542181         </td> <td>541911         </td> <td>542005         </td> <td>539227         </td> <td>578240         </td>\n",
       "        </tr>\n",
       "        <tr>\n",
       "            <td>1   </td> <td>81  </td> <td>494870       </td> <td>494914           </td> <td>496070         </td> <td>515668         </td> <td>509958         </td> <td>509164         </td> <td>510305         </td> <td>507988         </td>\n",
       "        </tr>\n",
       "        <tr>\n",
       "            <td>1   </td> <td>82  </td> <td>462983       </td> <td>463020           </td> <td>462807         </td> <td>462441         </td> <td>481791         </td> <td>475826         </td> <td>476034         </td> <td>477629         </td>\n",
       "        </tr>\n",
       "        <tr>\n",
       "            <td>1   </td> <td>83  </td> <td>419831       </td> <td>419882           </td> <td>422999         </td> <td>427992         </td> <td>428689         </td> <td>446087         </td> <td>441530         </td> <td>442175         </td>\n",
       "        </tr>\n",
       "        <tr>\n",
       "            <td>1   </td> <td>84  </td> <td>373131       </td> <td>373169           </td> <td>375685         </td> <td>387649         </td> <td>393272         </td> <td>393340         </td> <td>410385         </td> <td>406633         </td>\n",
       "        </tr>\n",
       "        <tr>\n",
       "            <td>1   </td> <td>85  </td> <td>336819       </td> <td>336856           </td> <td>337661         </td> <td>340757         </td> <td>352765         </td> <td>357264         </td> <td>358342         </td> <td>374382         </td>\n",
       "        </tr>\n",
       "        <tr>\n",
       "            <td>1   </td> <td>86  </td> <td>293120       </td> <td>293149           </td> <td>295396         </td> <td>302902         </td> <td>306716         </td> <td>316989         </td> <td>322043         </td> <td>323518         </td>\n",
       "        </tr>\n",
       "        <tr>\n",
       "            <td>1   </td> <td>87  </td> <td>249803       </td> <td>249840           </td> <td>253621         </td> <td>261735         </td> <td>269496         </td> <td>272275         </td> <td>282423         </td> <td>287383         </td>\n",
       "        </tr>\n",
       "        <tr>\n",
       "            <td>1   </td> <td>88  </td> <td>217436       </td> <td>217472           </td> <td>216220         </td> <td>221791         </td> <td>229858         </td> <td>236154         </td> <td>239455         </td> <td>248876         </td>\n",
       "        </tr>\n",
       "        <tr>\n",
       "            <td>1   </td> <td>89  </td> <td>176689       </td> <td>176731           </td> <td>180461         </td> <td>186135         </td> <td>192130         </td> <td>198520         </td> <td>204850         </td> <td>208085         </td>\n",
       "        </tr>\n",
       "        <tr>\n",
       "            <td>1   </td> <td>90  </td> <td>136948       </td> <td>136985           </td> <td>141399         </td> <td>153032         </td> <td>158613         </td> <td>163480         </td> <td>169644         </td> <td>175479         </td>\n",
       "        </tr>\n",
       "        <tr>\n",
       "            <td>1   </td> <td>91  </td> <td>103799       </td> <td>103826           </td> <td>104291         </td> <td>117729         </td> <td>128390         </td> <td>132482         </td> <td>137425         </td> <td>142870         </td>\n",
       "        </tr>\n",
       "        <tr>\n",
       "            <td>1   </td> <td>92  </td> <td>81072        </td> <td>81101            </td> <td>83462          </td> <td>85352          </td> <td>96884          </td> <td>105443         </td> <td>109264         </td> <td>113834         </td>\n",
       "        </tr>\n",
       "        <tr>\n",
       "            <td>1   </td> <td>93  </td> <td>59037        </td> <td>59063            </td> <td>60182          </td> <td>66909          </td> <td>69068          </td> <td>77874          </td> <td>85459          </td> <td>88660          </td>\n",
       "        </tr>\n",
       "        <tr>\n",
       "            <td>1   </td> <td>94  </td> <td>43531        </td> <td>43541            </td> <td>43827          </td> <td>47166          </td> <td>52988          </td> <td>54560          </td> <td>61691          </td> <td>68135          </td>\n",
       "        </tr>\n",
       "        <tr>\n",
       "            <td>1   </td> <td>95  </td> <td>30951        </td> <td>30967            </td> <td>31736          </td> <td>33613          </td> <td>36512          </td> <td>40884          </td> <td>42556          </td> <td>48015          </td>\n",
       "        </tr>\n",
       "        <tr>\n",
       "            <td>1   </td> <td>96  </td> <td>21424        </td> <td>21432            </td> <td>22022          </td> <td>23801          </td> <td>25450          </td> <td>27474          </td> <td>31053          </td> <td>32585          </td>\n",
       "        </tr>\n",
       "        <tr>\n",
       "            <td>1   </td> <td>97  </td> <td>14556        </td> <td>14563            </td> <td>14775          </td> <td>16115          </td> <td>17623          </td> <td>18698          </td> <td>20310          </td> <td>23092          </td>\n",
       "        </tr>\n",
       "        <tr>\n",
       "            <td>1   </td> <td>98  </td> <td>9259         </td> <td>9263             </td> <td>9505           </td> <td>10554          </td> <td>11652          </td> <td>12656          </td> <td>13518          </td> <td>14719          </td>\n",
       "        </tr>\n",
       "        <tr>\n",
       "            <td>1   </td> <td>99  </td> <td>6073         </td> <td>6075             </td> <td>6104           </td> <td>6606           </td> <td>7459           </td> <td>8159           </td> <td>8951           </td> <td>9577           </td>\n",
       "        </tr>\n",
       "        <tr>\n",
       "            <td>1   </td> <td>100 </td> <td>9162         </td> <td>9166             </td> <td>9352           </td> <td>10146          </td> <td>11160          </td> <td>12287          </td> <td>13618          </td> <td>15088          </td>\n",
       "        </tr>\n",
       "        <tr>\n",
       "            <td>1   </td> <td>999 </td> <td>151781326    </td> <td>151788777        </td> <td>152088043      </td> <td>153291772      </td> <td>154521077      </td> <td>155706770      </td> <td>156955337      </td> <td>158229297      </td>\n",
       "        </tr>\n",
       "        <tr>\n",
       "            <td>2   </td> <td>0   </td> <td>1929877      </td> <td>1929882          </td> <td>1932910        </td> <td>1934660        </td> <td>1918823        </td> <td>1921613        </td> <td>1929449        </td> <td>1942904        </td>\n",
       "        </tr>\n",
       "        <tr>\n",
       "            <td>2   </td> <td>1   </td> <td>1947217      </td> <td>1947229          </td> <td>1937556        </td> <td>1941029        </td> <td>1942479        </td> <td>1927402        </td> <td>1931375        </td> <td>1939269        </td>\n",
       "        </tr>\n",
       "        <tr>\n",
       "            <td>2   </td> <td>2   </td> <td>2004731      </td> <td>2004737          </td> <td>2002177        </td> <td>1944592        </td> <td>1948000        </td> <td>1950071        </td> <td>1935991        </td> <td>1939979        </td>\n",
       "        </tr>\n",
       "        <tr>\n",
       "            <td>2   </td> <td>3   </td> <td>2014490      </td> <td>2014496          </td> <td>2010648        </td> <td>2008174        </td> <td>1950628        </td> <td>1954558        </td> <td>1957483        </td> <td>1943417        </td>\n",
       "        </tr>\n",
       "        <tr>\n",
       "            <td>2   </td> <td>4   </td> <td>1985620      </td> <td>1985630          </td> <td>1993239        </td> <td>2015971        </td> <td>2013540        </td> <td>1956426        </td> <td>1961199        </td> <td>1964111        </td>\n",
       "        </tr>\n",
       "        <tr>\n",
       "            <td>2   </td> <td>5   </td> <td>1984764      </td> <td>1984770          </td> <td>1988080        </td> <td>1998260        </td> <td>2020907        </td> <td>2018871        </td> <td>1962561        </td> <td>1967310        </td>\n",
       "        </tr>\n",
       "        <tr>\n",
       "            <td>2   </td> <td>6   </td> <td>1991062      </td> <td>1991082          </td> <td>1993603        </td> <td>1993166        </td> <td>2003137        </td> <td>2026129        </td> <td>2024870        </td> <td>1968544        </td>\n",
       "        </tr>\n",
       "        <tr>\n",
       "            <td>2   </td> <td>7   </td> <td>1973503      </td> <td>1973512          </td> <td>1979907        </td> <td>1998873        </td> <td>1998343        </td> <td>2008689        </td> <td>2032494        </td> <td>2031242        </td>\n",
       "        </tr>\n",
       "        <tr>\n",
       "            <td>2   </td> <td>8   </td> <td>1981033      </td> <td>1981038          </td> <td>1971142        </td> <td>1985234        </td> <td>2004219        </td> <td>2004066        </td> <td>2015285        </td> <td>2039062        </td>\n",
       "        </tr>\n",
       "        <tr>\n",
       "            <td>2   </td> <td>9   </td> <td>2028657      </td> <td>2028667          </td> <td>2018378        </td> <td>1976452        </td> <td>1990570        </td> <td>2009985        </td> <td>2010659        </td> <td>2021886        </td>\n",
       "        </tr>\n",
       "        <tr>\n",
       "            <td>2   </td> <td>10  </td> <td>2036545      </td> <td>2036552          </td> <td>2044895        </td> <td>2023730        </td> <td>1981857        </td> <td>1996340        </td> <td>2016680        </td> <td>2017346        </td>\n",
       "        </tr>\n",
       "        <tr>\n",
       "            <td>2   </td> <td>11  </td> <td>2011151      </td> <td>2011159          </td> <td>2010714        </td> <td>2050365        </td> <td>2029312        </td> <td>1987837        </td> <td>2003233        </td> <td>2023586        </td>\n",
       "        </tr>\n",
       "        <tr>\n",
       "            <td>2   </td> <td>12  </td> <td>2006098      </td> <td>2006105          </td> <td>2009630        </td> <td>2016326        </td> <td>2056014        </td> <td>2035367        </td> <td>1994846        </td> <td>2010241        </td>\n",
       "        </tr>\n",
       "        <tr>\n",
       "            <td>2   </td> <td>13  </td> <td>2013099      </td> <td>2013123          </td> <td>2014717        </td> <td>2015269        </td> <td>2021755        </td> <td>2061882        </td> <td>2042116        </td> <td>2001602        </td>\n",
       "        </tr>\n",
       "        <tr>\n",
       "            <td>2   </td> <td>14  </td> <td>2030439      </td> <td>2030463          </td> <td>2022701        </td> <td>2020689        </td> <td>2021012        </td> <td>2027897        </td> <td>2068915        </td> <td>2049167        </td>\n",
       "        </tr>\n",
       "        <tr>\n",
       "            <td>2   </td> <td>15  </td> <td>2065798      </td> <td>2065842          </td> <td>2060560        </td> <td>2029389        </td> <td>2027062        </td> <td>2027839        </td> <td>2035734        </td> <td>2076753        </td>\n",
       "        </tr>\n",
       "        <tr>\n",
       "            <td>2   </td> <td>16  </td> <td>2100105      </td> <td>2100158          </td> <td>2098220        </td> <td>2068334        </td> <td>2036902        </td> <td>2035192        </td> <td>2037134        </td> <td>2045025        </td>\n",
       "        </tr>\n",
       "        <tr>\n",
       "            <td>2   </td> <td>17  </td> <td>2132142      </td> <td>2132181          </td> <td>2123529        </td> <td>2108189        </td> <td>2078089        </td> <td>2047458        </td> <td>2047152        </td> <td>2049112        </td>\n",
       "        </tr>\n",
       "        <tr>\n",
       "            <td>2   </td> <td>18  </td> <td>2195382      </td> <td>2195450          </td> <td>2185272        </td> <td>2135893        </td> <td>2120208        </td> <td>2091111        </td> <td>2062176        </td> <td>2061954        </td>\n",
       "        </tr>\n",
       "        <tr>\n",
       "            <td>2   </td> <td>19  </td> <td>2243250      </td> <td>2243405          </td> <td>2236505        </td> <td>2199119        </td> <td>2148993        </td> <td>2134246        </td> <td>2107128        </td> <td>2078192        </td>\n",
       "        </tr>\n",
       "        <tr>\n",
       "            <td>2   </td> <td>20  </td> <td>2210810      </td> <td>2210977          </td> <td>2236672        </td> <td>2250427        </td> <td>2212409        </td> <td>2162825        </td> <td>2150114        </td> <td>2123067        </td>\n",
       "        </tr>\n",
       "        <tr>\n",
       "            <td>2   </td> <td>21  </td> <td>2131096      </td> <td>2131207          </td> <td>2146873        </td> <td>2250703        </td> <td>2264588        </td> <td>2227025        </td> <td>2179456        </td> <td>2166784        </td>\n",
       "        </tr>\n",
       "        <tr>\n",
       "            <td>2   </td> <td>22  </td> <td>2086845      </td> <td>2086923          </td> <td>2098806        </td> <td>2161923        </td> <td>2265827        </td> <td>2280663        </td> <td>2245270        </td> <td>2197776        </td>\n",
       "        </tr>\n",
       "        <tr>\n",
       "            <td>2   </td> <td>23  </td> <td>2057772      </td> <td>2057844          </td> <td>2066160        </td> <td>2114925        </td> <td>2177680        </td> <td>2282730        </td> <td>2299862        </td> <td>2264424        </td>\n",
       "        </tr>\n",
       "        <tr>\n",
       "            <td>2   </td> <td>24  </td> <td>2085300      </td> <td>2085371          </td> <td>2082255        </td> <td>2082592        </td> <td>2131182        </td> <td>2194862        </td> <td>2302374        </td> <td>2319408        </td>\n",
       "        </tr>\n",
       "        <tr>\n",
       "            <td>2   </td> <td>25  </td> <td>2101042      </td> <td>2101108          </td> <td>2112297        </td> <td>2098904        </td> <td>2098816        </td> <td>2148386        </td> <td>2214495        </td> <td>2322049        </td>\n",
       "        </tr>\n",
       "        <tr>\n",
       "            <td>2   </td> <td>26  </td> <td>2055217      </td> <td>2055293          </td> <td>2058475        </td> <td>2127925        </td> <td>2114333        </td> <td>2115377        </td> <td>2167162        </td> <td>2233433        </td>\n",
       "        </tr>\n",
       "        <tr>\n",
       "            <td>2   </td> <td>27  </td> <td>2108218      </td> <td>2108291          </td> <td>2101848        </td> <td>2072852        </td> <td>2142580        </td> <td>2129882        </td> <td>2133288        </td> <td>2185163        </td>\n",
       "        </tr>\n",
       "        <tr>\n",
       "            <td>2   </td> <td>28  </td> <td>2096644      </td> <td>2096706          </td> <td>2112560        </td> <td>2115196        </td> <td>2086191        </td> <td>2156902        </td> <td>2146491        </td> <td>2149931        </td>\n",
       "        </tr>\n",
       "        <tr>\n",
       "            <td>2   </td> <td>29  </td> <td>2105137      </td> <td>2105194          </td> <td>2097973        </td> <td>2124462        </td> <td>2127241        </td> <td>2099212        </td> <td>2171916        </td> <td>2161579        </td>\n",
       "        </tr>\n",
       "        <tr>\n",
       "            <td>2   </td> <td>30  </td> <td>2124866      </td> <td>2124932          </td> <td>2136744        </td> <td>2108562        </td> <td>2135227        </td> <td>2139100        </td> <td>2113094        </td> <td>2185746        </td>\n",
       "        </tr>\n",
       "        <tr>\n",
       "            <td>2   </td> <td>31  </td> <td>1982063      </td> <td>1982132          </td> <td>2016077        </td> <td>2146177        </td> <td>2118163        </td> <td>2145568        </td> <td>2151378        </td> <td>2125468        </td>\n",
       "        </tr>\n",
       "        <tr>\n",
       "            <td>2   </td> <td>32  </td> <td>1992371      </td> <td>1992435          </td> <td>1981455        </td> <td>2024567        </td> <td>2154670        </td> <td>2127378        </td> <td>2156394        </td> <td>2162451        </td>\n",
       "        </tr>\n",
       "        <tr>\n",
       "            <td>2   </td> <td>33  </td> <td>1943287      </td> <td>1943335          </td> <td>1969936        </td> <td>1989151        </td> <td>2032191        </td> <td>2162905        </td> <td>2137112        </td> <td>2166123        </td>\n",
       "        </tr>\n",
       "        <tr>\n",
       "            <td>2   </td> <td>34  </td> <td>1923012      </td> <td>1923061          </td> <td>1913458        </td> <td>1977044        </td> <td>1996181        </td> <td>2039715        </td> <td>2171871        </td> <td>2146121        </td>\n",
       "        </tr>\n",
       "        <tr>\n",
       "            <td>2   </td> <td>35  </td> <td>1975518      </td> <td>1975593          </td> <td>1973699        </td> <td>1920135        </td> <td>1983482        </td> <td>2003257        </td> <td>2047905        </td> <td>2180134        </td>\n",
       "        </tr>\n",
       "        <tr>\n",
       "            <td>2   </td> <td>36  </td> <td>1911492      </td> <td>1911543          </td> <td>1922791        </td> <td>1979512        </td> <td>1926096        </td> <td>1989836        </td> <td>2010831        </td> <td>2055478        </td>\n",
       "        </tr>\n",
       "        <tr>\n",
       "            <td>2   </td> <td>37  </td> <td>1981059      </td> <td>1981105          </td> <td>1962229        </td> <td>1927969        </td> <td>1984875        </td> <td>1931976        </td> <td>1996862        </td> <td>2017940        </td>\n",
       "        </tr>\n",
       "        <tr>\n",
       "            <td>2   </td> <td>38  </td> <td>2072160      </td> <td>2072223          </td> <td>2052176        </td> <td>1966855        </td> <td>1932785        </td> <td>1990182        </td> <td>1938503        </td> <td>2003325        </td>\n",
       "        </tr>\n",
       "        <tr>\n",
       "            <td>2   </td> <td>39  </td> <td>2197391      </td> <td>2197449          </td> <td>2175745        </td> <td>2056136        </td> <td>1971037        </td> <td>1937394        </td> <td>1995795        </td> <td>1944284        </td>\n",
       "        </tr>\n",
       "        <tr>\n",
       "            <td>2   </td> <td>40  </td> <td>2192025      </td> <td>2192083          </td> <td>2197964        </td> <td>2178924        </td> <td>2059522        </td> <td>1974777        </td> <td>1942194        </td> <td>2000626        </td>\n",
       "        </tr>\n",
       "        <tr>\n",
       "            <td>2   </td> <td>41  </td> <td>2067167      </td> <td>2067224          </td> <td>2089576        </td> <td>2200499        </td> <td>2181324        </td> <td>2062408        </td> <td>1978607        </td> <td>1946164        </td>\n",
       "        </tr>\n",
       "        <tr>\n",
       "            <td>2   </td> <td>42  </td> <td>2047451      </td> <td>2047505          </td> <td>2050930        </td> <td>2091373        </td> <td>2202297        </td> <td>2183459        </td> <td>2065491        </td> <td>1981947        </td>\n",
       "        </tr>\n",
       "        <tr>\n",
       "            <td>2   </td> <td>43  </td> <td>2069115      </td> <td>2069167          </td> <td>2062862        </td> <td>2052204        </td> <td>2092791        </td> <td>2203951        </td> <td>2185890        </td> <td>2068346        </td>\n",
       "        </tr>\n",
       "        <tr>\n",
       "            <td>2   </td> <td>44  </td> <td>2121229      </td> <td>2121296          </td> <td>2103936        </td> <td>2063717        </td> <td>2053204        </td> <td>2094057        </td> <td>2205835        </td> <td>2187962        </td>\n",
       "        </tr>\n",
       "        <tr>\n",
       "            <td>2   </td> <td>45  </td> <td>2271418      </td> <td>2271480          </td> <td>2236654        </td> <td>2104140        </td> <td>2063886        </td> <td>2053608        </td> <td>2095203        </td> <td>2206861        </td>\n",
       "        </tr>\n",
       "        <tr>\n",
       "            <td>2   </td> <td>46  </td> <td>2288779      </td> <td>2288842          </td> <td>2290942        </td> <td>2235941        </td> <td>2103336        </td> <td>2063540        </td> <td>2054118        </td> <td>2095675        </td>\n",
       "        </tr>\n",
       "        <tr>\n",
       "            <td>2   </td> <td>47  </td> <td>2297017      </td> <td>2297079          </td> <td>2297533        </td> <td>2289236        </td> <td>2234300        </td> <td>2102379        </td> <td>2063366        </td> <td>2054083        </td>\n",
       "        </tr>\n",
       "        <tr>\n",
       "            <td>2   </td> <td>48  </td> <td>2301062      </td> <td>2301109          </td> <td>2299367        </td> <td>2294985        </td> <td>2286811        </td> <td>2232309        </td> <td>2101346        </td> <td>2062616        </td>\n",
       "        </tr>\n",
       "        <tr>\n",
       "            <td>2   </td> <td>49  </td> <td>2341230      </td> <td>2341267          </td> <td>2336640        </td> <td>2296017        </td> <td>2291692        </td> <td>2283785        </td> <td>2230032        </td> <td>2099680        </td>\n",
       "        </tr>\n",
       "        <tr>\n",
       "            <td>2   </td> <td>50  </td> <td>2359941      </td> <td>2359986          </td> <td>2355369        </td> <td>2332408        </td> <td>2292024        </td> <td>2288007        </td> <td>2280640        </td> <td>2227286        </td>\n",
       "        </tr>\n",
       "        <tr>\n",
       "            <td>2   </td> <td>51  </td> <td>2273865      </td> <td>2273919          </td> <td>2289194        </td> <td>2350587        </td> <td>2327601        </td> <td>2287431        </td> <td>2283994        </td> <td>2276939        </td>\n",
       "        </tr>\n",
       "        <tr>\n",
       "            <td>2   </td> <td>52  </td> <td>2293600      </td> <td>2293632          </td> <td>2283423        </td> <td>2283723        </td> <td>2344784        </td> <td>2321828        </td> <td>2282387        </td> <td>2279256        </td>\n",
       "        </tr>\n",
       "        <tr>\n",
       "            <td>2   </td> <td>53  </td> <td>2239000      </td> <td>2239038          </td> <td>2268480        </td> <td>2277403        </td> <td>2277408        </td> <td>2338484        </td> <td>2316102        </td> <td>2277046        </td>\n",
       "        </tr>\n",
       "        <tr>\n",
       "            <td>2   </td> <td>54  </td> <td>2198445      </td> <td>2198481          </td> <td>2196807        </td> <td>2261745        </td> <td>2270454        </td> <td>2270517        </td> <td>2332003        </td> <td>2309943        </td>\n",
       "        </tr>\n",
       "        <tr>\n",
       "            <td>2   </td> <td>55  </td> <td>2181236      </td> <td>2181263          </td> <td>2183771        </td> <td>2189509        </td> <td>2254181        </td> <td>2262891        </td> <td>2263429        </td> <td>2324887        </td>\n",
       "        </tr>\n",
       "        <tr>\n",
       "            <td>2   </td> <td>56  </td> <td>2081372      </td> <td>2081399          </td> <td>2108684        </td> <td>2176129        </td> <td>2181585        </td> <td>2245814        </td> <td>2255009        </td> <td>2255835        </td>\n",
       "        </tr>\n",
       "        <tr>\n",
       "            <td>2   </td> <td>57  </td> <td>2031031      </td> <td>2031052          </td> <td>2036521        </td> <td>2100466        </td> <td>2167709        </td> <td>2172840        </td> <td>2237219        </td> <td>2246694        </td>\n",
       "        </tr>\n",
       "        <tr>\n",
       "            <td>2   </td> <td>58  </td> <td>1960120      </td> <td>1960152          </td> <td>1963767        </td> <td>2027962        </td> <td>2091634        </td> <td>2158434        </td> <td>2163908        </td> <td>2228294        </td>\n",
       "        </tr>\n",
       "        <tr>\n",
       "            <td>2   </td> <td>59  </td> <td>1887398      </td> <td>1887420          </td> <td>1914774        </td> <td>1954730        </td> <td>2018833        </td> <td>2081989        </td> <td>2148934        </td> <td>2154665        </td>\n",
       "        </tr>\n",
       "        <tr>\n",
       "            <td>2   </td> <td>60  </td> <td>1875624      </td> <td>1875655          </td> <td>1874501        </td> <td>1905438        </td> <td>1944959        </td> <td>2008611        </td> <td>2071869        </td> <td>2138784        </td>\n",
       "        </tr>\n",
       "        <tr>\n",
       "            <td>2   </td> <td>61  </td> <td>1813519      </td> <td>1813542          </td> <td>1828708        </td> <td>1864418        </td> <td>1895023        </td> <td>1934041        </td> <td>1997711        </td> <td>2060944        </td>\n",
       "        </tr>\n",
       "        <tr>\n",
       "            <td>2   </td> <td>62  </td> <td>1850490      </td> <td>1850514          </td> <td>1815999        </td> <td>1817226        </td> <td>1853126        </td> <td>1883175        </td> <td>1922402        </td> <td>1986021        </td>\n",
       "        </tr>\n",
       "        <tr>\n",
       "            <td>2   </td> <td>63  </td> <td>1811555      </td> <td>1811581          </td> <td>1898264        </td> <td>1803145        </td> <td>1804628        </td> <td>1840490        </td> <td>1870596        </td> <td>1909879        </td>\n",
       "        </tr>\n",
       "        <tr>\n",
       "            <td>2   </td> <td>64  </td> <td>1389236      </td> <td>1389270          </td> <td>1414222        </td> <td>1883450        </td> <td>1789241        </td> <td>1790730        </td> <td>1826744        </td> <td>1857069        </td>\n",
       "        </tr>\n",
       "        <tr>\n",
       "            <td>2   </td> <td>65  </td> <td>1407451      </td> <td>1407476          </td> <td>1405839        </td> <td>1402505        </td> <td>1867842        </td> <td>1774132        </td> <td>1776052        </td> <td>1812107        </td>\n",
       "        </tr>\n",
       "        <tr>\n",
       "            <td>2   </td> <td>66  </td> <td>1390865      </td> <td>1390900          </td> <td>1381541        </td> <td>1393042        </td> <td>1389840        </td> <td>1850722        </td> <td>1758337        </td> <td>1760795        </td>\n",
       "        </tr>\n",
       "        <tr>\n",
       "            <td>2   </td> <td>67  </td> <td>1400459      </td> <td>1400488          </td> <td>1423562        </td> <td>1367303        </td> <td>1379305        </td> <td>1375958        </td> <td>1832243        </td> <td>1741227        </td>\n",
       "        </tr>\n",
       "        <tr>\n",
       "            <td>2   </td> <td>68  </td> <td>1236376      </td> <td>1236397          </td> <td>1254117        </td> <td>1407341        </td> <td>1351886        </td> <td>1364040        </td> <td>1361081        </td> <td>1812428        </td>\n",
       "        </tr>\n",
       "        <tr>\n",
       "            <td>2   </td> <td>69  </td> <td>1147565      </td> <td>1147584          </td> <td>1161048        </td> <td>1238279        </td> <td>1389829        </td> <td>1334673        </td> <td>1347423        </td> <td>1344721        </td>\n",
       "        </tr>\n",
       "        <tr>\n",
       "            <td>2   </td> <td>70  </td> <td>1097510      </td> <td>1097536          </td> <td>1108504        </td> <td>1144774        </td> <td>1221299        </td> <td>1370476        </td> <td>1316930        </td> <td>1329818        </td>\n",
       "        </tr>\n",
       "        <tr>\n",
       "            <td>2   </td> <td>71  </td> <td>1049175      </td> <td>1049204          </td> <td>1050349        </td> <td>1091402        </td> <td>1127733        </td> <td>1202733        </td> <td>1350590        </td> <td>1298089        </td>\n",
       "        </tr>\n",
       "        <tr>\n",
       "            <td>2   </td> <td>72  </td> <td>1010549      </td> <td>1010575          </td> <td>1021291        </td> <td>1032444        </td> <td>1073402        </td> <td>1108773        </td> <td>1183363        </td> <td>1328954        </td>\n",
       "        </tr>\n",
       "        <tr>\n",
       "            <td>2   </td> <td>73  </td> <td>949097       </td> <td>949119           </td> <td>955658         </td> <td>1002043        </td> <td>1013531        </td> <td>1053416        </td> <td>1089027        </td> <td>1162411        </td>\n",
       "        </tr>\n",
       "        <tr>\n",
       "            <td>2   </td> <td>74  </td> <td>927863       </td> <td>927902           </td> <td>927165         </td> <td>935634         </td> <td>981707         </td> <td>992542         </td> <td>1032543        </td> <td>1067619        </td>\n",
       "        </tr>\n",
       "        <tr>\n",
       "            <td>2   </td> <td>75  </td> <td>899069       </td> <td>899118           </td> <td>906215         </td> <td>905698         </td> <td>914620         </td> <td>959263         </td> <td>970796         </td> <td>1010164        </td>\n",
       "        </tr>\n",
       "        <tr>\n",
       "            <td>2   </td> <td>76  </td> <td>823266       </td> <td>823310           </td> <td>828129         </td> <td>882883         </td> <td>883041         </td> <td>891297         </td> <td>935833         </td> <td>947283         </td>\n",
       "        </tr>\n",
       "        <tr>\n",
       "            <td>2   </td> <td>77  </td> <td>823446       </td> <td>823499           </td> <td>818306         </td> <td>804295         </td> <td>858330         </td> <td>857905         </td> <td>866942         </td> <td>910536         </td>\n",
       "        </tr>\n",
       "        <tr>\n",
       "            <td>2   </td> <td>78  </td> <td>797665       </td> <td>797715           </td> <td>799408         </td> <td>792288         </td> <td>779364         </td> <td>831257         </td> <td>831915         </td> <td>840960         </td>\n",
       "        </tr>\n",
       "        <tr>\n",
       "            <td>2   </td> <td>79  </td> <td>791961       </td> <td>792028           </td> <td>781027         </td> <td>771114         </td> <td>765048         </td> <td>751847         </td> <td>803078         </td> <td>803984         </td>\n",
       "        </tr>\n",
       "        <tr>\n",
       "            <td>2   </td> <td>80  </td> <td>764952       </td> <td>765013           </td> <td>770509         </td> <td>750270         </td> <td>741477         </td> <td>735010         </td> <td>723310         </td> <td>772956         </td>\n",
       "        </tr>\n",
       "        <tr>\n",
       "            <td>2   </td> <td>81  </td> <td>717995       </td> <td>718062           </td> <td>716533         </td> <td>736823         </td> <td>718174         </td> <td>709010         </td> <td>704052         </td> <td>693056         </td>\n",
       "        </tr>\n",
       "        <tr>\n",
       "            <td>2   </td> <td>82  </td> <td>698438       </td> <td>698526           </td> <td>695544         </td> <td>681499         </td> <td>701794         </td> <td>683106         </td> <td>675643         </td> <td>671319         </td>\n",
       "        </tr>\n",
       "        <tr>\n",
       "            <td>2   </td> <td>83  </td> <td>654978       </td> <td>655059           </td> <td>658441         </td> <td>657386         </td> <td>645034         </td> <td>663421         </td> <td>647071         </td> <td>640387         </td>\n",
       "        </tr>\n",
       "        <tr>\n",
       "            <td>2   </td> <td>84  </td> <td>612590       </td> <td>612685           </td> <td>611338         </td> <td>617772         </td> <td>617811         </td> <td>605200         </td> <td>623984         </td> <td>608958         </td>\n",
       "        </tr>\n",
       "        <tr>\n",
       "            <td>2   </td> <td>85  </td> <td>577904       </td> <td>578015           </td> <td>577352         </td> <td>568677         </td> <td>575940         </td> <td>574911         </td> <td>564605         </td> <td>582641         </td>\n",
       "        </tr>\n",
       "        <tr>\n",
       "            <td>2   </td> <td>86  </td> <td>521091       </td> <td>521192           </td> <td>526153         </td> <td>532075         </td> <td>525249         </td> <td>531057         </td> <td>531680         </td> <td>522563         </td>\n",
       "        </tr>\n",
       "        <tr>\n",
       "            <td>2   </td> <td>87  </td> <td>463105       </td> <td>463206           </td> <td>467575         </td> <td>479816         </td> <td>486601         </td> <td>479238         </td> <td>486253         </td> <td>487256         </td>\n",
       "        </tr>\n",
       "        <tr>\n",
       "            <td>2   </td> <td>88  </td> <td>423183       </td> <td>423293           </td> <td>420437         </td> <td>421475         </td> <td>433928         </td> <td>439081         </td> <td>433947         </td> <td>440879         </td>\n",
       "        </tr>\n",
       "        <tr>\n",
       "            <td>2   </td> <td>89  </td> <td>361309       </td> <td>361429           </td> <td>365732         </td> <td>373964         </td> <td>376531         </td> <td>386660         </td> <td>392978         </td> <td>388762         </td>\n",
       "        </tr>\n",
       "        <tr>\n",
       "            <td>2   </td> <td>90  </td> <td>298615       </td> <td>298710           </td> <td>306925         </td> <td>320846         </td> <td>329362         </td> <td>330922         </td> <td>341430         </td> <td>347555         </td>\n",
       "        </tr>\n",
       "        <tr>\n",
       "            <td>2   </td> <td>91  </td> <td>241188       </td> <td>241302           </td> <td>240151         </td> <td>264941         </td> <td>278508         </td> <td>284861         </td> <td>287889         </td> <td>297448         </td>\n",
       "        </tr>\n",
       "        <tr>\n",
       "            <td>2   </td> <td>92  </td> <td>200317       </td> <td>200397           </td> <td>205379         </td> <td>203920         </td> <td>226098         </td> <td>237047         </td> <td>243648         </td> <td>246825         </td>\n",
       "        </tr>\n",
       "        <tr>\n",
       "            <td>2   </td> <td>93  </td> <td>157941       </td> <td>158024           </td> <td>158882         </td> <td>171167         </td> <td>171116         </td> <td>188794         </td> <td>199426         </td> <td>205146         </td>\n",
       "        </tr>\n",
       "        <tr>\n",
       "            <td>2   </td> <td>94  </td> <td>125918       </td> <td>125984           </td> <td>126948         </td> <td>129530         </td> <td>140877         </td> <td>140360         </td> <td>155637         </td> <td>164983         </td>\n",
       "        </tr>\n",
       "        <tr>\n",
       "            <td>2   </td> <td>95  </td> <td>98766        </td> <td>98825            </td> <td>99341          </td> <td>101452         </td> <td>104171         </td> <td>113086         </td> <td>113732         </td> <td>125996         </td>\n",
       "        </tr>\n",
       "        <tr>\n",
       "            <td>2   </td> <td>96  </td> <td>73799        </td> <td>73856            </td> <td>75139          </td> <td>77460          </td> <td>79970          </td> <td>81490          </td> <td>89432          </td> <td>90302          </td>\n",
       "        </tr>\n",
       "        <tr>\n",
       "            <td>2   </td> <td>97  </td> <td>53582        </td> <td>53605            </td> <td>54118          </td> <td>57159          </td> <td>59533          </td> <td>61255          </td> <td>62779          </td> <td>69285          </td>\n",
       "        </tr>\n",
       "        <tr>\n",
       "            <td>2   </td> <td>98  </td> <td>36641        </td> <td>36675            </td> <td>37532          </td> <td>40116          </td> <td>42857          </td> <td>44359          </td> <td>46208          </td> <td>47272          </td>\n",
       "        </tr>\n",
       "        <tr>\n",
       "            <td>2   </td> <td>99  </td> <td>26193        </td> <td>26214            </td> <td>26074          </td> <td>27030          </td> <td>29320          </td> <td>31112          </td> <td>32517          </td> <td>34064          </td>\n",
       "        </tr>\n",
       "        <tr>\n",
       "            <td>2   </td> <td>100 </td> <td>44202        </td> <td>44246            </td> <td>45058          </td> <td>47556          </td> <td>50661          </td> <td>53902          </td> <td>58008          </td> <td>61886          </td>\n",
       "        </tr>\n",
       "        <tr>\n",
       "            <td>2   </td> <td>999 </td> <td>156964212    </td> <td>156969328        </td> <td>157258820      </td> <td>158427085      </td> <td>159581546      </td> <td>160720625      </td> <td>161952064      </td> <td>163189523      </td>\n",
       "        </tr>\n",
       "    </tbody>\n",
       "</table>"
      ],
      "text/plain": [
       "<IPython.core.display.HTML object>"
      ]
     },
     "metadata": {},
     "output_type": "display_data"
    }
   ],
   "source": [
    "census = Table.read_table('census.csv')\n",
    "census.show()"
   ]
  },
  {
   "cell_type": "markdown",
   "metadata": {
    "slideshow": {
     "slide_type": "slide"
    }
   },
   "source": [
    "## What do we have?\n",
    "\n",
    "A description of the dataset is available at [census.gov](https://www2.census.gov/programs-surveys/popest/datasets/2010-2015/national/asrh/nc-est2015-agesex-res.pdf)."
   ]
  },
  {
   "cell_type": "markdown",
   "metadata": {
    "slideshow": {
     "slide_type": "slide"
    }
   },
   "source": [
    "Unfortunately...\n",
    "\n",
    "<center>\n",
    "<img src=\"./moved.png\" width=50%>\n",
    "</center>"
   ]
  },
  {
   "cell_type": "markdown",
   "metadata": {
    "slideshow": {
     "slide_type": "slide"
    }
   },
   "source": [
    "## What are the column labels?"
   ]
  },
  {
   "cell_type": "code",
   "execution_count": 30,
   "metadata": {},
   "outputs": [
    {
     "data": {
      "text/plain": [
       "('SEX',\n",
       " 'AGE',\n",
       " 'CENSUS2010POP',\n",
       " 'ESTIMATESBASE2010',\n",
       " 'POPESTIMATE2010',\n",
       " 'POPESTIMATE2011',\n",
       " 'POPESTIMATE2012',\n",
       " 'POPESTIMATE2013',\n",
       " 'POPESTIMATE2014',\n",
       " 'POPESTIMATE2015')"
      ]
     },
     "execution_count": 30,
     "metadata": {},
     "output_type": "execute_result"
    }
   ],
   "source": [
    "census.labels"
   ]
  },
  {
   "cell_type": "markdown",
   "metadata": {
    "slideshow": {
     "slide_type": "slide"
    }
   },
   "source": [
    "## What values occur in each column?\n",
    "\n",
    "Use `np.unique` to get the unique values."
   ]
  },
  {
   "cell_type": "code",
   "execution_count": 31,
   "metadata": {},
   "outputs": [
    {
     "data": {
      "text/plain": [
       "array([  0,   1,   2,   3,   4,   5,   6,   7,   8,   9,  10,  11,  12,\n",
       "        13,  14,  15,  16,  17,  18,  19,  20,  21,  22,  23,  24,  25,\n",
       "        26,  27,  28,  29,  30,  31,  32,  33,  34,  35,  36,  37,  38,\n",
       "        39,  40,  41,  42,  43,  44,  45,  46,  47,  48,  49,  50,  51,\n",
       "        52,  53,  54,  55,  56,  57,  58,  59,  60,  61,  62,  63,  64,\n",
       "        65,  66,  67,  68,  69,  70,  71,  72,  73,  74,  75,  76,  77,\n",
       "        78,  79,  80,  81,  82,  83,  84,  85,  86,  87,  88,  89,  90,\n",
       "        91,  92,  93,  94,  95,  96,  97,  98,  99, 100, 999])"
      ]
     },
     "execution_count": 31,
     "metadata": {},
     "output_type": "execute_result"
    }
   ],
   "source": [
    "# what ages occur in the data?\n",
    "np.unique(census.column('AGE'))"
   ]
  },
  {
   "cell_type": "markdown",
   "metadata": {
    "slideshow": {
     "slide_type": "fragment"
    }
   },
   "source": [
    "Wait, `999`?"
   ]
  },
  {
   "cell_type": "markdown",
   "metadata": {
    "slideshow": {
     "slide_type": "slide"
    }
   },
   "source": [
    "## What is `999` used for?"
   ]
  },
  {
   "cell_type": "code",
   "execution_count": 32,
   "metadata": {},
   "outputs": [
    {
     "data": {
      "text/html": [
       "<table border=\"1\" class=\"dataframe\">\n",
       "    <thead>\n",
       "        <tr>\n",
       "            <th>SEX</th> <th>AGE</th> <th>CENSUS2010POP</th> <th>ESTIMATESBASE2010</th> <th>POPESTIMATE2010</th> <th>POPESTIMATE2011</th> <th>POPESTIMATE2012</th> <th>POPESTIMATE2013</th> <th>POPESTIMATE2014</th> <th>POPESTIMATE2015</th>\n",
       "        </tr>\n",
       "    </thead>\n",
       "    <tbody>\n",
       "        <tr>\n",
       "            <td>0   </td> <td>999 </td> <td>308745538    </td> <td>308758105        </td> <td>309346863      </td> <td>311718857      </td> <td>314102623      </td> <td>316427395      </td> <td>318907401      </td> <td>321418820      </td>\n",
       "        </tr>\n",
       "        <tr>\n",
       "            <td>1   </td> <td>999 </td> <td>151781326    </td> <td>151788777        </td> <td>152088043      </td> <td>153291772      </td> <td>154521077      </td> <td>155706770      </td> <td>156955337      </td> <td>158229297      </td>\n",
       "        </tr>\n",
       "        <tr>\n",
       "            <td>2   </td> <td>999 </td> <td>156964212    </td> <td>156969328        </td> <td>157258820      </td> <td>158427085      </td> <td>159581546      </td> <td>160720625      </td> <td>161952064      </td> <td>163189523      </td>\n",
       "        </tr>\n",
       "    </tbody>\n",
       "</table>"
      ],
      "text/plain": [
       "SEX  | AGE  | CENSUS2010POP | ESTIMATESBASE2010 | POPESTIMATE2010 | POPESTIMATE2011 | POPESTIMATE2012 | POPESTIMATE2013 | POPESTIMATE2014 | POPESTIMATE2015\n",
       "0    | 999  | 308745538     | 308758105         | 309346863       | 311718857       | 314102623       | 316427395       | 318907401       | 321418820\n",
       "1    | 999  | 151781326     | 151788777         | 152088043       | 153291772       | 154521077       | 155706770       | 156955337       | 158229297\n",
       "2    | 999  | 156964212     | 156969328         | 157258820       | 158427085       | 159581546       | 160720625       | 161952064       | 163189523"
      ]
     },
     "execution_count": 32,
     "metadata": {},
     "output_type": "execute_result"
    }
   ],
   "source": [
    "census.where('AGE', 999)"
   ]
  },
  {
   "cell_type": "markdown",
   "metadata": {
    "slideshow": {
     "slide_type": "fragment"
    }
   },
   "source": [
    "- It looks like `999` means *all ages together*.\n",
    "- Similarly, a `SEX` of `0` means *all sexes together*."
   ]
  },
  {
   "cell_type": "markdown",
   "metadata": {
    "slideshow": {
     "slide_type": "slide"
    }
   },
   "source": [
    "## Discuss\n",
    "\n",
    "Using the data alone, how might we make an educated guess as to which value of `SEX` means \"male\" and which means \"female\"?"
   ]
  },
  {
   "cell_type": "code",
   "execution_count": 33,
   "metadata": {},
   "outputs": [
    {
     "data": {
      "text/html": [
       "<table border=\"1\" class=\"dataframe\">\n",
       "    <thead>\n",
       "        <tr>\n",
       "            <th>SEX</th> <th>AGE</th> <th>CENSUS2010POP</th> <th>ESTIMATESBASE2010</th> <th>POPESTIMATE2010</th> <th>POPESTIMATE2011</th> <th>POPESTIMATE2012</th> <th>POPESTIMATE2013</th> <th>POPESTIMATE2014</th> <th>POPESTIMATE2015</th>\n",
       "        </tr>\n",
       "    </thead>\n",
       "    <tbody>\n",
       "        <tr>\n",
       "            <td>0   </td> <td>87  </td> <td>712908       </td> <td>713046           </td> <td>721196         </td> <td>741551         </td> <td>756097         </td> <td>751513         </td> <td>768676         </td> <td>774639         </td>\n",
       "        </tr>\n",
       "        <tr>\n",
       "            <td>1   </td> <td>87  </td> <td>249803       </td> <td>249840           </td> <td>253621         </td> <td>261735         </td> <td>269496         </td> <td>272275         </td> <td>282423         </td> <td>287383         </td>\n",
       "        </tr>\n",
       "        <tr>\n",
       "            <td>2   </td> <td>87  </td> <td>463105       </td> <td>463206           </td> <td>467575         </td> <td>479816         </td> <td>486601         </td> <td>479238         </td> <td>486253         </td> <td>487256         </td>\n",
       "        </tr>\n",
       "    </tbody>\n",
       "</table>"
      ],
      "text/plain": [
       "SEX  | AGE  | CENSUS2010POP | ESTIMATESBASE2010 | POPESTIMATE2010 | POPESTIMATE2011 | POPESTIMATE2012 | POPESTIMATE2013 | POPESTIMATE2014 | POPESTIMATE2015\n",
       "0    | 87   | 712908        | 713046            | 721196          | 741551          | 756097          | 751513          | 768676          | 774639\n",
       "1    | 87   | 249803        | 249840            | 253621          | 261735          | 269496          | 272275          | 282423          | 287383\n",
       "2    | 87   | 463105        | 463206            | 467575          | 479816          | 486601          | 479238          | 486253          | 487256"
      ]
     },
     "execution_count": 33,
     "metadata": {},
     "output_type": "execute_result"
    }
   ],
   "source": [
    "census.where('AGE', 87)"
   ]
  },
  {
   "cell_type": "markdown",
   "metadata": {
    "slideshow": {
     "slide_type": "fragment"
    }
   },
   "source": [
    "- Women tend to live longer. This suggests that `1` is \"male\" and `2` is \"female\"."
   ]
  },
  {
   "cell_type": "markdown",
   "metadata": {
    "slideshow": {
     "slide_type": "slide"
    }
   },
   "source": [
    "## Analyzing population trends\n",
    "\n",
    "Let's look at how the population changed between 2010 and 2015."
   ]
  },
  {
   "cell_type": "code",
   "execution_count": 34,
   "metadata": {},
   "outputs": [],
   "source": [
    "# we only need a few columns\n",
    "us_pop = census.select('SEX', 'AGE', 'POPESTIMATE2010', 'POPESTIMATE2015')"
   ]
  },
  {
   "cell_type": "code",
   "execution_count": 35,
   "metadata": {},
   "outputs": [
    {
     "data": {
      "text/html": [
       "<table border=\"1\" class=\"dataframe\">\n",
       "    <thead>\n",
       "        <tr>\n",
       "            <th>SEX</th> <th>AGE</th> <th>POPESTIMATE2010</th> <th>POPESTIMATE2015</th>\n",
       "        </tr>\n",
       "    </thead>\n",
       "    <tbody>\n",
       "        <tr>\n",
       "            <td>0   </td> <td>0   </td> <td>3951330        </td> <td>3978038        </td>\n",
       "        </tr>\n",
       "        <tr>\n",
       "            <td>0   </td> <td>1   </td> <td>3957888        </td> <td>3968564        </td>\n",
       "        </tr>\n",
       "        <tr>\n",
       "            <td>0   </td> <td>2   </td> <td>4090862        </td> <td>3966583        </td>\n",
       "        </tr>\n",
       "        <tr>\n",
       "            <td>0   </td> <td>3   </td> <td>4111920        </td> <td>3974061        </td>\n",
       "        </tr>\n",
       "        <tr>\n",
       "            <td>0   </td> <td>4   </td> <td>4077551        </td> <td>4020035        </td>\n",
       "        </tr>\n",
       "        <tr>\n",
       "            <td>0   </td> <td>5   </td> <td>4064653        </td> <td>4018158        </td>\n",
       "        </tr>\n",
       "        <tr>\n",
       "            <td>0   </td> <td>6   </td> <td>4073013        </td> <td>4019207        </td>\n",
       "        </tr>\n",
       "        <tr>\n",
       "            <td>0   </td> <td>7   </td> <td>4043046        </td> <td>4148360        </td>\n",
       "        </tr>\n",
       "        <tr>\n",
       "            <td>0   </td> <td>8   </td> <td>4025604        </td> <td>4167887        </td>\n",
       "        </tr>\n",
       "        <tr>\n",
       "            <td>0   </td> <td>9   </td> <td>4125415        </td> <td>4133564        </td>\n",
       "        </tr>\n",
       "    </tbody>\n",
       "</table>\n",
       "<p>... (296 rows omitted)</p>"
      ],
      "text/plain": [
       "SEX  | AGE  | POPESTIMATE2010 | POPESTIMATE2015\n",
       "0    | 0    | 3951330         | 3978038\n",
       "0    | 1    | 3957888         | 3968564\n",
       "0    | 2    | 4090862         | 3966583\n",
       "0    | 3    | 4111920         | 3974061\n",
       "0    | 4    | 4077551         | 4020035\n",
       "0    | 5    | 4064653         | 4018158\n",
       "0    | 6    | 4073013         | 4019207\n",
       "0    | 7    | 4043046         | 4148360\n",
       "0    | 8    | 4025604         | 4167887\n",
       "0    | 9    | 4125415         | 4133564\n",
       "... (296 rows omitted)"
      ]
     },
     "execution_count": 35,
     "metadata": {},
     "output_type": "execute_result"
    }
   ],
   "source": [
    "us_pop"
   ]
  },
  {
   "cell_type": "code",
   "execution_count": 36,
   "metadata": {},
   "outputs": [
    {
     "data": {
      "text/html": [
       "<table border=\"1\" class=\"dataframe\">\n",
       "    <thead>\n",
       "        <tr>\n",
       "            <th>SEX</th> <th>AGE</th> <th>2010</th> <th>2015</th>\n",
       "        </tr>\n",
       "    </thead>\n",
       "    <tbody>\n",
       "        <tr>\n",
       "            <td>0   </td> <td>0   </td> <td>3951330</td> <td>3978038</td>\n",
       "        </tr>\n",
       "        <tr>\n",
       "            <td>0   </td> <td>1   </td> <td>3957888</td> <td>3968564</td>\n",
       "        </tr>\n",
       "        <tr>\n",
       "            <td>0   </td> <td>2   </td> <td>4090862</td> <td>3966583</td>\n",
       "        </tr>\n",
       "        <tr>\n",
       "            <td>0   </td> <td>3   </td> <td>4111920</td> <td>3974061</td>\n",
       "        </tr>\n",
       "        <tr>\n",
       "            <td>0   </td> <td>4   </td> <td>4077551</td> <td>4020035</td>\n",
       "        </tr>\n",
       "        <tr>\n",
       "            <td>0   </td> <td>5   </td> <td>4064653</td> <td>4018158</td>\n",
       "        </tr>\n",
       "        <tr>\n",
       "            <td>0   </td> <td>6   </td> <td>4073013</td> <td>4019207</td>\n",
       "        </tr>\n",
       "        <tr>\n",
       "            <td>0   </td> <td>7   </td> <td>4043046</td> <td>4148360</td>\n",
       "        </tr>\n",
       "        <tr>\n",
       "            <td>0   </td> <td>8   </td> <td>4025604</td> <td>4167887</td>\n",
       "        </tr>\n",
       "        <tr>\n",
       "            <td>0   </td> <td>9   </td> <td>4125415</td> <td>4133564</td>\n",
       "        </tr>\n",
       "    </tbody>\n",
       "</table>\n",
       "<p>... (296 rows omitted)</p>"
      ],
      "text/plain": [
       "SEX  | AGE  | 2010    | 2015\n",
       "0    | 0    | 3951330 | 3978038\n",
       "0    | 1    | 3957888 | 3968564\n",
       "0    | 2    | 4090862 | 3966583\n",
       "0    | 3    | 4111920 | 3974061\n",
       "0    | 4    | 4077551 | 4020035\n",
       "0    | 5    | 4064653 | 4018158\n",
       "0    | 6    | 4073013 | 4019207\n",
       "0    | 7    | 4043046 | 4148360\n",
       "0    | 8    | 4025604 | 4167887\n",
       "0    | 9    | 4125415 | 4133564\n",
       "... (296 rows omitted)"
      ]
     },
     "execution_count": 36,
     "metadata": {},
     "output_type": "execute_result"
    }
   ],
   "source": [
    "# we don't like to type POPESTIMATE2010. Relabel to something shorter...\n",
    "us_pop = us_pop.relabeled('POPESTIMATE2010', '2010').relabeled('POPESTIMATE2015', '2015')\n",
    "us_pop"
   ]
  },
  {
   "cell_type": "markdown",
   "metadata": {
    "slideshow": {
     "slide_type": "slide"
    }
   },
   "source": [
    "## Population changes\n",
    "\n",
    "Compute absolute and percentage changes."
   ]
  },
  {
   "cell_type": "code",
   "execution_count": 37,
   "metadata": {},
   "outputs": [],
   "source": [
    "us_pop = us_pop.with_column(\n",
    "    'CHANGE',\n",
    "    us_pop.column('2015') - us_pop.column('2010')\n",
    ")"
   ]
  },
  {
   "cell_type": "code",
   "execution_count": 38,
   "metadata": {},
   "outputs": [
    {
     "data": {
      "text/html": [
       "<table border=\"1\" class=\"dataframe\">\n",
       "    <thead>\n",
       "        <tr>\n",
       "            <th>SEX</th> <th>AGE</th> <th>2010</th> <th>2015</th> <th>CHANGE</th> <th>PCT CHANGE</th>\n",
       "        </tr>\n",
       "    </thead>\n",
       "    <tbody>\n",
       "        <tr>\n",
       "            <td>0   </td> <td>0   </td> <td>3951330</td> <td>3978038</td> <td>26708  </td> <td>0.00675924</td>\n",
       "        </tr>\n",
       "        <tr>\n",
       "            <td>0   </td> <td>1   </td> <td>3957888</td> <td>3968564</td> <td>10676  </td> <td>0.0026974 </td>\n",
       "        </tr>\n",
       "        <tr>\n",
       "            <td>0   </td> <td>2   </td> <td>4090862</td> <td>3966583</td> <td>-124279</td> <td>-0.0303797</td>\n",
       "        </tr>\n",
       "        <tr>\n",
       "            <td>0   </td> <td>3   </td> <td>4111920</td> <td>3974061</td> <td>-137859</td> <td>-0.0335267</td>\n",
       "        </tr>\n",
       "        <tr>\n",
       "            <td>0   </td> <td>4   </td> <td>4077551</td> <td>4020035</td> <td>-57516 </td> <td>-0.0141055</td>\n",
       "        </tr>\n",
       "        <tr>\n",
       "            <td>0   </td> <td>5   </td> <td>4064653</td> <td>4018158</td> <td>-46495 </td> <td>-0.0114389</td>\n",
       "        </tr>\n",
       "        <tr>\n",
       "            <td>0   </td> <td>6   </td> <td>4073013</td> <td>4019207</td> <td>-53806 </td> <td>-0.0132104</td>\n",
       "        </tr>\n",
       "        <tr>\n",
       "            <td>0   </td> <td>7   </td> <td>4043046</td> <td>4148360</td> <td>105314 </td> <td>0.0260482 </td>\n",
       "        </tr>\n",
       "        <tr>\n",
       "            <td>0   </td> <td>8   </td> <td>4025604</td> <td>4167887</td> <td>142283 </td> <td>0.0353445 </td>\n",
       "        </tr>\n",
       "        <tr>\n",
       "            <td>0   </td> <td>9   </td> <td>4125415</td> <td>4133564</td> <td>8149   </td> <td>0.00197532</td>\n",
       "        </tr>\n",
       "    </tbody>\n",
       "</table>\n",
       "<p>... (296 rows omitted)</p>"
      ],
      "text/plain": [
       "SEX  | AGE  | 2010    | 2015    | CHANGE  | PCT CHANGE\n",
       "0    | 0    | 3951330 | 3978038 | 26708   | 0.00675924\n",
       "0    | 1    | 3957888 | 3968564 | 10676   | 0.0026974\n",
       "0    | 2    | 4090862 | 3966583 | -124279 | -0.0303797\n",
       "0    | 3    | 4111920 | 3974061 | -137859 | -0.0335267\n",
       "0    | 4    | 4077551 | 4020035 | -57516  | -0.0141055\n",
       "0    | 5    | 4064653 | 4018158 | -46495  | -0.0114389\n",
       "0    | 6    | 4073013 | 4019207 | -53806  | -0.0132104\n",
       "0    | 7    | 4043046 | 4148360 | 105314  | 0.0260482\n",
       "0    | 8    | 4025604 | 4167887 | 142283  | 0.0353445\n",
       "0    | 9    | 4125415 | 4133564 | 8149    | 0.00197532\n",
       "... (296 rows omitted)"
      ]
     },
     "execution_count": 38,
     "metadata": {},
     "output_type": "execute_result"
    }
   ],
   "source": [
    "us_pop = us_pop.with_column(\n",
    "    'PCT CHANGE',\n",
    "    us_pop.column('CHANGE') / us_pop.column('2010')\n",
    "    )\n",
    "us_pop"
   ]
  },
  {
   "cell_type": "code",
   "execution_count": 40,
   "metadata": {},
   "outputs": [
    {
     "data": {
      "text/html": [
       "<table border=\"1\" class=\"dataframe\">\n",
       "    <thead>\n",
       "        <tr>\n",
       "            <th>SEX</th> <th>AGE</th> <th>2010</th> <th>2015</th> <th>CHANGE</th> <th>PCT CHANGE</th>\n",
       "        </tr>\n",
       "    </thead>\n",
       "    <tbody>\n",
       "        <tr>\n",
       "            <td>0   </td> <td>999 </td> <td>309346863</td> <td>321418820</td> <td>12071957</td> <td>0.039024  </td>\n",
       "        </tr>\n",
       "        <tr>\n",
       "            <td>1   </td> <td>999 </td> <td>152088043</td> <td>158229297</td> <td>6141254 </td> <td>0.0403796 </td>\n",
       "        </tr>\n",
       "        <tr>\n",
       "            <td>2   </td> <td>999 </td> <td>157258820</td> <td>163189523</td> <td>5930703 </td> <td>0.037713  </td>\n",
       "        </tr>\n",
       "        <tr>\n",
       "            <td>0   </td> <td>68  </td> <td>2359816  </td> <td>3436357  </td> <td>1076541 </td> <td>0.456197  </td>\n",
       "        </tr>\n",
       "        <tr>\n",
       "            <td>0   </td> <td>64  </td> <td>2706055  </td> <td>3536156  </td> <td>830101  </td> <td>0.306757  </td>\n",
       "        </tr>\n",
       "        <tr>\n",
       "            <td>0   </td> <td>65  </td> <td>2678525  </td> <td>3450043  </td> <td>771518  </td> <td>0.288038  </td>\n",
       "        </tr>\n",
       "        <tr>\n",
       "            <td>0   </td> <td>66  </td> <td>2621335  </td> <td>3344134  </td> <td>722799  </td> <td>0.275737  </td>\n",
       "        </tr>\n",
       "        <tr>\n",
       "            <td>0   </td> <td>67  </td> <td>2693707  </td> <td>3304187  </td> <td>610480  </td> <td>0.226632  </td>\n",
       "        </tr>\n",
       "        <tr>\n",
       "            <td>0   </td> <td>72  </td> <td>1883820  </td> <td>2469605  </td> <td>585785  </td> <td>0.310956  </td>\n",
       "        </tr>\n",
       "        <tr>\n",
       "            <td>2   </td> <td>68  </td> <td>1254117  </td> <td>1812428  </td> <td>558311  </td> <td>0.445183  </td>\n",
       "        </tr>\n",
       "    </tbody>\n",
       "</table>\n",
       "<p>... (296 rows omitted)</p>"
      ],
      "text/plain": [
       "SEX  | AGE  | 2010      | 2015      | CHANGE   | PCT CHANGE\n",
       "0    | 999  | 309346863 | 321418820 | 12071957 | 0.039024\n",
       "1    | 999  | 152088043 | 158229297 | 6141254  | 0.0403796\n",
       "2    | 999  | 157258820 | 163189523 | 5930703  | 0.037713\n",
       "0    | 68   | 2359816   | 3436357   | 1076541  | 0.456197\n",
       "0    | 64   | 2706055   | 3536156   | 830101   | 0.306757\n",
       "0    | 65   | 2678525   | 3450043   | 771518   | 0.288038\n",
       "0    | 66   | 2621335   | 3344134   | 722799   | 0.275737\n",
       "0    | 67   | 2693707   | 3304187   | 610480   | 0.226632\n",
       "0    | 72   | 1883820   | 2469605   | 585785   | 0.310956\n",
       "2    | 68   | 1254117   | 1812428   | 558311   | 0.445183\n",
       "... (296 rows omitted)"
      ]
     },
     "execution_count": 40,
     "metadata": {},
     "output_type": "execute_result"
    }
   ],
   "source": [
    "us_pop.sort('CHANGE',descending=True)"
   ]
  },
  {
   "cell_type": "code",
   "execution_count": 41,
   "metadata": {},
   "outputs": [
    {
     "data": {
      "text/plain": [
       "1947"
      ]
     },
     "execution_count": 41,
     "metadata": {},
     "output_type": "execute_result"
    }
   ],
   "source": [
    "2015-68\n",
    "#Post War"
   ]
  },
  {
   "cell_type": "markdown",
   "metadata": {
    "slideshow": {
     "slide_type": "slide"
    }
   },
   "source": [
    "## Display percentages nicely"
   ]
  },
  {
   "cell_type": "code",
   "execution_count": 42,
   "metadata": {},
   "outputs": [
    {
     "data": {
      "text/html": [
       "<table border=\"1\" class=\"dataframe\">\n",
       "    <thead>\n",
       "        <tr>\n",
       "            <th>SEX</th> <th>AGE</th> <th>2010</th> <th>2015</th> <th>CHANGE</th> <th>PCT CHANGE</th>\n",
       "        </tr>\n",
       "    </thead>\n",
       "    <tbody>\n",
       "        <tr>\n",
       "            <td>0   </td> <td>0   </td> <td>3951330</td> <td>3978038</td> <td>26708  </td> <td>0.68%     </td>\n",
       "        </tr>\n",
       "        <tr>\n",
       "            <td>0   </td> <td>1   </td> <td>3957888</td> <td>3968564</td> <td>10676  </td> <td>0.27%     </td>\n",
       "        </tr>\n",
       "        <tr>\n",
       "            <td>0   </td> <td>2   </td> <td>4090862</td> <td>3966583</td> <td>-124279</td> <td>-3.04%    </td>\n",
       "        </tr>\n",
       "        <tr>\n",
       "            <td>0   </td> <td>3   </td> <td>4111920</td> <td>3974061</td> <td>-137859</td> <td>-3.35%    </td>\n",
       "        </tr>\n",
       "        <tr>\n",
       "            <td>0   </td> <td>4   </td> <td>4077551</td> <td>4020035</td> <td>-57516 </td> <td>-1.41%    </td>\n",
       "        </tr>\n",
       "        <tr>\n",
       "            <td>0   </td> <td>5   </td> <td>4064653</td> <td>4018158</td> <td>-46495 </td> <td>-1.14%    </td>\n",
       "        </tr>\n",
       "        <tr>\n",
       "            <td>0   </td> <td>6   </td> <td>4073013</td> <td>4019207</td> <td>-53806 </td> <td>-1.32%    </td>\n",
       "        </tr>\n",
       "        <tr>\n",
       "            <td>0   </td> <td>7   </td> <td>4043046</td> <td>4148360</td> <td>105314 </td> <td>2.60%     </td>\n",
       "        </tr>\n",
       "        <tr>\n",
       "            <td>0   </td> <td>8   </td> <td>4025604</td> <td>4167887</td> <td>142283 </td> <td>3.53%     </td>\n",
       "        </tr>\n",
       "        <tr>\n",
       "            <td>0   </td> <td>9   </td> <td>4125415</td> <td>4133564</td> <td>8149   </td> <td>0.20%     </td>\n",
       "        </tr>\n",
       "    </tbody>\n",
       "</table>\n",
       "<p>... (296 rows omitted)</p>"
      ],
      "text/plain": [
       "SEX  | AGE  | 2010    | 2015    | CHANGE  | PCT CHANGE\n",
       "0    | 0    | 3951330 | 3978038 | 26708   | 0.68%\n",
       "0    | 1    | 3957888 | 3968564 | 10676   | 0.27%\n",
       "0    | 2    | 4090862 | 3966583 | -124279 | -3.04%\n",
       "0    | 3    | 4111920 | 3974061 | -137859 | -3.35%\n",
       "0    | 4    | 4077551 | 4020035 | -57516  | -1.41%\n",
       "0    | 5    | 4064653 | 4018158 | -46495  | -1.14%\n",
       "0    | 6    | 4073013 | 4019207 | -53806  | -1.32%\n",
       "0    | 7    | 4043046 | 4148360 | 105314  | 2.60%\n",
       "0    | 8    | 4025604 | 4167887 | 142283  | 3.53%\n",
       "0    | 9    | 4125415 | 4133564 | 8149    | 0.20%\n",
       "... (296 rows omitted)"
      ]
     },
     "execution_count": 42,
     "metadata": {},
     "output_type": "execute_result"
    }
   ],
   "source": [
    "us_pop.set_format('PCT CHANGE', PercentFormatter)"
   ]
  },
  {
   "cell_type": "markdown",
   "metadata": {
    "slideshow": {
     "slide_type": "slide"
    }
   },
   "source": [
    "## What age group(s) grew the most in size?\n",
    "\n",
    "1. Any guesses?\n",
    "2. How could we find out?"
   ]
  },
  {
   "cell_type": "code",
   "execution_count": 43,
   "metadata": {
    "slideshow": {
     "slide_type": "fragment"
    }
   },
   "outputs": [
    {
     "data": {
      "text/html": [
       "<table border=\"1\" class=\"dataframe\">\n",
       "    <thead>\n",
       "        <tr>\n",
       "            <th>SEX</th> <th>AGE</th> <th>2010</th> <th>2015</th> <th>CHANGE</th> <th>PCT CHANGE</th>\n",
       "        </tr>\n",
       "    </thead>\n",
       "    <tbody>\n",
       "        <tr>\n",
       "            <td>0   </td> <td>999 </td> <td>309346863</td> <td>321418820</td> <td>12071957</td> <td>3.90%     </td>\n",
       "        </tr>\n",
       "        <tr>\n",
       "            <td>1   </td> <td>999 </td> <td>152088043</td> <td>158229297</td> <td>6141254 </td> <td>4.04%     </td>\n",
       "        </tr>\n",
       "        <tr>\n",
       "            <td>2   </td> <td>999 </td> <td>157258820</td> <td>163189523</td> <td>5930703 </td> <td>3.77%     </td>\n",
       "        </tr>\n",
       "        <tr>\n",
       "            <td>0   </td> <td>68  </td> <td>2359816  </td> <td>3436357  </td> <td>1076541 </td> <td>45.62%    </td>\n",
       "        </tr>\n",
       "        <tr>\n",
       "            <td>0   </td> <td>64  </td> <td>2706055  </td> <td>3536156  </td> <td>830101  </td> <td>30.68%    </td>\n",
       "        </tr>\n",
       "        <tr>\n",
       "            <td>0   </td> <td>65  </td> <td>2678525  </td> <td>3450043  </td> <td>771518  </td> <td>28.80%    </td>\n",
       "        </tr>\n",
       "        <tr>\n",
       "            <td>0   </td> <td>66  </td> <td>2621335  </td> <td>3344134  </td> <td>722799  </td> <td>27.57%    </td>\n",
       "        </tr>\n",
       "        <tr>\n",
       "            <td>0   </td> <td>67  </td> <td>2693707  </td> <td>3304187  </td> <td>610480  </td> <td>22.66%    </td>\n",
       "        </tr>\n",
       "        <tr>\n",
       "            <td>0   </td> <td>72  </td> <td>1883820  </td> <td>2469605  </td> <td>585785  </td> <td>31.10%    </td>\n",
       "        </tr>\n",
       "        <tr>\n",
       "            <td>2   </td> <td>68  </td> <td>1254117  </td> <td>1812428  </td> <td>558311  </td> <td>44.52%    </td>\n",
       "        </tr>\n",
       "    </tbody>\n",
       "</table>\n",
       "<p>... (296 rows omitted)</p>"
      ],
      "text/plain": [
       "SEX  | AGE  | 2010      | 2015      | CHANGE   | PCT CHANGE\n",
       "0    | 999  | 309346863 | 321418820 | 12071957 | 3.90%\n",
       "1    | 999  | 152088043 | 158229297 | 6141254  | 4.04%\n",
       "2    | 999  | 157258820 | 163189523 | 5930703  | 3.77%\n",
       "0    | 68   | 2359816   | 3436357   | 1076541  | 45.62%\n",
       "0    | 64   | 2706055   | 3536156   | 830101   | 30.68%\n",
       "0    | 65   | 2678525   | 3450043   | 771518   | 28.80%\n",
       "0    | 66   | 2621335   | 3344134   | 722799   | 27.57%\n",
       "0    | 67   | 2693707   | 3304187   | 610480   | 22.66%\n",
       "0    | 72   | 1883820   | 2469605   | 585785   | 31.10%\n",
       "2    | 68   | 1254117   | 1812428   | 558311   | 44.52%\n",
       "... (296 rows omitted)"
      ]
     },
     "execution_count": 43,
     "metadata": {},
     "output_type": "execute_result"
    }
   ],
   "source": [
    "us_pop.sort('CHANGE', descending=True)"
   ]
  },
  {
   "cell_type": "markdown",
   "metadata": {
    "slideshow": {
     "slide_type": "slide"
    }
   },
   "source": [
    "## Why?"
   ]
  },
  {
   "cell_type": "code",
   "execution_count": null,
   "metadata": {},
   "outputs": [],
   "source": [
    "2010 - 68"
   ]
  },
  {
   "cell_type": "code",
   "execution_count": null,
   "metadata": {},
   "outputs": [],
   "source": [
    "2015 - 68"
   ]
  },
  {
   "cell_type": "markdown",
   "metadata": {
    "slideshow": {
     "slide_type": "fragment"
    }
   },
   "source": [
    "The post-WWII baby boom."
   ]
  },
  {
   "cell_type": "markdown",
   "metadata": {
    "slideshow": {
     "slide_type": "slide"
    }
   },
   "source": [
    "## How does female:male ratio change with age?\n",
    "\n",
    "General approach:  \n",
    "1. Keep data for only one year (say, 2015).\n",
    "2. Make a table of females and a table of males.\n",
    "3. Divide # of females at each age by # of males at that age."
   ]
  },
  {
   "cell_type": "markdown",
   "metadata": {
    "slideshow": {
     "slide_type": "slide"
    }
   },
   "source": [
    "## 1. Keep data for only 2015"
   ]
  },
  {
   "cell_type": "code",
   "execution_count": 44,
   "metadata": {},
   "outputs": [
    {
     "data": {
      "text/html": [
       "<table border=\"1\" class=\"dataframe\">\n",
       "    <thead>\n",
       "        <tr>\n",
       "            <th>SEX</th> <th>AGE</th> <th>2015</th>\n",
       "        </tr>\n",
       "    </thead>\n",
       "    <tbody>\n",
       "        <tr>\n",
       "            <td>0   </td> <td>0   </td> <td>3978038</td>\n",
       "        </tr>\n",
       "        <tr>\n",
       "            <td>0   </td> <td>1   </td> <td>3968564</td>\n",
       "        </tr>\n",
       "        <tr>\n",
       "            <td>0   </td> <td>2   </td> <td>3966583</td>\n",
       "        </tr>\n",
       "        <tr>\n",
       "            <td>0   </td> <td>3   </td> <td>3974061</td>\n",
       "        </tr>\n",
       "        <tr>\n",
       "            <td>0   </td> <td>4   </td> <td>4020035</td>\n",
       "        </tr>\n",
       "        <tr>\n",
       "            <td>0   </td> <td>5   </td> <td>4018158</td>\n",
       "        </tr>\n",
       "        <tr>\n",
       "            <td>0   </td> <td>6   </td> <td>4019207</td>\n",
       "        </tr>\n",
       "        <tr>\n",
       "            <td>0   </td> <td>7   </td> <td>4148360</td>\n",
       "        </tr>\n",
       "        <tr>\n",
       "            <td>0   </td> <td>8   </td> <td>4167887</td>\n",
       "        </tr>\n",
       "        <tr>\n",
       "            <td>0   </td> <td>9   </td> <td>4133564</td>\n",
       "        </tr>\n",
       "    </tbody>\n",
       "</table>\n",
       "<p>... (296 rows omitted)</p>"
      ],
      "text/plain": [
       "SEX  | AGE  | 2015\n",
       "0    | 0    | 3978038\n",
       "0    | 1    | 3968564\n",
       "0    | 2    | 3966583\n",
       "0    | 3    | 3974061\n",
       "0    | 4    | 4020035\n",
       "0    | 5    | 4018158\n",
       "0    | 6    | 4019207\n",
       "0    | 7    | 4148360\n",
       "0    | 8    | 4167887\n",
       "0    | 9    | 4133564\n",
       "... (296 rows omitted)"
      ]
     },
     "execution_count": 44,
     "metadata": {},
     "output_type": "execute_result"
    }
   ],
   "source": [
    "us_pop_2015 = us_pop.select('SEX', 'AGE', '2015')\n",
    "us_pop_2015"
   ]
  },
  {
   "cell_type": "markdown",
   "metadata": {
    "slideshow": {
     "slide_type": "slide"
    }
   },
   "source": [
    "## 2. Make a table of females and a table of males"
   ]
  },
  {
   "cell_type": "code",
   "execution_count": 45,
   "metadata": {},
   "outputs": [
    {
     "data": {
      "text/html": [
       "<table border=\"1\" class=\"dataframe\">\n",
       "    <thead>\n",
       "        <tr>\n",
       "            <th>SEX</th> <th>AGE</th> <th>2015</th>\n",
       "        </tr>\n",
       "    </thead>\n",
       "    <tbody>\n",
       "        <tr>\n",
       "            <td>2   </td> <td>0   </td> <td>1942904</td>\n",
       "        </tr>\n",
       "        <tr>\n",
       "            <td>2   </td> <td>1   </td> <td>1939269</td>\n",
       "        </tr>\n",
       "        <tr>\n",
       "            <td>2   </td> <td>2   </td> <td>1939979</td>\n",
       "        </tr>\n",
       "        <tr>\n",
       "            <td>2   </td> <td>3   </td> <td>1943417</td>\n",
       "        </tr>\n",
       "        <tr>\n",
       "            <td>2   </td> <td>4   </td> <td>1964111</td>\n",
       "        </tr>\n",
       "        <tr>\n",
       "            <td>2   </td> <td>5   </td> <td>1967310</td>\n",
       "        </tr>\n",
       "        <tr>\n",
       "            <td>2   </td> <td>6   </td> <td>1968544</td>\n",
       "        </tr>\n",
       "        <tr>\n",
       "            <td>2   </td> <td>7   </td> <td>2031242</td>\n",
       "        </tr>\n",
       "        <tr>\n",
       "            <td>2   </td> <td>8   </td> <td>2039062</td>\n",
       "        </tr>\n",
       "        <tr>\n",
       "            <td>2   </td> <td>9   </td> <td>2021886</td>\n",
       "        </tr>\n",
       "    </tbody>\n",
       "</table>\n",
       "<p>... (91 rows omitted)</p>"
      ],
      "text/plain": [
       "SEX  | AGE  | 2015\n",
       "2    | 0    | 1942904\n",
       "2    | 1    | 1939269\n",
       "2    | 2    | 1939979\n",
       "2    | 3    | 1943417\n",
       "2    | 4    | 1964111\n",
       "2    | 5    | 1967310\n",
       "2    | 6    | 1968544\n",
       "2    | 7    | 2031242\n",
       "2    | 8    | 2039062\n",
       "2    | 9    | 2021886\n",
       "... (91 rows omitted)"
      ]
     },
     "execution_count": 45,
     "metadata": {},
     "output_type": "execute_result"
    }
   ],
   "source": [
    "females = us_pop_2015.where('SEX', 2).where('AGE', are.not_equal_to(999))\n",
    "females"
   ]
  },
  {
   "cell_type": "code",
   "execution_count": 46,
   "metadata": {},
   "outputs": [
    {
     "data": {
      "text/html": [
       "<table border=\"1\" class=\"dataframe\">\n",
       "    <thead>\n",
       "        <tr>\n",
       "            <th>SEX</th> <th>AGE</th> <th>2015</th>\n",
       "        </tr>\n",
       "    </thead>\n",
       "    <tbody>\n",
       "        <tr>\n",
       "            <td>1   </td> <td>0   </td> <td>2035134</td>\n",
       "        </tr>\n",
       "        <tr>\n",
       "            <td>1   </td> <td>1   </td> <td>2029295</td>\n",
       "        </tr>\n",
       "        <tr>\n",
       "            <td>1   </td> <td>2   </td> <td>2026604</td>\n",
       "        </tr>\n",
       "        <tr>\n",
       "            <td>1   </td> <td>3   </td> <td>2030644</td>\n",
       "        </tr>\n",
       "        <tr>\n",
       "            <td>1   </td> <td>4   </td> <td>2055924</td>\n",
       "        </tr>\n",
       "        <tr>\n",
       "            <td>1   </td> <td>5   </td> <td>2050848</td>\n",
       "        </tr>\n",
       "        <tr>\n",
       "            <td>1   </td> <td>6   </td> <td>2050663</td>\n",
       "        </tr>\n",
       "        <tr>\n",
       "            <td>1   </td> <td>7   </td> <td>2117118</td>\n",
       "        </tr>\n",
       "        <tr>\n",
       "            <td>1   </td> <td>8   </td> <td>2128825</td>\n",
       "        </tr>\n",
       "        <tr>\n",
       "            <td>1   </td> <td>9   </td> <td>2111678</td>\n",
       "        </tr>\n",
       "    </tbody>\n",
       "</table>\n",
       "<p>... (91 rows omitted)</p>"
      ],
      "text/plain": [
       "SEX  | AGE  | 2015\n",
       "1    | 0    | 2035134\n",
       "1    | 1    | 2029295\n",
       "1    | 2    | 2026604\n",
       "1    | 3    | 2030644\n",
       "1    | 4    | 2055924\n",
       "1    | 5    | 2050848\n",
       "1    | 6    | 2050663\n",
       "1    | 7    | 2117118\n",
       "1    | 8    | 2128825\n",
       "1    | 9    | 2111678\n",
       "... (91 rows omitted)"
      ]
     },
     "execution_count": 46,
     "metadata": {},
     "output_type": "execute_result"
    }
   ],
   "source": [
    "males = us_pop_2015.where('SEX', 1).where('AGE', are.not_equal_to(999))\n",
    "males"
   ]
  },
  {
   "cell_type": "markdown",
   "metadata": {
    "slideshow": {
     "slide_type": "slide"
    }
   },
   "source": [
    "## 3. Divide # of females at each age by # of males at that age"
   ]
  },
  {
   "cell_type": "code",
   "execution_count": 47,
   "metadata": {},
   "outputs": [],
   "source": [
    "# we should \"align\" the data first to make sure rows are in the same order\n",
    "females = females.sort('AGE')\n",
    "males = males.sort('AGE')"
   ]
  },
  {
   "cell_type": "code",
   "execution_count": 48,
   "metadata": {
    "scrolled": true
   },
   "outputs": [
    {
     "data": {
      "text/html": [
       "<table border=\"1\" class=\"dataframe\">\n",
       "    <thead>\n",
       "        <tr>\n",
       "            <th>AGE</th> <th>F:M RATIO</th>\n",
       "        </tr>\n",
       "    </thead>\n",
       "    <tbody>\n",
       "        <tr>\n",
       "            <td>0   </td> <td>0.954681 </td>\n",
       "        </tr>\n",
       "        <tr>\n",
       "            <td>1   </td> <td>0.955637 </td>\n",
       "        </tr>\n",
       "        <tr>\n",
       "            <td>2   </td> <td>0.957256 </td>\n",
       "        </tr>\n",
       "        <tr>\n",
       "            <td>3   </td> <td>0.957045 </td>\n",
       "        </tr>\n",
       "        <tr>\n",
       "            <td>4   </td> <td>0.955342 </td>\n",
       "        </tr>\n",
       "        <tr>\n",
       "            <td>5   </td> <td>0.959267 </td>\n",
       "        </tr>\n",
       "        <tr>\n",
       "            <td>6   </td> <td>0.959955 </td>\n",
       "        </tr>\n",
       "        <tr>\n",
       "            <td>7   </td> <td>0.959437 </td>\n",
       "        </tr>\n",
       "        <tr>\n",
       "            <td>8   </td> <td>0.957834 </td>\n",
       "        </tr>\n",
       "        <tr>\n",
       "            <td>9   </td> <td>0.957478 </td>\n",
       "        </tr>\n",
       "    </tbody>\n",
       "</table>\n",
       "<p>... (91 rows omitted)</p>"
      ],
      "text/plain": [
       "AGE  | F:M RATIO\n",
       "0    | 0.954681\n",
       "1    | 0.955637\n",
       "2    | 0.957256\n",
       "3    | 0.957045\n",
       "4    | 0.955342\n",
       "5    | 0.959267\n",
       "6    | 0.959955\n",
       "7    | 0.959437\n",
       "8    | 0.957834\n",
       "9    | 0.957478\n",
       "... (91 rows omitted)"
      ]
     },
     "execution_count": 48,
     "metadata": {},
     "output_type": "execute_result"
    }
   ],
   "source": [
    "ratios = Table().with_columns(\n",
    "    'AGE', females.column('AGE'),\n",
    "    'F:M RATIO', females.column('2015') / males.column('2015')\n",
    ")\n",
    "ratios"
   ]
  },
  {
   "cell_type": "code",
   "execution_count": 49,
   "metadata": {
    "slideshow": {
     "slide_type": "slide"
    }
   },
   "outputs": [
    {
     "data": {
      "text/html": [
       "<table border=\"1\" class=\"dataframe\">\n",
       "    <thead>\n",
       "        <tr>\n",
       "            <th>AGE</th> <th>F:M RATIO</th>\n",
       "        </tr>\n",
       "    </thead>\n",
       "    <tbody>\n",
       "        <tr>\n",
       "            <td>0   </td> <td>0.954681 </td>\n",
       "        </tr>\n",
       "        <tr>\n",
       "            <td>1   </td> <td>0.955637 </td>\n",
       "        </tr>\n",
       "        <tr>\n",
       "            <td>2   </td> <td>0.957256 </td>\n",
       "        </tr>\n",
       "        <tr>\n",
       "            <td>3   </td> <td>0.957045 </td>\n",
       "        </tr>\n",
       "        <tr>\n",
       "            <td>4   </td> <td>0.955342 </td>\n",
       "        </tr>\n",
       "        <tr>\n",
       "            <td>5   </td> <td>0.959267 </td>\n",
       "        </tr>\n",
       "        <tr>\n",
       "            <td>6   </td> <td>0.959955 </td>\n",
       "        </tr>\n",
       "        <tr>\n",
       "            <td>7   </td> <td>0.959437 </td>\n",
       "        </tr>\n",
       "        <tr>\n",
       "            <td>8   </td> <td>0.957834 </td>\n",
       "        </tr>\n",
       "        <tr>\n",
       "            <td>9   </td> <td>0.957478 </td>\n",
       "        </tr>\n",
       "    </tbody>\n",
       "</table>\n",
       "<p>... (91 rows omitted)</p>"
      ],
      "text/plain": [
       "AGE  | F:M RATIO\n",
       "0    | 0.954681\n",
       "1    | 0.955637\n",
       "2    | 0.957256\n",
       "3    | 0.957045\n",
       "4    | 0.955342\n",
       "5    | 0.959267\n",
       "6    | 0.959955\n",
       "7    | 0.959437\n",
       "8    | 0.957834\n",
       "9    | 0.957478\n",
       "... (91 rows omitted)"
      ]
     },
     "execution_count": 49,
     "metadata": {},
     "output_type": "execute_result"
    }
   ],
   "source": [
    "ratios.sort('AGE')"
   ]
  },
  {
   "cell_type": "code",
   "execution_count": 50,
   "metadata": {},
   "outputs": [
    {
     "data": {
      "text/html": [
       "<table border=\"1\" class=\"dataframe\">\n",
       "    <thead>\n",
       "        <tr>\n",
       "            <th>AGE</th> <th>F:M RATIO</th>\n",
       "        </tr>\n",
       "    </thead>\n",
       "    <tbody>\n",
       "        <tr>\n",
       "            <td>100 </td> <td>4.10167  </td>\n",
       "        </tr>\n",
       "        <tr>\n",
       "            <td>99  </td> <td>3.55685  </td>\n",
       "        </tr>\n",
       "        <tr>\n",
       "            <td>98  </td> <td>3.21163  </td>\n",
       "        </tr>\n",
       "        <tr>\n",
       "            <td>97  </td> <td>3.00039  </td>\n",
       "        </tr>\n",
       "        <tr>\n",
       "            <td>96  </td> <td>2.77128  </td>\n",
       "        </tr>\n",
       "        <tr>\n",
       "            <td>95  </td> <td>2.6241   </td>\n",
       "        </tr>\n",
       "        <tr>\n",
       "            <td>94  </td> <td>2.42141  </td>\n",
       "        </tr>\n",
       "        <tr>\n",
       "            <td>93  </td> <td>2.31385  </td>\n",
       "        </tr>\n",
       "        <tr>\n",
       "            <td>92  </td> <td>2.16829  </td>\n",
       "        </tr>\n",
       "        <tr>\n",
       "            <td>91  </td> <td>2.08195  </td>\n",
       "        </tr>\n",
       "    </tbody>\n",
       "</table>\n",
       "<p>... (91 rows omitted)</p>"
      ],
      "text/plain": [
       "AGE  | F:M RATIO\n",
       "100  | 4.10167\n",
       "99   | 3.55685\n",
       "98   | 3.21163\n",
       "97   | 3.00039\n",
       "96   | 2.77128\n",
       "95   | 2.6241\n",
       "94   | 2.42141\n",
       "93   | 2.31385\n",
       "92   | 2.16829\n",
       "91   | 2.08195\n",
       "... (91 rows omitted)"
      ]
     },
     "execution_count": 50,
     "metadata": {},
     "output_type": "execute_result"
    }
   ],
   "source": [
    "ratios.sort('AGE', descending=True)"
   ]
  },
  {
   "cell_type": "markdown",
   "metadata": {
    "slideshow": {
     "slide_type": "slide"
    }
   },
   "source": [
    "## Visualize"
   ]
  },
  {
   "cell_type": "code",
   "execution_count": 53,
   "metadata": {},
   "outputs": [],
   "source": [
    "#: a few new imports for displaying nice plots\n",
    "import matplotlib.pyplot as plt\n",
    "plt.style.use('fivethirtyeight')\n",
    "%matplotlib inline\n",
    "import warnings; warnings.simplefilter('ignore')"
   ]
  },
  {
   "cell_type": "code",
   "execution_count": 54,
   "metadata": {},
   "outputs": [
    {
     "data": {
      "image/png": "[encoded data removed]",
      "text/plain": [
       "<Figure size 432x432 with 1 Axes>"
      ]
     },
     "metadata": {
      "needs_background": "light"
     },
     "output_type": "display_data"
    }
   ],
   "source": [
    "ratios.plot('AGE')"
   ]
  },
  {
   "cell_type": "markdown",
   "metadata": {
    "slideshow": {
     "slide_type": "slide"
    }
   },
   "source": [
    "## Why? Our data analysis raises questions that are the topic of research."
   ]
  },
  {
   "cell_type": "markdown",
   "metadata": {},
   "source": [
    "[Why do women live longer than men?](https://ourworldindata.org/why-do-women-live-longer-than-men)"
   ]
  },
  {
   "cell_type": "markdown",
   "metadata": {},
   "source": [
    "[Why are there more baby boys than baby girls?](https://www.pewresearch.org/fact-tank/2013/09/24/the-odds-that-you-will-give-birth-to-a-boy-or-girl-depend-on-where-in-the-world-you-live/)"
   ]
  },
  {
   "cell_type": "code",
   "execution_count": null,
   "metadata": {},
   "outputs": [],
   "source": []
  }
 ],
 "metadata": {
  "celltoolbar": "Slideshow",
  "kernelspec": {
   "display_name": "Python 3",
   "language": "python",
   "name": "python3"
  },
  "language_info": {
   "codemirror_mode": {
    "name": "ipython",
    "version": 3
   },
   "file_extension": ".py",
   "mimetype": "text/x-python",
   "name": "python",
   "nbconvert_exporter": "python",
   "pygments_lexer": "ipython3",
   "version": "3.8.3"
  },
  "livereveal": {
   "scroll": true
  }
 },
 "nbformat": 4,
 "nbformat_minor": 2
}
