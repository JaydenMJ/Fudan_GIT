{
 "cells": [
  {
   "cell_type": "markdown",
   "metadata": {
    "slideshow": {
     "slide_type": "slide"
    }
   },
   "source": [
    "# Day 4\n",
    "\n",
    "## Group, Join, Conditionals, Iteration"
   ]
  },
  {
   "cell_type": "markdown",
   "metadata": {
    "slideshow": {
     "slide_type": "slide"
    }
   },
   "source": [
    "# Announcements\n",
    "\n",
    "- No late work is accepted unless it is due to emergency\n",
    "- No homework solution is posted. We will point out where you did wrong. For questions about grading, contact TA or instructor"
   ]
  },
  {
   "cell_type": "markdown",
   "metadata": {
    "slideshow": {
     "slide_type": "slide"
    }
   },
   "source": [
    "# Grouping\n",
    "\n",
    "Classifying variables"
   ]
  },
  {
   "cell_type": "code",
   "execution_count": 1,
   "metadata": {},
   "outputs": [],
   "source": [
    "#: imports!\n",
    "\n",
    "import numpy as np\n",
    "from datascience import *\n",
    "\n",
    "import matplotlib.pyplot as plt\n",
    "plt.style.use('fivethirtyeight')\n",
    "%matplotlib inline"
   ]
  },
  {
   "cell_type": "markdown",
   "metadata": {
    "slideshow": {
     "slide_type": "slide"
    }
   },
   "source": [
    "## Our familiar NBA data..."
   ]
  },
  {
   "cell_type": "code",
   "execution_count": 2,
   "metadata": {},
   "outputs": [
    {
     "data": {
      "text/html": [
       "<table border=\"1\" class=\"dataframe\">\n",
       "    <thead>\n",
       "        <tr>\n",
       "            <th>PLAYER</th> <th>POSITION</th> <th>TEAM</th> <th>SALARY</th>\n",
       "        </tr>\n",
       "    </thead>\n",
       "    <tbody>\n",
       "        <tr>\n",
       "            <td>Paul Millsap    </td> <td>PF      </td> <td>Atlanta Hawks</td> <td>18.6717</td>\n",
       "        </tr>\n",
       "        <tr>\n",
       "            <td>Al Horford      </td> <td>C       </td> <td>Atlanta Hawks</td> <td>12     </td>\n",
       "        </tr>\n",
       "        <tr>\n",
       "            <td>Tiago Splitter  </td> <td>C       </td> <td>Atlanta Hawks</td> <td>9.75625</td>\n",
       "        </tr>\n",
       "        <tr>\n",
       "            <td>Jeff Teague     </td> <td>PG      </td> <td>Atlanta Hawks</td> <td>8      </td>\n",
       "        </tr>\n",
       "        <tr>\n",
       "            <td>Kyle Korver     </td> <td>SG      </td> <td>Atlanta Hawks</td> <td>5.74648</td>\n",
       "        </tr>\n",
       "        <tr>\n",
       "            <td>Thabo Sefolosha </td> <td>SF      </td> <td>Atlanta Hawks</td> <td>4      </td>\n",
       "        </tr>\n",
       "        <tr>\n",
       "            <td>Mike Scott      </td> <td>PF      </td> <td>Atlanta Hawks</td> <td>3.33333</td>\n",
       "        </tr>\n",
       "        <tr>\n",
       "            <td>Kent Bazemore   </td> <td>SF      </td> <td>Atlanta Hawks</td> <td>2      </td>\n",
       "        </tr>\n",
       "        <tr>\n",
       "            <td>Dennis Schroder </td> <td>PG      </td> <td>Atlanta Hawks</td> <td>1.7634 </td>\n",
       "        </tr>\n",
       "        <tr>\n",
       "            <td>Tim Hardaway Jr.</td> <td>SG      </td> <td>Atlanta Hawks</td> <td>1.30452</td>\n",
       "        </tr>\n",
       "    </tbody>\n",
       "</table>\n",
       "<p>... (407 rows omitted)</p>"
      ],
      "text/plain": [
       "PLAYER           | POSITION | TEAM          | SALARY\n",
       "Paul Millsap     | PF       | Atlanta Hawks | 18.6717\n",
       "Al Horford       | C        | Atlanta Hawks | 12\n",
       "Tiago Splitter   | C        | Atlanta Hawks | 9.75625\n",
       "Jeff Teague      | PG       | Atlanta Hawks | 8\n",
       "Kyle Korver      | SG       | Atlanta Hawks | 5.74648\n",
       "Thabo Sefolosha  | SF       | Atlanta Hawks | 4\n",
       "Mike Scott       | PF       | Atlanta Hawks | 3.33333\n",
       "Kent Bazemore    | SF       | Atlanta Hawks | 2\n",
       "Dennis Schroder  | PG       | Atlanta Hawks | 1.7634\n",
       "Tim Hardaway Jr. | SG       | Atlanta Hawks | 1.30452\n",
       "... (407 rows omitted)"
      ]
     },
     "execution_count": 2,
     "metadata": {},
     "output_type": "execute_result"
    }
   ],
   "source": [
    "#: read from csv and relabel\n",
    "nba = Table.read_table('nba_salaries.csv').relabeled(\"'15-'16 SALARY\", 'SALARY')\n",
    "nba"
   ]
  },
  {
   "cell_type": "markdown",
   "metadata": {
    "slideshow": {
     "slide_type": "slide"
    }
   },
   "source": [
    "## How big is each team?\n",
    "\n",
    "- We know how to do this: `.group()`.\n",
    "- Can visualize distribution of team sizes with `.hist()`."
   ]
  },
  {
   "cell_type": "code",
   "execution_count": 77,
   "metadata": {},
   "outputs": [
    {
     "data": {
      "image/png": "[encoded data removed]",
      "text/plain": [
       "<Figure size 432x288 with 1 Axes>"
      ]
     },
     "metadata": {
      "needs_background": "light"
     },
     "output_type": "display_data"
    }
   ],
   "source": [
    "nba.group('TEAM').hist('count')"
   ]
  },
  {
   "cell_type": "code",
   "execution_count": null,
   "metadata": {},
   "outputs": [],
   "source": []
  },
  {
   "cell_type": "markdown",
   "metadata": {
    "slideshow": {
     "slide_type": "slide"
    }
   },
   "source": [
    "## How much does each team pay in payroll?\n",
    "\n",
    "- Instead of counting, we want to sum the `SALARY` column."
   ]
  },
  {
   "cell_type": "code",
   "execution_count": 62,
   "metadata": {},
   "outputs": [
    {
     "data": {
      "text/html": [
       "<table border=\"1\" class=\"dataframe\">\n",
       "    <thead>\n",
       "        <tr>\n",
       "            <th>TEAM</th> <th>SALARY sum</th>\n",
       "        </tr>\n",
       "    </thead>\n",
       "    <tbody>\n",
       "        <tr>\n",
       "            <td>Atlanta Hawks        </td> <td>69.5731   </td>\n",
       "        </tr>\n",
       "        <tr>\n",
       "            <td>Boston Celtics       </td> <td>50.2855   </td>\n",
       "        </tr>\n",
       "        <tr>\n",
       "            <td>Brooklyn Nets        </td> <td>57.307    </td>\n",
       "        </tr>\n",
       "        <tr>\n",
       "            <td>Charlotte Hornets    </td> <td>84.1024   </td>\n",
       "        </tr>\n",
       "        <tr>\n",
       "            <td>Chicago Bulls        </td> <td>78.8209   </td>\n",
       "        </tr>\n",
       "        <tr>\n",
       "            <td>Cleveland Cavaliers  </td> <td>102.312   </td>\n",
       "        </tr>\n",
       "        <tr>\n",
       "            <td>Dallas Mavericks     </td> <td>65.7626   </td>\n",
       "        </tr>\n",
       "        <tr>\n",
       "            <td>Denver Nuggets       </td> <td>62.4294   </td>\n",
       "        </tr>\n",
       "        <tr>\n",
       "            <td>Detroit Pistons      </td> <td>42.2118   </td>\n",
       "        </tr>\n",
       "        <tr>\n",
       "            <td>Golden State Warriors</td> <td>94.0851   </td>\n",
       "        </tr>\n",
       "    </tbody>\n",
       "</table>\n",
       "<p>... (20 rows omitted)</p>"
      ],
      "text/plain": [
       "TEAM                  | SALARY sum\n",
       "Atlanta Hawks         | 69.5731\n",
       "Boston Celtics        | 50.2855\n",
       "Brooklyn Nets         | 57.307\n",
       "Charlotte Hornets     | 84.1024\n",
       "Chicago Bulls         | 78.8209\n",
       "Cleveland Cavaliers   | 102.312\n",
       "Dallas Mavericks      | 65.7626\n",
       "Denver Nuggets        | 62.4294\n",
       "Detroit Pistons       | 42.2118\n",
       "Golden State Warriors | 94.0851\n",
       "... (20 rows omitted)"
      ]
     },
     "execution_count": 62,
     "metadata": {},
     "output_type": "execute_result"
    }
   ],
   "source": [
    "nba.select('TEAM','SALARY').group('TEAM',np.sum)"
   ]
  },
  {
   "cell_type": "markdown",
   "metadata": {},
   "source": [
    "- `sum` is applied to all columns (besides `TEAM`)\n",
    "- Notice how columns get renamed automatically.\n",
    "- But we can't sum all columns. E.g., `PLAYER`.\n",
    "- In those cases: empty column."
   ]
  },
  {
   "cell_type": "markdown",
   "metadata": {
    "slideshow": {
     "slide_type": "slide"
    }
   },
   "source": [
    "## Which position has the highest average salary?\n",
    "\n",
    "- We need to group by position.\n",
    "- Within each group, find the average.\n",
    "- Then sort by average salary."
   ]
  },
  {
   "cell_type": "code",
   "execution_count": 12,
   "metadata": {},
   "outputs": [
    {
     "data": {
      "text/plain": [
       "array(['C', 'SF', 'PG', 'PF', 'SG'], dtype='<U2')"
      ]
     },
     "execution_count": 12,
     "metadata": {},
     "output_type": "execute_result"
    }
   ],
   "source": [
    "nba.select('POSITION',\"SALARY\").group('POSITION',np.mean).sort(1,descending= True ).column(0)"
   ]
  },
  {
   "cell_type": "markdown",
   "metadata": {
    "slideshow": {
     "slide_type": "slide"
    }
   },
   "source": [
    "## What is the max salary of each position?\n",
    "\n",
    "- Group by position.\n",
    "- Within each group, use `max`."
   ]
  },
  {
   "cell_type": "code",
   "execution_count": 24,
   "metadata": {},
   "outputs": [
    {
     "data": {
      "text/html": [
       "<table border=\"1\" class=\"dataframe\">\n",
       "    <thead>\n",
       "        <tr>\n",
       "            <th>POSITION</th> <th>PLAYER max</th> <th>TEAM max</th> <th>SALARY max</th>\n",
       "        </tr>\n",
       "    </thead>\n",
       "    <tbody>\n",
       "        <tr>\n",
       "            <td>C       </td> <td>Zaza Pachulia  </td> <td>Washington Wizards</td> <td>22.3594   </td>\n",
       "        </tr>\n",
       "        <tr>\n",
       "            <td>PF      </td> <td>Zach Randolph  </td> <td>Washington Wizards</td> <td>22.1927   </td>\n",
       "        </tr>\n",
       "        <tr>\n",
       "            <td>PG      </td> <td>Zach LaVine    </td> <td>Washington Wizards</td> <td>21.4687   </td>\n",
       "        </tr>\n",
       "        <tr>\n",
       "            <td>SF      </td> <td>Wilson Chandler</td> <td>Washington Wizards</td> <td>25        </td>\n",
       "        </tr>\n",
       "        <tr>\n",
       "            <td>SG      </td> <td>Zoran Dragic   </td> <td>Washington Wizards</td> <td>20        </td>\n",
       "        </tr>\n",
       "    </tbody>\n",
       "</table>"
      ],
      "text/plain": [
       "POSITION | PLAYER max      | TEAM max           | SALARY max\n",
       "C        | Zaza Pachulia   | Washington Wizards | 22.3594\n",
       "PF       | Zach Randolph   | Washington Wizards | 22.1927\n",
       "PG       | Zach LaVine     | Washington Wizards | 21.4687\n",
       "SF       | Wilson Chandler | Washington Wizards | 25\n",
       "SG       | Zoran Dragic    | Washington Wizards | 20"
      ]
     },
     "execution_count": 24,
     "metadata": {},
     "output_type": "execute_result"
    }
   ],
   "source": [
    "nba.group(\"POSITION\",max)"
   ]
  },
  {
   "cell_type": "markdown",
   "metadata": {
    "slideshow": {
     "slide_type": "slide"
    }
   },
   "source": [
    "## For each position, which team has the most players at that position?\n",
    "\n",
    "- We want to count...\n",
    "- but sizes of groups within groups.\n",
    "- i.e., sizes of position groups within teams."
   ]
  },
  {
   "cell_type": "code",
   "execution_count": 60,
   "metadata": {},
   "outputs": [
    {
     "data": {
      "text/html": [
       "<table border=\"1\" class=\"dataframe\">\n",
       "    <thead>\n",
       "        <tr>\n",
       "            <th>TEAM</th> <th>POSITION</th> <th>count</th>\n",
       "        </tr>\n",
       "    </thead>\n",
       "    <tbody>\n",
       "        <tr>\n",
       "            <td>Memphis Grizzlies     </td> <td>PF      </td> <td>7    </td>\n",
       "        </tr>\n",
       "        <tr>\n",
       "            <td>Charlotte Hornets     </td> <td>SG      </td> <td>6    </td>\n",
       "        </tr>\n",
       "        <tr>\n",
       "            <td>Phoenix Suns          </td> <td>SG      </td> <td>6    </td>\n",
       "        </tr>\n",
       "        <tr>\n",
       "            <td>Atlanta Hawks         </td> <td>SG      </td> <td>5    </td>\n",
       "        </tr>\n",
       "        <tr>\n",
       "            <td>Brooklyn Nets         </td> <td>SG      </td> <td>5    </td>\n",
       "        </tr>\n",
       "        <tr>\n",
       "            <td>Los Angeles Clippers  </td> <td>SG      </td> <td>5    </td>\n",
       "        </tr>\n",
       "        <tr>\n",
       "            <td>Orlando Magic         </td> <td>PF      </td> <td>5    </td>\n",
       "        </tr>\n",
       "        <tr>\n",
       "            <td>Portland Trail Blazers</td> <td>SG      </td> <td>5    </td>\n",
       "        </tr>\n",
       "        <tr>\n",
       "            <td>Toronto Raptors       </td> <td>PG      </td> <td>5    </td>\n",
       "        </tr>\n",
       "        <tr>\n",
       "            <td>Utah Jazz             </td> <td>PG      </td> <td>5    </td>\n",
       "        </tr>\n",
       "        <tr>\n",
       "            <td>Boston Celtics        </td> <td>PG      </td> <td>4    </td>\n",
       "        </tr>\n",
       "        <tr>\n",
       "            <td>Boston Celtics        </td> <td>SG      </td> <td>4    </td>\n",
       "        </tr>\n",
       "        <tr>\n",
       "            <td>Charlotte Hornets     </td> <td>PG      </td> <td>4    </td>\n",
       "        </tr>\n",
       "        <tr>\n",
       "            <td>Chicago Bulls         </td> <td>SG      </td> <td>4    </td>\n",
       "        </tr>\n",
       "        <tr>\n",
       "            <td>Cleveland Cavaliers   </td> <td>C       </td> <td>4    </td>\n",
       "        </tr>\n",
       "        <tr>\n",
       "            <td>Dallas Mavericks      </td> <td>PG      </td> <td>4    </td>\n",
       "        </tr>\n",
       "        <tr>\n",
       "            <td>Denver Nuggets        </td> <td>C       </td> <td>4    </td>\n",
       "        </tr>\n",
       "        <tr>\n",
       "            <td>Denver Nuggets        </td> <td>SF      </td> <td>4    </td>\n",
       "        </tr>\n",
       "        <tr>\n",
       "            <td>Detroit Pistons       </td> <td>SF      </td> <td>4    </td>\n",
       "        </tr>\n",
       "        <tr>\n",
       "            <td>Golden State Warriors </td> <td>SF      </td> <td>4    </td>\n",
       "        </tr>\n",
       "        <tr>\n",
       "            <td>Houston Rockets       </td> <td>PF      </td> <td>4    </td>\n",
       "        </tr>\n",
       "        <tr>\n",
       "            <td>Indiana Pacers        </td> <td>SF      </td> <td>4    </td>\n",
       "        </tr>\n",
       "        <tr>\n",
       "            <td>Los Angeles Lakers    </td> <td>PF      </td> <td>4    </td>\n",
       "        </tr>\n",
       "        <tr>\n",
       "            <td>Memphis Grizzlies     </td> <td>PG      </td> <td>4    </td>\n",
       "        </tr>\n",
       "        <tr>\n",
       "            <td>Memphis Grizzlies     </td> <td>SF      </td> <td>4    </td>\n",
       "        </tr>\n",
       "        <tr>\n",
       "            <td>Memphis Grizzlies     </td> <td>SG      </td> <td>4    </td>\n",
       "        </tr>\n",
       "        <tr>\n",
       "            <td>Miami Heat            </td> <td>SF      </td> <td>4    </td>\n",
       "        </tr>\n",
       "        <tr>\n",
       "            <td>Milwaukee Bucks       </td> <td>PG      </td> <td>4    </td>\n",
       "        </tr>\n",
       "        <tr>\n",
       "            <td>New Orleans Pelicans  </td> <td>PG      </td> <td>4    </td>\n",
       "        </tr>\n",
       "        <tr>\n",
       "            <td>New York Knicks       </td> <td>PF      </td> <td>4    </td>\n",
       "        </tr>\n",
       "        <tr>\n",
       "            <td>Oklahoma City Thunder </td> <td>SF      </td> <td>4    </td>\n",
       "        </tr>\n",
       "        <tr>\n",
       "            <td>Oklahoma City Thunder </td> <td>SG      </td> <td>4    </td>\n",
       "        </tr>\n",
       "        <tr>\n",
       "            <td>Orlando Magic         </td> <td>PG      </td> <td>4    </td>\n",
       "        </tr>\n",
       "        <tr>\n",
       "            <td>Philadelphia 76ers    </td> <td>PF      </td> <td>4    </td>\n",
       "        </tr>\n",
       "        <tr>\n",
       "            <td>Phoenix Suns          </td> <td>PG      </td> <td>4    </td>\n",
       "        </tr>\n",
       "        <tr>\n",
       "            <td>Toronto Raptors       </td> <td>PF      </td> <td>4    </td>\n",
       "        </tr>\n",
       "        <tr>\n",
       "            <td>Washington Wizards    </td> <td>SF      </td> <td>4    </td>\n",
       "        </tr>\n",
       "        <tr>\n",
       "            <td>Washington Wizards    </td> <td>SG      </td> <td>4    </td>\n",
       "        </tr>\n",
       "        <tr>\n",
       "            <td>Atlanta Hawks         </td> <td>C       </td> <td>3    </td>\n",
       "        </tr>\n",
       "        <tr>\n",
       "            <td>Boston Celtics        </td> <td>C       </td> <td>3    </td>\n",
       "        </tr>\n",
       "        <tr>\n",
       "            <td>Brooklyn Nets         </td> <td>PF      </td> <td>3    </td>\n",
       "        </tr>\n",
       "        <tr>\n",
       "            <td>Charlotte Hornets     </td> <td>C       </td> <td>3    </td>\n",
       "        </tr>\n",
       "        <tr>\n",
       "            <td>Charlotte Hornets     </td> <td>PF      </td> <td>3    </td>\n",
       "        </tr>\n",
       "        <tr>\n",
       "            <td>Cleveland Cavaliers   </td> <td>PG      </td> <td>3    </td>\n",
       "        </tr>\n",
       "        <tr>\n",
       "            <td>Detroit Pistons       </td> <td>C       </td> <td>3    </td>\n",
       "        </tr>\n",
       "        <tr>\n",
       "            <td>Golden State Warriors </td> <td>C       </td> <td>3    </td>\n",
       "        </tr>\n",
       "        <tr>\n",
       "            <td>Golden State Warriors </td> <td>PF      </td> <td>3    </td>\n",
       "        </tr>\n",
       "        <tr>\n",
       "            <td>Houston Rockets       </td> <td>SG      </td> <td>3    </td>\n",
       "        </tr>\n",
       "        <tr>\n",
       "            <td>Indiana Pacers        </td> <td>PF      </td> <td>3    </td>\n",
       "        </tr>\n",
       "        <tr>\n",
       "            <td>Los Angeles Clippers  </td> <td>PG      </td> <td>3    </td>\n",
       "        </tr>\n",
       "        <tr>\n",
       "            <td>Los Angeles Lakers    </td> <td>SF      </td> <td>3    </td>\n",
       "        </tr>\n",
       "        <tr>\n",
       "            <td>Miami Heat            </td> <td>PF      </td> <td>3    </td>\n",
       "        </tr>\n",
       "        <tr>\n",
       "            <td>Miami Heat            </td> <td>SG      </td> <td>3    </td>\n",
       "        </tr>\n",
       "        <tr>\n",
       "            <td>Milwaukee Bucks       </td> <td>SF      </td> <td>3    </td>\n",
       "        </tr>\n",
       "        <tr>\n",
       "            <td>Milwaukee Bucks       </td> <td>SG      </td> <td>3    </td>\n",
       "        </tr>\n",
       "        <tr>\n",
       "            <td>Minnesota Timberwolves</td> <td>C       </td> <td>3    </td>\n",
       "        </tr>\n",
       "        <tr>\n",
       "            <td>Minnesota Timberwolves</td> <td>PF      </td> <td>3    </td>\n",
       "        </tr>\n",
       "        <tr>\n",
       "            <td>Minnesota Timberwolves</td> <td>PG      </td> <td>3    </td>\n",
       "        </tr>\n",
       "        <tr>\n",
       "            <td>New Orleans Pelicans  </td> <td>C       </td> <td>3    </td>\n",
       "        </tr>\n",
       "        <tr>\n",
       "            <td>New Orleans Pelicans  </td> <td>PF      </td> <td>3    </td>\n",
       "        </tr>\n",
       "        <tr>\n",
       "            <td>New Orleans Pelicans  </td> <td>SF      </td> <td>3    </td>\n",
       "        </tr>\n",
       "        <tr>\n",
       "            <td>New Orleans Pelicans  </td> <td>SG      </td> <td>3    </td>\n",
       "        </tr>\n",
       "        <tr>\n",
       "            <td>New York Knicks       </td> <td>PG      </td> <td>3    </td>\n",
       "        </tr>\n",
       "        <tr>\n",
       "            <td>New York Knicks       </td> <td>SF      </td> <td>3    </td>\n",
       "        </tr>\n",
       "        <tr>\n",
       "            <td>Oklahoma City Thunder </td> <td>PF      </td> <td>3    </td>\n",
       "        </tr>\n",
       "        <tr>\n",
       "            <td>Oklahoma City Thunder </td> <td>PG      </td> <td>3    </td>\n",
       "        </tr>\n",
       "        <tr>\n",
       "            <td>Orlando Magic         </td> <td>SG      </td> <td>3    </td>\n",
       "        </tr>\n",
       "        <tr>\n",
       "            <td>Philadelphia 76ers    </td> <td>SF      </td> <td>3    </td>\n",
       "        </tr>\n",
       "        <tr>\n",
       "            <td>Philadelphia 76ers    </td> <td>SG      </td> <td>3    </td>\n",
       "        </tr>\n",
       "        <tr>\n",
       "            <td>Phoenix Suns          </td> <td>PF      </td> <td>3    </td>\n",
       "        </tr>\n",
       "        <tr>\n",
       "            <td>Portland Trail Blazers</td> <td>C       </td> <td>3    </td>\n",
       "        </tr>\n",
       "        <tr>\n",
       "            <td>Portland Trail Blazers</td> <td>PF      </td> <td>3    </td>\n",
       "        </tr>\n",
       "        <tr>\n",
       "            <td>Sacramento Kings      </td> <td>C       </td> <td>3    </td>\n",
       "        </tr>\n",
       "        <tr>\n",
       "            <td>Sacramento Kings      </td> <td>SF      </td> <td>3    </td>\n",
       "        </tr>\n",
       "        <tr>\n",
       "            <td>Sacramento Kings      </td> <td>SG      </td> <td>3    </td>\n",
       "        </tr>\n",
       "        <tr>\n",
       "            <td>San Antonio Spurs     </td> <td>C       </td> <td>3    </td>\n",
       "        </tr>\n",
       "        <tr>\n",
       "            <td>San Antonio Spurs     </td> <td>PG      </td> <td>3    </td>\n",
       "        </tr>\n",
       "        <tr>\n",
       "            <td>San Antonio Spurs     </td> <td>SF      </td> <td>3    </td>\n",
       "        </tr>\n",
       "        <tr>\n",
       "            <td>Toronto Raptors       </td> <td>C       </td> <td>3    </td>\n",
       "        </tr>\n",
       "        <tr>\n",
       "            <td>Toronto Raptors       </td> <td>SF      </td> <td>3    </td>\n",
       "        </tr>\n",
       "        <tr>\n",
       "            <td>Utah Jazz             </td> <td>C       </td> <td>3    </td>\n",
       "        </tr>\n",
       "        <tr>\n",
       "            <td>Utah Jazz             </td> <td>PF      </td> <td>3    </td>\n",
       "        </tr>\n",
       "        <tr>\n",
       "            <td>Utah Jazz             </td> <td>SF      </td> <td>3    </td>\n",
       "        </tr>\n",
       "        <tr>\n",
       "            <td>Utah Jazz             </td> <td>SG      </td> <td>3    </td>\n",
       "        </tr>\n",
       "        <tr>\n",
       "            <td>Washington Wizards    </td> <td>C       </td> <td>3    </td>\n",
       "        </tr>\n",
       "        <tr>\n",
       "            <td>Washington Wizards    </td> <td>PF      </td> <td>3    </td>\n",
       "        </tr>\n",
       "        <tr>\n",
       "            <td>Washington Wizards    </td> <td>PG      </td> <td>3    </td>\n",
       "        </tr>\n",
       "        <tr>\n",
       "            <td>Atlanta Hawks         </td> <td>PF      </td> <td>2    </td>\n",
       "        </tr>\n",
       "        <tr>\n",
       "            <td>Atlanta Hawks         </td> <td>PG      </td> <td>2    </td>\n",
       "        </tr>\n",
       "        <tr>\n",
       "            <td>Atlanta Hawks         </td> <td>SF      </td> <td>2    </td>\n",
       "        </tr>\n",
       "        <tr>\n",
       "            <td>Boston Celtics        </td> <td>PF      </td> <td>2    </td>\n",
       "        </tr>\n",
       "        <tr>\n",
       "            <td>Boston Celtics        </td> <td>SF      </td> <td>2    </td>\n",
       "        </tr>\n",
       "        <tr>\n",
       "            <td>Brooklyn Nets         </td> <td>PG      </td> <td>2    </td>\n",
       "        </tr>\n",
       "        <tr>\n",
       "            <td>Brooklyn Nets         </td> <td>SF      </td> <td>2    </td>\n",
       "        </tr>\n",
       "        <tr>\n",
       "            <td>Charlotte Hornets     </td> <td>SF      </td> <td>2    </td>\n",
       "        </tr>\n",
       "        <tr>\n",
       "            <td>Chicago Bulls         </td> <td>C       </td> <td>2    </td>\n",
       "        </tr>\n",
       "        <tr>\n",
       "            <td>Chicago Bulls         </td> <td>PF      </td> <td>2    </td>\n",
       "        </tr>\n",
       "        <tr>\n",
       "            <td>Chicago Bulls         </td> <td>PG      </td> <td>2    </td>\n",
       "        </tr>\n",
       "        <tr>\n",
       "            <td>Chicago Bulls         </td> <td>SF      </td> <td>2    </td>\n",
       "        </tr>\n",
       "        <tr>\n",
       "            <td>Dallas Mavericks      </td> <td>C       </td> <td>2    </td>\n",
       "        </tr>\n",
       "        <tr>\n",
       "            <td>Dallas Mavericks      </td> <td>PF      </td> <td>2    </td>\n",
       "        </tr>\n",
       "        <tr>\n",
       "            <td>Dallas Mavericks      </td> <td>SG      </td> <td>2    </td>\n",
       "        </tr>\n",
       "        <tr>\n",
       "            <td>Denver Nuggets        </td> <td>PF      </td> <td>2    </td>\n",
       "        </tr>\n",
       "        <tr>\n",
       "            <td>Denver Nuggets        </td> <td>PG      </td> <td>2    </td>\n",
       "        </tr>\n",
       "        <tr>\n",
       "            <td>Denver Nuggets        </td> <td>SG      </td> <td>2    </td>\n",
       "        </tr>\n",
       "        <tr>\n",
       "            <td>Detroit Pistons       </td> <td>SG      </td> <td>2    </td>\n",
       "        </tr>\n",
       "        <tr>\n",
       "            <td>Golden State Warriors </td> <td>PG      </td> <td>2    </td>\n",
       "        </tr>\n",
       "        <tr>\n",
       "            <td>Golden State Warriors </td> <td>SG      </td> <td>2    </td>\n",
       "        </tr>\n",
       "        <tr>\n",
       "            <td>Houston Rockets       </td> <td>PG      </td> <td>2    </td>\n",
       "        </tr>\n",
       "        <tr>\n",
       "            <td>Houston Rockets       </td> <td>SF      </td> <td>2    </td>\n",
       "        </tr>\n",
       "        <tr>\n",
       "            <td>Indiana Pacers        </td> <td>C       </td> <td>2    </td>\n",
       "        </tr>\n",
       "        <tr>\n",
       "            <td>Indiana Pacers        </td> <td>PG      </td> <td>2    </td>\n",
       "        </tr>\n",
       "        <tr>\n",
       "            <td>Indiana Pacers        </td> <td>SG      </td> <td>2    </td>\n",
       "        </tr>\n",
       "        <tr>\n",
       "            <td>Los Angeles Clippers  </td> <td>PF      </td> <td>2    </td>\n",
       "        </tr>\n",
       "        <tr>\n",
       "            <td>Los Angeles Clippers  </td> <td>SF      </td> <td>2    </td>\n",
       "        </tr>\n",
       "        <tr>\n",
       "            <td>Los Angeles Lakers    </td> <td>C       </td> <td>2    </td>\n",
       "        </tr>\n",
       "        <tr>\n",
       "            <td>Memphis Grizzlies     </td> <td>C       </td> <td>2    </td>\n",
       "        </tr>\n",
       "        <tr>\n",
       "            <td>Miami Heat            </td> <td>PG      </td> <td>2    </td>\n",
       "        </tr>\n",
       "        <tr>\n",
       "            <td>Milwaukee Bucks       </td> <td>PF      </td> <td>2    </td>\n",
       "        </tr>\n",
       "        <tr>\n",
       "            <td>Minnesota Timberwolves</td> <td>SF      </td> <td>2    </td>\n",
       "        </tr>\n",
       "        <tr>\n",
       "            <td>Minnesota Timberwolves</td> <td>SG      </td> <td>2    </td>\n",
       "        </tr>\n",
       "        <tr>\n",
       "            <td>New York Knicks       </td> <td>SG      </td> <td>2    </td>\n",
       "        </tr>\n",
       "        <tr>\n",
       "            <td>Oklahoma City Thunder </td> <td>C       </td> <td>2    </td>\n",
       "        </tr>\n",
       "        <tr>\n",
       "            <td>Philadelphia 76ers    </td> <td>C       </td> <td>2    </td>\n",
       "        </tr>\n",
       "        <tr>\n",
       "            <td>Phoenix Suns          </td> <td>C       </td> <td>2    </td>\n",
       "        </tr>\n",
       "        <tr>\n",
       "            <td>Phoenix Suns          </td> <td>SF      </td> <td>2    </td>\n",
       "        </tr>\n",
       "        <tr>\n",
       "            <td>Portland Trail Blazers</td> <td>SF      </td> <td>2    </td>\n",
       "        </tr>\n",
       "        <tr>\n",
       "            <td>Sacramento Kings      </td> <td>PG      </td> <td>2    </td>\n",
       "        </tr>\n",
       "        <tr>\n",
       "            <td>San Antonio Spurs     </td> <td>PF      </td> <td>2    </td>\n",
       "        </tr>\n",
       "        <tr>\n",
       "            <td>San Antonio Spurs     </td> <td>SG      </td> <td>2    </td>\n",
       "        </tr>\n",
       "        <tr>\n",
       "            <td>Toronto Raptors       </td> <td>SG      </td> <td>2    </td>\n",
       "        </tr>\n",
       "        <tr>\n",
       "            <td>Brooklyn Nets         </td> <td>C       </td> <td>1    </td>\n",
       "        </tr>\n",
       "        <tr>\n",
       "            <td>Cleveland Cavaliers   </td> <td>PF      </td> <td>1    </td>\n",
       "        </tr>\n",
       "        <tr>\n",
       "            <td>Cleveland Cavaliers   </td> <td>SF      </td> <td>1    </td>\n",
       "        </tr>\n",
       "        <tr>\n",
       "            <td>Cleveland Cavaliers   </td> <td>SG      </td> <td>1    </td>\n",
       "        </tr>\n",
       "        <tr>\n",
       "            <td>Dallas Mavericks      </td> <td>SF      </td> <td>1    </td>\n",
       "        </tr>\n",
       "        <tr>\n",
       "            <td>Detroit Pistons       </td> <td>PG      </td> <td>1    </td>\n",
       "        </tr>\n",
       "        <tr>\n",
       "            <td>Houston Rockets       </td> <td>C       </td> <td>1    </td>\n",
       "        </tr>\n",
       "        <tr>\n",
       "            <td>Los Angeles Clippers  </td> <td>C       </td> <td>1    </td>\n",
       "        </tr>\n",
       "        <tr>\n",
       "            <td>Los Angeles Lakers    </td> <td>PG      </td> <td>1    </td>\n",
       "        </tr>\n",
       "        <tr>\n",
       "            <td>Los Angeles Lakers    </td> <td>SG      </td> <td>1    </td>\n",
       "        </tr>\n",
       "        <tr>\n",
       "            <td>Milwaukee Bucks       </td> <td>C       </td> <td>1    </td>\n",
       "        </tr>\n",
       "        <tr>\n",
       "            <td>New York Knicks       </td> <td>C       </td> <td>1    </td>\n",
       "        </tr>\n",
       "        <tr>\n",
       "            <td>Orlando Magic         </td> <td>C       </td> <td>1    </td>\n",
       "        </tr>\n",
       "        <tr>\n",
       "            <td>Orlando Magic         </td> <td>SF      </td> <td>1    </td>\n",
       "        </tr>\n",
       "        <tr>\n",
       "            <td>Philadelphia 76ers    </td> <td>PG      </td> <td>1    </td>\n",
       "        </tr>\n",
       "        <tr>\n",
       "            <td>Portland Trail Blazers</td> <td>PG      </td> <td>1    </td>\n",
       "        </tr>\n",
       "    </tbody>\n",
       "</table>"
      ],
      "text/plain": [
       "<IPython.core.display.HTML object>"
      ]
     },
     "metadata": {},
     "output_type": "display_data"
    }
   ],
   "source": [
    "nba.group(['TEAM','POSITION']).sort('count',descending= True).show()"
   ]
  },
  {
   "cell_type": "markdown",
   "metadata": {
    "slideshow": {
     "slide_type": "slide"
    }
   },
   "source": [
    "## What are the number of players at each position on *every* team?"
   ]
  },
  {
   "cell_type": "code",
   "execution_count": 78,
   "metadata": {},
   "outputs": [
    {
     "data": {
      "text/html": [
       "<table border=\"1\" class=\"dataframe\">\n",
       "    <thead>\n",
       "        <tr>\n",
       "            <th>TEAM</th> <th>POSITION</th> <th>count</th>\n",
       "        </tr>\n",
       "    </thead>\n",
       "    <tbody>\n",
       "        <tr>\n",
       "            <td>Atlanta Hawks </td> <td>C       </td> <td>3    </td>\n",
       "        </tr>\n",
       "        <tr>\n",
       "            <td>Atlanta Hawks </td> <td>PF      </td> <td>2    </td>\n",
       "        </tr>\n",
       "        <tr>\n",
       "            <td>Atlanta Hawks </td> <td>PG      </td> <td>2    </td>\n",
       "        </tr>\n",
       "        <tr>\n",
       "            <td>Atlanta Hawks </td> <td>SF      </td> <td>2    </td>\n",
       "        </tr>\n",
       "        <tr>\n",
       "            <td>Atlanta Hawks </td> <td>SG      </td> <td>5    </td>\n",
       "        </tr>\n",
       "        <tr>\n",
       "            <td>Boston Celtics</td> <td>C       </td> <td>3    </td>\n",
       "        </tr>\n",
       "        <tr>\n",
       "            <td>Boston Celtics</td> <td>PF      </td> <td>2    </td>\n",
       "        </tr>\n",
       "        <tr>\n",
       "            <td>Boston Celtics</td> <td>PG      </td> <td>4    </td>\n",
       "        </tr>\n",
       "        <tr>\n",
       "            <td>Boston Celtics</td> <td>SF      </td> <td>2    </td>\n",
       "        </tr>\n",
       "        <tr>\n",
       "            <td>Boston Celtics</td> <td>SG      </td> <td>4    </td>\n",
       "        </tr>\n",
       "    </tbody>\n",
       "</table>\n",
       "<p>... (137 rows omitted)</p>"
      ],
      "text/plain": [
       "TEAM           | POSITION | count\n",
       "Atlanta Hawks  | C        | 3\n",
       "Atlanta Hawks  | PF       | 2\n",
       "Atlanta Hawks  | PG       | 2\n",
       "Atlanta Hawks  | SF       | 2\n",
       "Atlanta Hawks  | SG       | 5\n",
       "Boston Celtics | C        | 3\n",
       "Boston Celtics | PF       | 2\n",
       "Boston Celtics | PG       | 4\n",
       "Boston Celtics | SF       | 2\n",
       "Boston Celtics | SG       | 4\n",
       "... (137 rows omitted)"
      ]
     },
     "execution_count": 78,
     "metadata": {},
     "output_type": "execute_result"
    }
   ],
   "source": [
    "nba.group(['TEAM','POSITION'])"
   ]
  },
  {
   "cell_type": "markdown",
   "metadata": {
    "slideshow": {
     "slide_type": "slide"
    }
   },
   "source": [
    "## A better approach: `.pivot()` to create a two-way table"
   ]
  },
  {
   "cell_type": "code",
   "execution_count": 79,
   "metadata": {},
   "outputs": [
    {
     "data": {
      "text/html": [
       "<table border=\"1\" class=\"dataframe\">\n",
       "    <thead>\n",
       "        <tr>\n",
       "            <th>POSITION</th> <th>Atlanta Hawks</th> <th>Boston Celtics</th> <th>Brooklyn Nets</th> <th>Charlotte Hornets</th> <th>Chicago Bulls</th> <th>Cleveland Cavaliers</th> <th>Dallas Mavericks</th> <th>Denver Nuggets</th> <th>Detroit Pistons</th> <th>Golden State Warriors</th> <th>Houston Rockets</th> <th>Indiana Pacers</th> <th>Los Angeles Clippers</th> <th>Los Angeles Lakers</th> <th>Memphis Grizzlies</th> <th>Miami Heat</th> <th>Milwaukee Bucks</th> <th>Minnesota Timberwolves</th> <th>New Orleans Pelicans</th> <th>New York Knicks</th> <th>Oklahoma City Thunder</th> <th>Orlando Magic</th> <th>Philadelphia 76ers</th> <th>Phoenix Suns</th> <th>Portland Trail Blazers</th> <th>Sacramento Kings</th> <th>San Antonio Spurs</th> <th>Toronto Raptors</th> <th>Utah Jazz</th> <th>Washington Wizards</th>\n",
       "        </tr>\n",
       "    </thead>\n",
       "    <tbody>\n",
       "        <tr>\n",
       "            <td>C       </td> <td>3            </td> <td>3             </td> <td>1            </td> <td>3                </td> <td>2            </td> <td>4                  </td> <td>2               </td> <td>4             </td> <td>3              </td> <td>3                    </td> <td>1              </td> <td>2             </td> <td>1                   </td> <td>2                 </td> <td>2                </td> <td>0         </td> <td>1              </td> <td>3                     </td> <td>3                   </td> <td>1              </td> <td>2                    </td> <td>1            </td> <td>2                 </td> <td>2           </td> <td>3                     </td> <td>3               </td> <td>3                </td> <td>3              </td> <td>3        </td> <td>3                 </td>\n",
       "        </tr>\n",
       "        <tr>\n",
       "            <td>PF      </td> <td>2            </td> <td>2             </td> <td>3            </td> <td>3                </td> <td>2            </td> <td>1                  </td> <td>2               </td> <td>2             </td> <td>0              </td> <td>3                    </td> <td>4              </td> <td>3             </td> <td>2                   </td> <td>4                 </td> <td>7                </td> <td>3         </td> <td>2              </td> <td>3                     </td> <td>3                   </td> <td>4              </td> <td>3                    </td> <td>5            </td> <td>4                 </td> <td>3           </td> <td>3                     </td> <td>0               </td> <td>2                </td> <td>4              </td> <td>3        </td> <td>3                 </td>\n",
       "        </tr>\n",
       "        <tr>\n",
       "            <td>PG      </td> <td>2            </td> <td>4             </td> <td>2            </td> <td>4                </td> <td>2            </td> <td>3                  </td> <td>4               </td> <td>2             </td> <td>1              </td> <td>2                    </td> <td>2              </td> <td>2             </td> <td>3                   </td> <td>1                 </td> <td>4                </td> <td>2         </td> <td>4              </td> <td>3                     </td> <td>4                   </td> <td>3              </td> <td>3                    </td> <td>4            </td> <td>1                 </td> <td>4           </td> <td>1                     </td> <td>2               </td> <td>3                </td> <td>5              </td> <td>5        </td> <td>3                 </td>\n",
       "        </tr>\n",
       "        <tr>\n",
       "            <td>SF      </td> <td>2            </td> <td>2             </td> <td>2            </td> <td>2                </td> <td>2            </td> <td>1                  </td> <td>1               </td> <td>4             </td> <td>4              </td> <td>4                    </td> <td>2              </td> <td>4             </td> <td>2                   </td> <td>3                 </td> <td>4                </td> <td>4         </td> <td>3              </td> <td>2                     </td> <td>3                   </td> <td>3              </td> <td>4                    </td> <td>1            </td> <td>3                 </td> <td>2           </td> <td>2                     </td> <td>3               </td> <td>3                </td> <td>3              </td> <td>3        </td> <td>4                 </td>\n",
       "        </tr>\n",
       "        <tr>\n",
       "            <td>SG      </td> <td>5            </td> <td>4             </td> <td>5            </td> <td>6                </td> <td>4            </td> <td>1                  </td> <td>2               </td> <td>2             </td> <td>2              </td> <td>2                    </td> <td>3              </td> <td>2             </td> <td>5                   </td> <td>1                 </td> <td>4                </td> <td>3         </td> <td>3              </td> <td>2                     </td> <td>3                   </td> <td>2              </td> <td>4                    </td> <td>3            </td> <td>3                 </td> <td>6           </td> <td>5                     </td> <td>3               </td> <td>2                </td> <td>2              </td> <td>3        </td> <td>4                 </td>\n",
       "        </tr>\n",
       "    </tbody>\n",
       "</table>"
      ],
      "text/plain": [
       "POSITION | Atlanta Hawks | Boston Celtics | Brooklyn Nets | Charlotte Hornets | Chicago Bulls | Cleveland Cavaliers | Dallas Mavericks | Denver Nuggets | Detroit Pistons | Golden State Warriors | Houston Rockets | Indiana Pacers | Los Angeles Clippers | Los Angeles Lakers | Memphis Grizzlies | Miami Heat | Milwaukee Bucks | Minnesota Timberwolves | New Orleans Pelicans | New York Knicks | Oklahoma City Thunder | Orlando Magic | Philadelphia 76ers | Phoenix Suns | Portland Trail Blazers | Sacramento Kings | San Antonio Spurs | Toronto Raptors | Utah Jazz | Washington Wizards\n",
       "C        | 3             | 3              | 1             | 3                 | 2             | 4                   | 2                | 4              | 3               | 3                     | 1               | 2              | 1                    | 2                  | 2                 | 0          | 1               | 3                      | 3                    | 1               | 2                     | 1             | 2                  | 2            | 3                      | 3                | 3                 | 3               | 3         | 3\n",
       "PF       | 2             | 2              | 3             | 3                 | 2             | 1                   | 2                | 2              | 0               | 3                     | 4               | 3              | 2                    | 4                  | 7                 | 3          | 2               | 3                      | 3                    | 4               | 3                     | 5             | 4                  | 3            | 3                      | 0                | 2                 | 4               | 3         | 3\n",
       "PG       | 2             | 4              | 2             | 4                 | 2             | 3                   | 4                | 2              | 1               | 2                     | 2               | 2              | 3                    | 1                  | 4                 | 2          | 4               | 3                      | 4                    | 3               | 3                     | 4             | 1                  | 4            | 1                      | 2                | 3                 | 5               | 5         | 3\n",
       "SF       | 2             | 2              | 2             | 2                 | 2             | 1                   | 1                | 4              | 4               | 4                     | 2               | 4              | 2                    | 3                  | 4                 | 4          | 3               | 2                      | 3                    | 3               | 4                     | 1             | 3                  | 2            | 2                      | 3                | 3                 | 3               | 3         | 4\n",
       "SG       | 5             | 4              | 5             | 6                 | 4             | 1                   | 2                | 2              | 2               | 2                     | 3               | 2              | 5                    | 1                  | 4                 | 3          | 3               | 2                      | 3                    | 2               | 4                     | 3             | 3                  | 6            | 5                      | 3                | 2                 | 2               | 3         | 4"
      ]
     },
     "execution_count": 79,
     "metadata": {},
     "output_type": "execute_result"
    }
   ],
   "source": [
    "nba.pivot('TEAM','POSITION')"
   ]
  },
  {
   "cell_type": "markdown",
   "metadata": {
    "slideshow": {
     "slide_type": "slide"
    }
   },
   "source": [
    "## `.pivot()` can do more than count...\n",
    "\n",
    "- What is the *average* salary of each position on every team?"
   ]
  },
  {
   "cell_type": "code",
   "execution_count": 40,
   "metadata": {},
   "outputs": [
    {
     "data": {
      "text/html": [
       "<table border=\"1\" class=\"dataframe\">\n",
       "    <thead>\n",
       "        <tr>\n",
       "            <th>POSITION</th> <th>Atlanta Hawks</th> <th>Boston Celtics</th> <th>Brooklyn Nets</th> <th>Charlotte Hornets</th> <th>Chicago Bulls</th> <th>Cleveland Cavaliers</th> <th>Dallas Mavericks</th> <th>Denver Nuggets</th> <th>Detroit Pistons</th> <th>Golden State Warriors</th> <th>Houston Rockets</th> <th>Indiana Pacers</th> <th>Los Angeles Clippers</th> <th>Los Angeles Lakers</th> <th>Memphis Grizzlies</th> <th>Miami Heat</th> <th>Milwaukee Bucks</th> <th>Minnesota Timberwolves</th> <th>New Orleans Pelicans</th> <th>New York Knicks</th> <th>Oklahoma City Thunder</th> <th>Orlando Magic</th> <th>Philadelphia 76ers</th> <th>Phoenix Suns</th> <th>Portland Trail Blazers</th> <th>Sacramento Kings</th> <th>San Antonio Spurs</th> <th>Toronto Raptors</th> <th>Utah Jazz</th> <th>Washington Wizards</th>\n",
       "        </tr>\n",
       "    </thead>\n",
       "    <tbody>\n",
       "        <tr>\n",
       "            <td>C       </td> <td>7.58542      </td> <td>2.45046       </td> <td>1.3629       </td> <td>6.77224          </td> <td>10.4244      </td> <td>7.75234            </td> <td>3.23548         </td> <td>2.6163        </td> <td>4.0907         </td> <td>6.54125              </td> <td>22.3594        </td> <td>4             </td> <td>1.1006              </td> <td>8.28678           </td> <td>9.89972          </td> <td>0         </td> <td>2.10929        </td> <td>6.42601               </td> <td>4.85012             </td> <td>12.65          </td> <td>9.34327              </td> <td>11.25        </td> <td>4.60482           </td> <td>8.40356     </td> <td>4.47077               </td> <td>8.98341         </td> <td>4.65             </td> <td>3.10549        </td> <td>1.67439  </td> <td>8.73913           </td>\n",
       "        </tr>\n",
       "        <tr>\n",
       "            <td>PF      </td> <td>11.0025      </td> <td>3.08548       </td> <td>4.45251      </td> <td>4.68577          </td> <td>3.46744      </td> <td>19.689             </td> <td>11.9135         </td> <td>7.02498       </td> <td>0              </td> <td>7.18637              </td> <td>1.75511        </td> <td>2.4716        </td> <td>9.50958             </td> <td>2.25302           </td> <td>3.36409          </td> <td>10.1971   </td> <td>4.04783        </td> <td>4.79628               </td> <td>6.14024             </td> <td>3.3793         </td> <td>5.82101              </td> <td>5.38906      </td> <td>3.46718           </td> <td>2.1949      </td> <td>2.07956               </td> <td>0               </td> <td>10.5941          </td> <td>3.04844        </td> <td>2.65403  </td> <td>5.24667           </td>\n",
       "        </tr>\n",
       "        <tr>\n",
       "            <td>PG      </td> <td>4.8817       </td> <td>4.97465       </td> <td>3.9          </td> <td>4.4853           </td> <td>11.1715      </td> <td>6.55159            </td> <td>4.41818         </td> <td>3.72362       </td> <td>13.913         </td> <td>8.45726              </td> <td>9.44549        </td> <td>4.00351       </td> <td>8.50907             </td> <td>5.10312           </td> <td>4.22599          </td> <td>7.65405   </td> <td>3.41535        </td> <td>5.37681               </td> <td>3.8306              </td> <td>3.28334        </td> <td>7.25525              </td> <td>3.05161      </td> <td>2.14477           </td> <td>3.59202     </td> <td>4.23629               </td> <td>7.25678         </td> <td>5.98791          </td> <td>4.75689        </td> <td>1.97374  </td> <td>6.72047           </td>\n",
       "        </tr>\n",
       "        <tr>\n",
       "            <td>SF      </td> <td>3            </td> <td>4.41716       </td> <td>13.0403      </td> <td>3.76642          </td> <td>1.95816      </td> <td>22.9705            </td> <td>15.3615         </td> <td>7.19577       </td> <td>1.71622        </td> <td>4.49669              </td> <td>4.91972        </td> <td>6.9683        </td> <td>2.2383              </td> <td>10.3064           </td> <td>5.70939          </td> <td>3.56476   </td> <td>1.31965        </td> <td>1.60321               </td> <td>1.93421             </td> <td>8.18091        </td> <td>6.52215              </td> <td>16           </td> <td>3.98364           </td> <td>3.77054     </td> <td>5.46848               </td> <td>5.56282         </td> <td>6.24539          </td> <td>6.22597        </td> <td>6.14697  </td> <td>4.14292           </td>\n",
       "        </tr>\n",
       "        <tr>\n",
       "            <td>SG      </td> <td>1.80969      </td> <td>2.00755       </td> <td>1.74118      </td> <td>4.04238          </td> <td>6.19447      </td> <td>8.98876            </td> <td>1.21517         </td> <td>0.841949      </td> <td>4.58088        </td> <td>9.0005               </td> <td>9.05854        </td> <td>5.7           </td> <td>3.1901              </td> <td>7                 </td> <td>2.67672          </td> <td>7.12338   </td> <td>8.14435        </td> <td>6.42184               </td> <td>8.80617             </td> <td>4.42253        </td> <td>3.20706              </td> <td>3.74074      </td> <td>1.76909           </td> <td>0.869973    </td> <td>2.12452               </td> <td>3.41088         </td> <td>6.407            </td> <td>5.35           </td> <td>3.77901  </td> <td>2.83925           </td>\n",
       "        </tr>\n",
       "    </tbody>\n",
       "</table>"
      ],
      "text/plain": [
       "POSITION | Atlanta Hawks | Boston Celtics | Brooklyn Nets | Charlotte Hornets | Chicago Bulls | Cleveland Cavaliers | Dallas Mavericks | Denver Nuggets | Detroit Pistons | Golden State Warriors | Houston Rockets | Indiana Pacers | Los Angeles Clippers | Los Angeles Lakers | Memphis Grizzlies | Miami Heat | Milwaukee Bucks | Minnesota Timberwolves | New Orleans Pelicans | New York Knicks | Oklahoma City Thunder | Orlando Magic | Philadelphia 76ers | Phoenix Suns | Portland Trail Blazers | Sacramento Kings | San Antonio Spurs | Toronto Raptors | Utah Jazz | Washington Wizards\n",
       "C        | 7.58542       | 2.45046        | 1.3629        | 6.77224           | 10.4244       | 7.75234             | 3.23548          | 2.6163         | 4.0907          | 6.54125               | 22.3594         | 4              | 1.1006               | 8.28678            | 9.89972           | 0          | 2.10929         | 6.42601                | 4.85012              | 12.65           | 9.34327               | 11.25         | 4.60482            | 8.40356      | 4.47077                | 8.98341          | 4.65              | 3.10549         | 1.67439   | 8.73913\n",
       "PF       | 11.0025       | 3.08548        | 4.45251       | 4.68577           | 3.46744       | 19.689              | 11.9135          | 7.02498        | 0               | 7.18637               | 1.75511         | 2.4716         | 9.50958              | 2.25302            | 3.36409           | 10.1971    | 4.04783         | 4.79628                | 6.14024              | 3.3793          | 5.82101               | 5.38906       | 3.46718            | 2.1949       | 2.07956                | 0                | 10.5941           | 3.04844         | 2.65403   | 5.24667\n",
       "PG       | 4.8817        | 4.97465        | 3.9           | 4.4853            | 11.1715       | 6.55159             | 4.41818          | 3.72362        | 13.913          | 8.45726               | 9.44549         | 4.00351        | 8.50907              | 5.10312            | 4.22599           | 7.65405    | 3.41535         | 5.37681                | 3.8306               | 3.28334         | 7.25525               | 3.05161       | 2.14477            | 3.59202      | 4.23629                | 7.25678          | 5.98791           | 4.75689         | 1.97374   | 6.72047\n",
       "SF       | 3             | 4.41716        | 13.0403       | 3.76642           | 1.95816       | 22.9705             | 15.3615          | 7.19577        | 1.71622         | 4.49669               | 4.91972         | 6.9683         | 2.2383               | 10.3064            | 5.70939           | 3.56476    | 1.31965         | 1.60321                | 1.93421              | 8.18091         | 6.52215               | 16            | 3.98364            | 3.77054      | 5.46848                | 5.56282          | 6.24539           | 6.22597         | 6.14697   | 4.14292\n",
       "SG       | 1.80969       | 2.00755        | 1.74118       | 4.04238           | 6.19447       | 8.98876             | 1.21517          | 0.841949       | 4.58088         | 9.0005                | 9.05854         | 5.7            | 3.1901               | 7                  | 2.67672           | 7.12338    | 8.14435         | 6.42184                | 8.80617              | 4.42253         | 3.20706               | 3.74074       | 1.76909            | 0.869973     | 2.12452                | 3.41088          | 6.407             | 5.35            | 3.77901   | 2.83925"
      ]
     },
     "execution_count": 40,
     "metadata": {},
     "output_type": "execute_result"
    }
   ],
   "source": [
    "nba.pivot('TEAM','POSITION','SALARY',np.mean)"
   ]
  },
  {
   "cell_type": "markdown",
   "metadata": {
    "slideshow": {
     "slide_type": "slide"
    }
   },
   "source": [
    "# Join\n",
    "\n",
    "Combining columns from two different tables"
   ]
  },
  {
   "cell_type": "markdown",
   "metadata": {
    "slideshow": {
     "slide_type": "slide"
    }
   },
   "source": [
    "## Example: Drinks"
   ]
  },
  {
   "cell_type": "code",
   "execution_count": 41,
   "metadata": {
    "slideshow": {
     "slide_type": ""
    }
   },
   "outputs": [
    {
     "data": {
      "text/html": [
       "<table border=\"1\" class=\"dataframe\">\n",
       "    <thead>\n",
       "        <tr>\n",
       "            <th>Location</th> <th>Product</th> <th>Price</th>\n",
       "        </tr>\n",
       "    </thead>\n",
       "    <tbody>\n",
       "        <tr>\n",
       "            <td>Cups           </td> <td>Green Tea  </td> <td>1.25 </td>\n",
       "        </tr>\n",
       "        <tr>\n",
       "            <td>Cups           </td> <td>Latte      </td> <td>2.5  </td>\n",
       "        </tr>\n",
       "        <tr>\n",
       "            <td>Cups           </td> <td>Drip Coffee</td> <td>1    </td>\n",
       "        </tr>\n",
       "        <tr>\n",
       "            <td>Art of Espresso</td> <td>Espresso   </td> <td>2    </td>\n",
       "        </tr>\n",
       "        <tr>\n",
       "            <td>Art of Espresso</td> <td>Latte      </td> <td>3    </td>\n",
       "        </tr>\n",
       "        <tr>\n",
       "            <td>Perks          </td> <td>Drip Coffee</td> <td>1.25 </td>\n",
       "        </tr>\n",
       "        <tr>\n",
       "            <td>Perks          </td> <td>Green Tea  </td> <td>1.5  </td>\n",
       "        </tr>\n",
       "    </tbody>\n",
       "</table>"
      ],
      "text/plain": [
       "Location        | Product     | Price\n",
       "Cups            | Green Tea   | 1.25\n",
       "Cups            | Latte       | 2.5\n",
       "Cups            | Drip Coffee | 1\n",
       "Art of Espresso | Espresso    | 2\n",
       "Art of Espresso | Latte       | 3\n",
       "Perks           | Drip Coffee | 1.25\n",
       "Perks           | Green Tea   | 1.5"
      ]
     },
     "execution_count": 41,
     "metadata": {},
     "output_type": "execute_result"
    }
   ],
   "source": [
    "#: table of products\n",
    "products = Table(['Location', 'Product', 'Price']).with_rows([\n",
    "    ['Cups', 'Green Tea', 1.25],\n",
    "    ['Cups', 'Latte', 2.50],\n",
    "    ['Cups', 'Drip Coffee', 1.00],\n",
    "    ['Art of Espresso', 'Espresso', 2.00],\n",
    "    ['Art of Espresso', 'Latte', 3.00],\n",
    "    ['Perks', 'Drip Coffee', 1.25],\n",
    "    ['Perks', 'Green Tea', 1.50]\n",
    "])\n",
    "products"
   ]
  },
  {
   "cell_type": "markdown",
   "metadata": {
    "slideshow": {
     "slide_type": "slide"
    }
   },
   "source": [
    "## Example: Drinks"
   ]
  },
  {
   "cell_type": "code",
   "execution_count": 42,
   "metadata": {},
   "outputs": [
    {
     "data": {
      "text/html": [
       "<table border=\"1\" class=\"dataframe\">\n",
       "    <thead>\n",
       "        <tr>\n",
       "            <th>Location</th> <th>Discount</th>\n",
       "        </tr>\n",
       "    </thead>\n",
       "    <tbody>\n",
       "        <tr>\n",
       "            <td>Cups           </td> <td>0.1     </td>\n",
       "        </tr>\n",
       "        <tr>\n",
       "            <td>Art of Espresso</td> <td>0.25    </td>\n",
       "        </tr>\n",
       "    </tbody>\n",
       "</table>"
      ],
      "text/plain": [
       "Location        | Discount\n",
       "Cups            | 0.1\n",
       "Art of Espresso | 0.25"
      ]
     },
     "execution_count": 42,
     "metadata": {},
     "output_type": "execute_result"
    }
   ],
   "source": [
    "#: table of coupons\n",
    "#: discounts are percentages off\n",
    "\n",
    "coupons = Table(['Location', 'Discount']).with_rows([\n",
    "    ['Cups', .10],\n",
    "    ['Art of Espresso', .25]\n",
    "])\n",
    "coupons"
   ]
  },
  {
   "cell_type": "markdown",
   "metadata": {
    "slideshow": {
     "slide_type": "slide"
    }
   },
   "source": [
    "## How do we calculate discounted price of each product?\n",
    "\n",
    "- Idea: \"cross-reference\" tables.\n",
    "- I.e., for each row in `products`, find discount in `coupons` for that row's `Location`.\n",
    "- This is what `.join()` does:"
   ]
  },
  {
   "cell_type": "code",
   "execution_count": 43,
   "metadata": {},
   "outputs": [
    {
     "data": {
      "text/html": [
       "<table border=\"1\" class=\"dataframe\">\n",
       "    <thead>\n",
       "        <tr>\n",
       "            <th>Location</th> <th>Product</th> <th>Price</th> <th>Discount</th>\n",
       "        </tr>\n",
       "    </thead>\n",
       "    <tbody>\n",
       "        <tr>\n",
       "            <td>Art of Espresso</td> <td>Espresso   </td> <td>2    </td> <td>0.25    </td>\n",
       "        </tr>\n",
       "        <tr>\n",
       "            <td>Art of Espresso</td> <td>Latte      </td> <td>3    </td> <td>0.25    </td>\n",
       "        </tr>\n",
       "        <tr>\n",
       "            <td>Cups           </td> <td>Green Tea  </td> <td>1.25 </td> <td>0.1     </td>\n",
       "        </tr>\n",
       "        <tr>\n",
       "            <td>Cups           </td> <td>Latte      </td> <td>2.5  </td> <td>0.1     </td>\n",
       "        </tr>\n",
       "        <tr>\n",
       "            <td>Cups           </td> <td>Drip Coffee</td> <td>1    </td> <td>0.1     </td>\n",
       "        </tr>\n",
       "    </tbody>\n",
       "</table>"
      ],
      "text/plain": [
       "Location        | Product     | Price | Discount\n",
       "Art of Espresso | Espresso    | 2     | 0.25\n",
       "Art of Espresso | Latte       | 3     | 0.25\n",
       "Cups            | Green Tea   | 1.25  | 0.1\n",
       "Cups            | Latte       | 2.5   | 0.1\n",
       "Cups            | Drip Coffee | 1     | 0.1"
      ]
     },
     "execution_count": 43,
     "metadata": {},
     "output_type": "execute_result"
    }
   ],
   "source": [
    "discounted = products.join('Location', coupons)\n",
    "discounted"
   ]
  },
  {
   "cell_type": "code",
   "execution_count": 44,
   "metadata": {},
   "outputs": [
    {
     "data": {
      "text/html": [
       "<table border=\"1\" class=\"dataframe\">\n",
       "    <thead>\n",
       "        <tr>\n",
       "            <th>Location</th> <th>Product</th> <th>Price</th> <th>Discount</th> <th>Discounted Price</th>\n",
       "        </tr>\n",
       "    </thead>\n",
       "    <tbody>\n",
       "        <tr>\n",
       "            <td>Art of Espresso</td> <td>Espresso   </td> <td>2    </td> <td>0.25    </td> <td>1.5             </td>\n",
       "        </tr>\n",
       "        <tr>\n",
       "            <td>Art of Espresso</td> <td>Latte      </td> <td>3    </td> <td>0.25    </td> <td>2.25            </td>\n",
       "        </tr>\n",
       "        <tr>\n",
       "            <td>Cups           </td> <td>Green Tea  </td> <td>1.25 </td> <td>0.1     </td> <td>1.12            </td>\n",
       "        </tr>\n",
       "        <tr>\n",
       "            <td>Cups           </td> <td>Latte      </td> <td>2.5  </td> <td>0.1     </td> <td>2.25            </td>\n",
       "        </tr>\n",
       "        <tr>\n",
       "            <td>Cups           </td> <td>Drip Coffee</td> <td>1    </td> <td>0.1     </td> <td>0.9             </td>\n",
       "        </tr>\n",
       "    </tbody>\n",
       "</table>"
      ],
      "text/plain": [
       "Location        | Product     | Price | Discount | Discounted Price\n",
       "Art of Espresso | Espresso    | 2     | 0.25     | 1.5\n",
       "Art of Espresso | Latte       | 3     | 0.25     | 2.25\n",
       "Cups            | Green Tea   | 1.25  | 0.1      | 1.12\n",
       "Cups            | Latte       | 2.5   | 0.1      | 2.25\n",
       "Cups            | Drip Coffee | 1     | 0.1      | 0.9"
      ]
     },
     "execution_count": 44,
     "metadata": {},
     "output_type": "execute_result"
    }
   ],
   "source": [
    "discounted.with_column(\n",
    "    'Discounted Price',\n",
    "    np.round(discounted.column('Price') * (1 - discounted.column('Discount')), 2)\n",
    ")"
   ]
  },
  {
   "cell_type": "markdown",
   "metadata": {
    "slideshow": {
     "slide_type": "slide"
    }
   },
   "source": [
    "## The `.join()` method:\n",
    "\n",
    "- `this_table.join(common_column, that_table)`\n",
    "- Only contains rows with values of `common_column` which appear in *both* tables.\n",
    "    - For example, Perks was omitted.\n",
    "- What if the \"common columns\" have different names?\n",
    "- `this_table.join(this_column, that_table, that_column)`"
   ]
  },
  {
   "cell_type": "markdown",
   "metadata": {
    "slideshow": {
     "slide_type": "slide"
    }
   },
   "source": [
    "## Common Columns with Different Names"
   ]
  },
  {
   "cell_type": "code",
   "execution_count": 45,
   "metadata": {},
   "outputs": [
    {
     "data": {
      "text/html": [
       "<table border=\"1\" class=\"dataframe\">\n",
       "    <thead>\n",
       "        <tr>\n",
       "            <th>Cafe</th> <th>Discount</th>\n",
       "        </tr>\n",
       "    </thead>\n",
       "    <tbody>\n",
       "        <tr>\n",
       "            <td>Cups           </td> <td>0.1     </td>\n",
       "        </tr>\n",
       "        <tr>\n",
       "            <td>Art of Espresso</td> <td>0.25    </td>\n",
       "        </tr>\n",
       "    </tbody>\n",
       "</table>"
      ],
      "text/plain": [
       "Cafe            | Discount\n",
       "Cups            | 0.1\n",
       "Art of Espresso | 0.25"
      ]
     },
     "execution_count": 45,
     "metadata": {},
     "output_type": "execute_result"
    }
   ],
   "source": [
    "cafes = coupons.relabeled('Location', 'Cafe')\n",
    "cafes"
   ]
  },
  {
   "cell_type": "code",
   "execution_count": 46,
   "metadata": {},
   "outputs": [
    {
     "data": {
      "text/html": [
       "<table border=\"1\" class=\"dataframe\">\n",
       "    <thead>\n",
       "        <tr>\n",
       "            <th>Location</th> <th>Product</th> <th>Price</th>\n",
       "        </tr>\n",
       "    </thead>\n",
       "    <tbody>\n",
       "        <tr>\n",
       "            <td>Cups           </td> <td>Green Tea  </td> <td>1.25 </td>\n",
       "        </tr>\n",
       "        <tr>\n",
       "            <td>Cups           </td> <td>Latte      </td> <td>2.5  </td>\n",
       "        </tr>\n",
       "        <tr>\n",
       "            <td>Cups           </td> <td>Drip Coffee</td> <td>1    </td>\n",
       "        </tr>\n",
       "        <tr>\n",
       "            <td>Art of Espresso</td> <td>Espresso   </td> <td>2    </td>\n",
       "        </tr>\n",
       "        <tr>\n",
       "            <td>Art of Espresso</td> <td>Latte      </td> <td>3    </td>\n",
       "        </tr>\n",
       "        <tr>\n",
       "            <td>Perks          </td> <td>Drip Coffee</td> <td>1.25 </td>\n",
       "        </tr>\n",
       "        <tr>\n",
       "            <td>Perks          </td> <td>Green Tea  </td> <td>1.5  </td>\n",
       "        </tr>\n",
       "    </tbody>\n",
       "</table>"
      ],
      "text/plain": [
       "Location        | Product     | Price\n",
       "Cups            | Green Tea   | 1.25\n",
       "Cups            | Latte       | 2.5\n",
       "Cups            | Drip Coffee | 1\n",
       "Art of Espresso | Espresso    | 2\n",
       "Art of Espresso | Latte       | 3\n",
       "Perks           | Drip Coffee | 1.25\n",
       "Perks           | Green Tea   | 1.5"
      ]
     },
     "execution_count": 46,
     "metadata": {},
     "output_type": "execute_result"
    }
   ],
   "source": [
    "products"
   ]
  },
  {
   "cell_type": "code",
   "execution_count": 49,
   "metadata": {},
   "outputs": [
    {
     "data": {
      "text/html": [
       "<table border=\"1\" class=\"dataframe\">\n",
       "    <thead>\n",
       "        <tr>\n",
       "            <th>Location</th> <th>Product</th> <th>Price</th> <th>Discount</th>\n",
       "        </tr>\n",
       "    </thead>\n",
       "    <tbody>\n",
       "        <tr>\n",
       "            <td>Art of Espresso</td> <td>Espresso   </td> <td>2    </td> <td>0.25    </td>\n",
       "        </tr>\n",
       "        <tr>\n",
       "            <td>Art of Espresso</td> <td>Latte      </td> <td>3    </td> <td>0.25    </td>\n",
       "        </tr>\n",
       "        <tr>\n",
       "            <td>Cups           </td> <td>Green Tea  </td> <td>1.25 </td> <td>0.1     </td>\n",
       "        </tr>\n",
       "        <tr>\n",
       "            <td>Cups           </td> <td>Latte      </td> <td>2.5  </td> <td>0.1     </td>\n",
       "        </tr>\n",
       "        <tr>\n",
       "            <td>Cups           </td> <td>Drip Coffee</td> <td>1    </td> <td>0.1     </td>\n",
       "        </tr>\n",
       "    </tbody>\n",
       "</table>"
      ],
      "text/plain": [
       "Location        | Product     | Price | Discount\n",
       "Art of Espresso | Espresso    | 2     | 0.25\n",
       "Art of Espresso | Latte       | 3     | 0.25\n",
       "Cups            | Green Tea   | 1.25  | 0.1\n",
       "Cups            | Latte       | 2.5   | 0.1\n",
       "Cups            | Drip Coffee | 1     | 0.1"
      ]
     },
     "execution_count": 49,
     "metadata": {},
     "output_type": "execute_result"
    }
   ],
   "source": [
    "products.join('Location', cafes,'Cafe')"
   ]
  },
  {
   "cell_type": "markdown",
   "metadata": {
    "slideshow": {
     "slide_type": "slide"
    }
   },
   "source": [
    "# Booleans and Conditionals"
   ]
  },
  {
   "cell_type": "markdown",
   "metadata": {
    "slideshow": {
     "slide_type": "slide"
    }
   },
   "source": [
    "## Booleans\n",
    "\n",
    "- A **Boolean** variable is either true or false.\n",
    "    - yes or no\n",
    "    - on or off\n",
    "    - 0 or 1\n",
    "- In Python: \n",
    "    - `bool` type\n",
    "    - `True` and `False` literals\n",
    "    - `and`, `or`, `not` operators"
   ]
  },
  {
   "cell_type": "code",
   "execution_count": 50,
   "metadata": {},
   "outputs": [],
   "source": [
    "x = True"
   ]
  },
  {
   "cell_type": "code",
   "execution_count": 51,
   "metadata": {},
   "outputs": [
    {
     "data": {
      "text/plain": [
       "bool"
      ]
     },
     "execution_count": 51,
     "metadata": {},
     "output_type": "execute_result"
    }
   ],
   "source": [
    "type(x)"
   ]
  },
  {
   "cell_type": "markdown",
   "metadata": {
    "slideshow": {
     "slide_type": "slide"
    }
   },
   "source": [
    "## The `not` operator\n",
    "\n",
    "- Flips a `True` to a `False`, and a `False` to a `True`."
   ]
  },
  {
   "cell_type": "code",
   "execution_count": 80,
   "metadata": {},
   "outputs": [
    {
     "data": {
      "text/plain": [
       "False"
      ]
     },
     "execution_count": 80,
     "metadata": {},
     "output_type": "execute_result"
    }
   ],
   "source": [
    "is_sunny = True\n",
    "\n",
    "not is_sunny"
   ]
  },
  {
   "cell_type": "markdown",
   "metadata": {
    "slideshow": {
     "slide_type": "slide"
    }
   },
   "source": [
    "## The `and` operator\n",
    "\n",
    "- Placed between two `bool`s.\n",
    "- `True` if *both* are true, otherwise `False`."
   ]
  },
  {
   "cell_type": "code",
   "execution_count": 81,
   "metadata": {},
   "outputs": [
    {
     "data": {
      "text/plain": [
       "False"
      ]
     },
     "execution_count": 81,
     "metadata": {},
     "output_type": "execute_result"
    }
   ],
   "source": [
    "is_sunny = True\n",
    "is_warm = False\n",
    "\n",
    "is_sunny and is_warm"
   ]
  },
  {
   "cell_type": "markdown",
   "metadata": {
    "slideshow": {
     "slide_type": "slide"
    }
   },
   "source": [
    "## The `or` operator\n",
    "\n",
    "- Placed between two `bool`s.\n",
    "- `True` if at least one of them is `True`, otherwise `False`."
   ]
  },
  {
   "cell_type": "code",
   "execution_count": 82,
   "metadata": {},
   "outputs": [
    {
     "data": {
      "text/plain": [
       "True"
      ]
     },
     "execution_count": 82,
     "metadata": {},
     "output_type": "execute_result"
    }
   ],
   "source": [
    "is_sunny = True\n",
    "is_warm = False\n",
    "\n",
    "is_sunny or is_warm"
   ]
  },
  {
   "cell_type": "markdown",
   "metadata": {
    "slideshow": {
     "slide_type": "slide"
    }
   },
   "source": [
    "## Building expressions\n",
    "\n",
    "- We can chain together longer expressions.\n",
    "- Parsed from left to right.\n",
    "- But use parenthesis to make things clearer."
   ]
  },
  {
   "cell_type": "code",
   "execution_count": 83,
   "metadata": {},
   "outputs": [
    {
     "data": {
      "text/plain": [
       "False"
      ]
     },
     "execution_count": 83,
     "metadata": {},
     "output_type": "execute_result"
    }
   ],
   "source": [
    "is_sunny = True\n",
    "is_warm = False\n",
    "is_humid = True\n",
    "(is_humid and (not is_sunny)) or is_warm"
   ]
  },
  {
   "cell_type": "markdown",
   "metadata": {
    "slideshow": {
     "slide_type": "slide"
    }
   },
   "source": [
    "## Discussion Question\n",
    "\n",
    "What does the expression below evaluate to?\n",
    "\n",
    "- A) `True`\n",
    "- B) `False`\n",
    "- C) I'm lost."
   ]
  },
  {
   "cell_type": "code",
   "execution_count": 84,
   "metadata": {
    "slideshow": {
     "slide_type": "slide"
    }
   },
   "outputs": [
    {
     "data": {
      "text/plain": [
       "False"
      ]
     },
     "execution_count": 84,
     "metadata": {},
     "output_type": "execute_result"
    }
   ],
   "source": [
    "a = True\n",
    "b = True\n",
    "not(((not a) and b) or ((not b) or a))"
   ]
  },
  {
   "cell_type": "markdown",
   "metadata": {
    "slideshow": {
     "slide_type": "slide"
    }
   },
   "source": [
    "## Comparisons\n",
    "\n",
    "- Comparisons produce `bool`s:"
   ]
  },
  {
   "cell_type": "code",
   "execution_count": 85,
   "metadata": {},
   "outputs": [
    {
     "data": {
      "text/plain": [
       "True"
      ]
     },
     "execution_count": 85,
     "metadata": {},
     "output_type": "execute_result"
    }
   ],
   "source": [
    "4 > 2"
   ]
  },
  {
   "cell_type": "markdown",
   "metadata": {
    "slideshow": {
     "slide_type": "slide"
    }
   },
   "source": [
    "## Comparison operators\n",
    "\n",
    "Operator | Description\n",
    "-------------| ----------\n",
    "`>` | greater than\n",
    "`>=` | greater than or equal to\n",
    "`<` | less than\n",
    "`<=` | less than or equal to\n",
    "`==` | equals\n",
    "`!=` | not equals"
   ]
  },
  {
   "cell_type": "markdown",
   "metadata": {
    "slideshow": {
     "slide_type": "slide"
    }
   },
   "source": [
    "## Careful!\n",
    "\n",
    "- Note that there's a difference between `=` and `==`.\n",
    "- Using the wrong one can result in a `SyntaxError`."
   ]
  },
  {
   "cell_type": "code",
   "execution_count": 87,
   "metadata": {},
   "outputs": [
    {
     "data": {
      "text/plain": [
       "False"
      ]
     },
     "execution_count": 87,
     "metadata": {},
     "output_type": "execute_result"
    }
   ],
   "source": [
    "3 == 5"
   ]
  },
  {
   "cell_type": "markdown",
   "metadata": {
    "slideshow": {
     "slide_type": "slide"
    }
   },
   "source": [
    "## Conditionals\n",
    "\n",
    "- Do something if an expression is `True`.\n",
    "- Syntax (don't forget the colon):\n",
    "\n",
    "\n",
    "    if <condition>:\n",
    "        <body>\n",
    "            \n",
    "- Indentation matters!"
   ]
  },
  {
   "cell_type": "code",
   "execution_count": 88,
   "metadata": {},
   "outputs": [
    {
     "name": "stdout",
     "output_type": "stream",
     "text": [
      "Wear sunglasses!\n"
     ]
    }
   ],
   "source": [
    "#: in San Diego\n",
    "is_sunny = True\n",
    "\n",
    "if is_sunny:\n",
    "    print('Wear sunglasses!')"
   ]
  },
  {
   "cell_type": "markdown",
   "metadata": {
    "slideshow": {
     "slide_type": "slide"
    }
   },
   "source": [
    "## Conditionals\n",
    "\n",
    "- `else`: do something else if condition is `False`"
   ]
  },
  {
   "cell_type": "code",
   "execution_count": 89,
   "metadata": {},
   "outputs": [
    {
     "name": "stdout",
     "output_type": "stream",
     "text": [
      "Stay inside\n"
     ]
    }
   ],
   "source": [
    "#: in San Diego\n",
    "is_sunny = False\n",
    "\n",
    "if is_sunny:\n",
    "    print('Wear sunglasses')\n",
    "else:\n",
    "    print('Stay inside')"
   ]
  },
  {
   "cell_type": "markdown",
   "metadata": {
    "slideshow": {
     "slide_type": "slide"
    }
   },
   "source": [
    "## Conditionals\n",
    "\n",
    "- `elif`: If original condition is `False`, check another condition.\n",
    "    - stands for \"else, if\"\n",
    "- Checks conditions one by one until first `True` condition is found, then stops.\n",
    "- \"Catch\" everything that remains with `else`."
   ]
  },
  {
   "cell_type": "code",
   "execution_count": 100,
   "metadata": {},
   "outputs": [
    {
     "name": "stdout",
     "output_type": "stream",
     "text": [
      "Wear shorts\n"
     ]
    }
   ],
   "source": [
    "#: in San Diego\n",
    "is_raining = False\n",
    "is_warm = True\n",
    "is_sunny = True\n",
    "\n",
    "if is_raining:\n",
    "    print('Get an umbrella')\n",
    "elif is_warm:\n",
    "    print('Wear shorts')\n",
    "elif is_sunny:\n",
    "    print('Wear sunglasses')\n",
    "else:\n",
    "    print('All conditions false!')"
   ]
  },
  {
   "cell_type": "markdown",
   "metadata": {
    "slideshow": {
     "slide_type": "slide"
    }
   },
   "source": [
    "## Example: sign function\n",
    "\n",
    "Write a function that takes a single number and prints\n",
    "- \"positive\" if it is a positive number\n",
    "- \"negative\" if it is a negative number\n",
    "- \"neither\" if it is zero"
   ]
  },
  {
   "cell_type": "code",
   "execution_count": 101,
   "metadata": {},
   "outputs": [],
   "source": [
    "def sign(a):\n",
    "    if a>0:\n",
    "        return \"Positive\"\n",
    "    elif a <0:\n",
    "        return \"Negative\"\n",
    "    elif a== 0:\n",
    "        return 'Neither'"
   ]
  },
  {
   "cell_type": "code",
   "execution_count": null,
   "metadata": {},
   "outputs": [],
   "source": []
  },
  {
   "cell_type": "code",
   "execution_count": 102,
   "metadata": {},
   "outputs": [
    {
     "data": {
      "text/plain": [
       "'Positive'"
      ]
     },
     "execution_count": 102,
     "metadata": {},
     "output_type": "execute_result"
    }
   ],
   "source": [
    "sign(7)"
   ]
  },
  {
   "cell_type": "code",
   "execution_count": 103,
   "metadata": {},
   "outputs": [
    {
     "data": {
      "text/plain": [
       "'Negative'"
      ]
     },
     "execution_count": 103,
     "metadata": {},
     "output_type": "execute_result"
    }
   ],
   "source": [
    "sign(-2)"
   ]
  },
  {
   "cell_type": "code",
   "execution_count": 104,
   "metadata": {},
   "outputs": [
    {
     "data": {
      "text/plain": [
       "'Neither'"
      ]
     },
     "execution_count": 104,
     "metadata": {},
     "output_type": "execute_result"
    }
   ],
   "source": [
    "sign(0)"
   ]
  },
  {
   "cell_type": "markdown",
   "metadata": {
    "slideshow": {
     "slide_type": "slide"
    }
   },
   "source": [
    "## Discussion question\n",
    "\n",
    "```\n",
    "def func(a, b):\n",
    "    if (a + b > 4 and b > 0):\n",
    "        return 'foo'\n",
    "    elif (a*b >= 4 or b < 0):\n",
    "        return 'bar'\n",
    "    else:\n",
    "        return 'baz'\n",
    "```\n",
    "\n",
    "What is returned when `func(2, 2)` is called?\n",
    "\n",
    "- A) foo\n",
    "- B) bar\n",
    "- C) baz\n",
    "- D) more than one of the above"
   ]
  },
  {
   "cell_type": "code",
   "execution_count": 105,
   "metadata": {},
   "outputs": [],
   "source": [
    "def func(a, b):\n",
    "    if (a + b > 4 and b > 0):\n",
    "        return 'foo'\n",
    "    elif (a*b >= 4 or b < 0):\n",
    "        return 'bar'\n",
    "    else:\n",
    "        return 'baz'"
   ]
  },
  {
   "cell_type": "code",
   "execution_count": 106,
   "metadata": {},
   "outputs": [
    {
     "data": {
      "text/plain": [
       "'bar'"
      ]
     },
     "execution_count": 106,
     "metadata": {},
     "output_type": "execute_result"
    }
   ],
   "source": [
    "func(2,2)"
   ]
  },
  {
   "cell_type": "markdown",
   "metadata": {
    "slideshow": {
     "slide_type": "slide"
    }
   },
   "source": [
    "## Using parenthesis...\n",
    "\n",
    "Instead of:\n",
    "\n",
    "    if (a + b > 4 and b > 0):\n",
    "        ...\n",
    "\n",
    "You might prefer: \n",
    "\n",
    "    if (a + b > 4) and (b > 0):\n",
    "        ...\n",
    "        \n",
    "They do the same thing, because comparison operators are evaluated first."
   ]
  },
  {
   "cell_type": "markdown",
   "metadata": {
    "slideshow": {
     "slide_type": "slide"
    }
   },
   "source": [
    "## Example: the other one\n",
    "\n",
    "- Develop a function which takes a 2-element array and a value.\n",
    "- If the value is:\n",
    "    - the first element, return the second.\n",
    "    - the second element, return the first.\n",
    "    \n",
    "    \n",
    "    >>> choices = make_array('moon', 'sun')\n",
    "    >>> other_one(choices, 'moon')\n",
    "    sun\n",
    "    >>> other_one(choices, 'sun')\n",
    "    moon"
   ]
  },
  {
   "cell_type": "code",
   "execution_count": null,
   "metadata": {},
   "outputs": [],
   "source": []
  },
  {
   "cell_type": "code",
   "execution_count": null,
   "metadata": {},
   "outputs": [],
   "source": [
    "choices = make_array('moon', 'sun')\n",
    "other_one(choices, 'moon')"
   ]
  },
  {
   "cell_type": "markdown",
   "metadata": {
    "slideshow": {
     "slide_type": "slide"
    }
   },
   "source": [
    "# Iteration\n",
    "\n",
    "We can use Python to help automate our job at NASA:"
   ]
  },
  {
   "cell_type": "code",
   "execution_count": 107,
   "metadata": {},
   "outputs": [
    {
     "name": "stdout",
     "output_type": "stream",
     "text": [
      "Launching in...\n",
      "t-minus 10\n",
      "t-minus 9\n",
      "t-minus 8\n",
      "t-minus 7\n",
      "t-minus 6\n",
      "t-minus 5\n",
      "t-minus 4\n",
      "t-minus 3\n",
      "t-minus 2\n",
      "t-minus 1\n",
      "Blast off!\n"
     ]
    }
   ],
   "source": [
    "#: counting down...\n",
    "import time\n",
    "\n",
    "print(\"Launching in...\")\n",
    "print(\"t-minus\", 10)\n",
    "time.sleep(1)\n",
    "print(\"t-minus\", 9)\n",
    "time.sleep(1)\n",
    "print(\"t-minus\", 8)\n",
    "time.sleep(1)\n",
    "print(\"t-minus\", 7)\n",
    "time.sleep(1)\n",
    "print(\"t-minus\", 6)\n",
    "time.sleep(1)\n",
    "print(\"t-minus\", 5)\n",
    "time.sleep(1)\n",
    "print(\"t-minus\", 4)\n",
    "time.sleep(1)\n",
    "print(\"t-minus\", 3)\n",
    "time.sleep(1)\n",
    "print(\"t-minus\", 2)\n",
    "time.sleep(1)\n",
    "print(\"t-minus\", 1)\n",
    "time.sleep(1)\n",
    "print(\"Blast off!\")"
   ]
  },
  {
   "cell_type": "markdown",
   "metadata": {
    "slideshow": {
     "slide_type": "slide"
    }
   },
   "source": [
    "## Better approach: use a `for`-loop."
   ]
  },
  {
   "cell_type": "code",
   "execution_count": 108,
   "metadata": {},
   "outputs": [
    {
     "name": "stdout",
     "output_type": "stream",
     "text": [
      "Launching in...\n",
      "t-minus 10\n",
      "t-minus 9\n",
      "t-minus 8\n",
      "t-minus 7\n",
      "t-minus 6\n",
      "t-minus 5\n",
      "t-minus 4\n",
      "t-minus 3\n",
      "t-minus 2\n",
      "t-minus 1\n",
      "Blast off!\n"
     ]
    }
   ],
   "source": [
    "print(\"Launching in...\")\n",
    "\n",
    "for t in [10, 9, 8, 7, 6, 5, 4, 3, 2, 1]:\n",
    "    print(\"t-minus\", t)\n",
    "    time.sleep(1)\n",
    "    \n",
    "print(\"Blast off!\")"
   ]
  },
  {
   "cell_type": "markdown",
   "metadata": {
    "slideshow": {
     "slide_type": "slide"
    }
   },
   "source": [
    "## `for`-loops\n",
    "\n",
    "- Do something for every value in a sequence\n",
    "- Syntax (don't forget the colon):\n",
    "\n",
    "```\n",
    "for <loop variable> in <sequence>:\n",
    "    <body>\n",
    "```\n",
    "\n",
    "- Indentation matters!\n"
   ]
  },
  {
   "cell_type": "code",
   "execution_count": 109,
   "metadata": {},
   "outputs": [
    {
     "name": "stdout",
     "output_type": "stream",
     "text": [
      "1\n",
      "4\n",
      "9\n",
      "16\n"
     ]
    }
   ],
   "source": [
    "#: loop variable can be anything\n",
    "for x in [1, 2, 3, 4]:\n",
    "    print(x ** 2)"
   ]
  },
  {
   "cell_type": "markdown",
   "metadata": {
    "slideshow": {
     "slide_type": "slide"
    }
   },
   "source": [
    "## Ranges\n",
    "\n",
    "- We can use `np.arange` to create sequences to iterate over:"
   ]
  },
  {
   "cell_type": "code",
   "execution_count": null,
   "metadata": {},
   "outputs": [],
   "source": [
    "#: count to 9, starting from 0\n",
    "for x in np.arange(10):\n",
    "    print(x)"
   ]
  },
  {
   "cell_type": "code",
   "execution_count": null,
   "metadata": {},
   "outputs": [],
   "source": [
    "#: countdown\n",
    "for x in np.arange(10, 0, -1):\n",
    "    print(x)"
   ]
  },
  {
   "cell_type": "markdown",
   "metadata": {
    "slideshow": {
     "slide_type": "slide"
    }
   },
   "source": [
    "## Iterating over array by indexing"
   ]
  },
  {
   "cell_type": "code",
   "execution_count": 112,
   "metadata": {},
   "outputs": [
    {
     "name": "stdout",
     "output_type": "stream",
     "text": [
      "Flavor at index 0 is Chocolate\n",
      "Flavor at index 1 is Vanilla\n",
      "Flavor at index 2 is Strawberry\n"
     ]
    }
   ],
   "source": [
    "#: use np.arange(size)\n",
    "\n",
    "flavors = make_array('Chocolate', 'Vanilla', 'Strawberry')\n",
    "\n",
    "for index in np.arange(flavors.size):\n",
    "    print('Flavor at index', index, 'is', flavors[index])"
   ]
  },
  {
   "cell_type": "markdown",
   "metadata": {
    "slideshow": {
     "slide_type": "slide"
    }
   },
   "source": [
    "## Building an array by iterating\n",
    "\n",
    "- How many letters are in each name?\n",
    "- We want to save our results!\n",
    "- Use `np.append`: appends an element to end of array."
   ]
  },
  {
   "cell_type": "code",
   "execution_count": 114,
   "metadata": {},
   "outputs": [
    {
     "data": {
      "text/plain": [
       "array([ 7.,  5., 10.,  6.])"
      ]
     },
     "execution_count": 114,
     "metadata": {},
     "output_type": "execute_result"
    }
   ],
   "source": [
    "#: names\n",
    "names = ['Whitney', 'Xiang', 'Yekaterina', 'Zahara']\n",
    "\n",
    "name_lengths = make_array()\n",
    "\n",
    "for name in names:\n",
    "    name_lengths = np.append(name_lengths, len(name))\n",
    "    \n",
    "name_lengths"
   ]
  },
  {
   "cell_type": "code",
   "execution_count": null,
   "metadata": {},
   "outputs": [],
   "source": []
  }
 ],
 "metadata": {
  "celltoolbar": "Slideshow",
  "kernelspec": {
   "display_name": "Python 3",
   "language": "python",
   "name": "python3"
  },
  "language_info": {
   "codemirror_mode": {
    "name": "ipython",
    "version": 3
   },
   "file_extension": ".py",
   "mimetype": "text/x-python",
   "name": "python",
   "nbconvert_exporter": "python",
   "pygments_lexer": "ipython3",
   "version": "3.8.3"
  },
  "livereveal": {
   "scroll": true,
   "transition": "none"
  }
 },
 "nbformat": 4,
 "nbformat_minor": 2
}
