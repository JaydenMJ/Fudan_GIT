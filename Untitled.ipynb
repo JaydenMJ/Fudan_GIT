{
 "cells": [
  {
   "cell_type": "code",
   "execution_count": 4,
   "metadata": {},
   "outputs": [],
   "source": [
    "from datascience import *\n",
    "import numpy as np"
   ]
  },
  {
   "cell_type": "code",
   "execution_count": 6,
   "metadata": {},
   "outputs": [
    {
     "data": {
      "text/plain": [
       "array(['3', '5', '6'], dtype='<U11')"
      ]
     },
     "execution_count": 6,
     "metadata": {},
     "output_type": "execute_result"
    }
   ],
   "source": [
    "make_array(3,'5','6')"
   ]
  },
  {
   "cell_type": "code",
   "execution_count": 11,
   "metadata": {},
   "outputs": [
    {
     "data": {
      "text/plain": [
       "'7%0'"
      ]
     },
     "execution_count": 11,
     "metadata": {},
     "output_type": "execute_result"
    }
   ],
   "source": [
    "'%7%0%%'.strip('%')"
   ]
  },
  {
   "cell_type": "code",
   "execution_count": 12,
   "metadata": {},
   "outputs": [
    {
     "data": {
      "text/plain": [
       "'sun'"
      ]
     },
     "execution_count": 12,
     "metadata": {},
     "output_type": "execute_result"
    }
   ],
   "source": [
    " 'science'.replace('ie','eu').replace('ce', '')"
   ]
  },
  {
   "cell_type": "code",
   "execution_count": 14,
   "metadata": {},
   "outputs": [
    {
     "data": {
      "text/plain": [
       "[1, 'paul cao', 99.5]"
      ]
     },
     "execution_count": 14,
     "metadata": {},
     "output_type": "execute_result"
    }
   ],
   "source": [
    "[1, 'paul cao', 99.5] "
   ]
  },
  {
   "cell_type": "code",
   "execution_count": 16,
   "metadata": {},
   "outputs": [
    {
     "data": {
      "text/plain": [
       "305.1350838917763"
      ]
     },
     "execution_count": 16,
     "metadata": {},
     "output_type": "execute_result"
    }
   ],
   "source": [
    "5* (2*20+21) + 13 / (2021**(2.1-3/2))"
   ]
  },
  {
   "cell_type": "code",
   "execution_count": 34,
   "metadata": {},
   "outputs": [
    {
     "data": {
      "text/plain": [
       "array([90.5, 90. , 89.5, 89. , 88.5, 88. , 87.5, 87. , 86.5, 86. , 85.5,\n",
       "       85. , 84.5, 84. , 83.5, 83. , 82.5, 82. , 81.5, 81. , 80.5, 80. ,\n",
       "       79.5, 79. , 78.5, 78. , 77.5, 77. , 76.5, 76. , 75.5, 75. , 74.5,\n",
       "       74. , 73.5, 73. , 72.5, 72. , 71.5, 71. , 70.5, 70. , 69.5, 69. ,\n",
       "       68.5, 68. , 67.5, 67. , 66.5, 66. , 65.5, 65. , 64.5, 64. , 63.5,\n",
       "       63. , 62.5, 62. , 61.5, 61. , 60.5, 60. , 59.5, 59. , 58.5, 58. ,\n",
       "       57.5, 57. , 56.5, 56. , 55.5, 55. , 54.5, 54. , 53.5, 53. , 52.5,\n",
       "       52. , 51.5, 51. , 50.5, 50. , 49.5, 49. , 48.5, 48. , 47.5, 47. ,\n",
       "       46.5, 46. , 45.5, 45. , 44.5, 44. , 43.5, 43. , 42.5, 42. , 41.5,\n",
       "       41. , 40.5, 40. , 39.5, 39. , 38.5, 38. , 37.5, 37. , 36.5, 36. ,\n",
       "       35.5, 35. , 34.5, 34. , 33.5, 33. , 32.5, 32. , 31.5, 31. , 30.5,\n",
       "       30. , 29.5, 29. , 28.5, 28. , 27.5, 27. , 26.5, 26. , 25.5, 25. ,\n",
       "       24.5, 24. , 23.5, 23. , 22.5, 22. ])"
      ]
     },
     "execution_count": 34,
     "metadata": {},
     "output_type": "execute_result"
    }
   ],
   "source": [
    "a=np.sort(np.arange(22,91,0.5))[::-1]\n",
    "a"
   ]
  },
  {
   "cell_type": "code",
   "execution_count": 36,
   "metadata": {},
   "outputs": [
    {
     "data": {
      "text/plain": [
       "array([ 1.11612317,  1.24573094,  1.39038917,  1.55184557,  1.73205081,\n",
       "        1.93318204,  2.15766928,  2.40822469,  2.68787538,  3.        ,\n",
       "        3.34836952,  3.73719282,  4.17116751,  4.65553672,  5.19615242,\n",
       "        5.79954613,  6.47300784,  7.22467406,  8.06362614,  9.        ,\n",
       "       10.04510857])"
      ]
     },
     "execution_count": 36,
     "metadata": {},
     "output_type": "execute_result"
    }
   ],
   "source": [
    "3**(np.arange(0.1,2.2,0.1))"
   ]
  },
  {
   "cell_type": "code",
   "execution_count": 44,
   "metadata": {},
   "outputs": [
    {
     "data": {
      "text/plain": [
       "0"
      ]
     },
     "execution_count": 44,
     "metadata": {},
     "output_type": "execute_result"
    }
   ],
   "source": [
    "def foo(n):\n",
    "    if n>=10 and n<=100:\n",
    "        if n%2==0:\n",
    "            return 1\n",
    "        elif n%2==1:\n",
    "            return 2\n",
    "    else:\n",
    "        return 0\n",
    "foo(93)\n",
    "foo(200)"
   ]
  },
  {
   "cell_type": "code",
   "execution_count": 55,
   "metadata": {},
   "outputs": [],
   "source": [
    "def array_123(list):\n",
    "    if 1 in list and 2 in list and 3 in list:\n",
    "        print('True')\n",
    "    else:\n",
    "        print('False')"
   ]
  },
  {
   "cell_type": "code",
   "execution_count": 56,
   "metadata": {},
   "outputs": [
    {
     "name": "stdout",
     "output_type": "stream",
     "text": [
      "False\n"
     ]
    }
   ],
   "source": [
    "array_123([1, 1, 2, 5, 1])"
   ]
  },
  {
   "cell_type": "code",
   "execution_count": 60,
   "metadata": {},
   "outputs": [
    {
     "data": {
      "text/plain": [
       "2"
      ]
     },
     "execution_count": 60,
     "metadata": {},
     "output_type": "execute_result"
    }
   ],
   "source": [
    "\n",
    "# The three staff's heights, in centimeters:\n",
    "lori = 166\n",
    "paul = 188\n",
    "mengjia = 168\n",
    "min_height_difference = min(np.abs(paul - mengjia), np.abs(mengjia - lori), np.abs(lori - paul))\n",
    "min_height_difference"
   ]
  },
  {
   "cell_type": "code",
   "execution_count": null,
   "metadata": {},
   "outputs": [],
   "source": []
  },
  {
   "cell_type": "code",
   "execution_count": null,
   "metadata": {},
   "outputs": [],
   "source": []
  }
 ],
 "metadata": {
  "kernelspec": {
   "display_name": "Python 3",
   "language": "python",
   "name": "python3"
  },
  "language_info": {
   "codemirror_mode": {
    "name": "ipython",
    "version": 3
   },
   "file_extension": ".py",
   "mimetype": "text/x-python",
   "name": "python",
   "nbconvert_exporter": "python",
   "pygments_lexer": "ipython3",
   "version": "3.8.3"
  }
 },
 "nbformat": 4,
 "nbformat_minor": 4
}
