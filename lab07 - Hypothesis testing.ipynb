{
 "cells": [
  {
   "cell_type": "markdown",
   "metadata": {},
   "source": [
    "## Lab 7 - hypothesis testing: Examining the Therapeutic Touch\n",
    "\n",
    "## Due Friday 6/25/2021\n",
    "Welcome to Lab 7 - part 1 on hypothesis testing!\n",
    "\n",
    "In this lab, we'll use hypothesis testing techniques that were introduced in lecture to test the idea of the therapeutic touch, the idea that some practictioners can feel and massage your human energy field. "
   ]
  },
  {
   "cell_type": "code",
   "execution_count": 1,
   "metadata": {},
   "outputs": [],
   "source": [
    "# Run this cell, but please don't change it.\n",
    "\n",
    "# These lines import the Numpy and Datascience modules.\n",
    "import numpy as np\n",
    "from datascience import *\n",
    "\n",
    "# These lines do some fancy plotting magic\n",
    "import matplotlib\n",
    "%matplotlib inline\n",
    "import matplotlib.pyplot as plt\n",
    "plt.style.use('fivethirtyeight')\n",
    "import warnings\n",
    "warnings.simplefilter('ignore', FutureWarning)\n",
    "from matplotlib import patches\n",
    "from ipywidgets import interact, interactive, fixed\n",
    "import ipywidgets as widgets"
   ]
  },
  {
   "cell_type": "markdown",
   "metadata": {},
   "source": [
    "### What is Therapeutic Touch?\n",
    "\n",
    "Therapeutic Touch (TT) is an energy therapy that practitioners claim can promote health and relaxation. Practitioners place their hands near a patient and say they are able to detect and manipulate the patient's so-called Human Energy Field (HEF). \n",
    "TT was popular throughout the 20th century and was toted as a great way to bring balance to a person's health. \n",
    "\n",
    "### Emily Rosa\n",
    "\n",
    "Emily Rosa was a 4th grade student who had wide exposure to the world of TT due to her parents, who were both medical practitioners and skeptics of the idea of TT. \n",
    "\n",
    "For her 4th grade science fair project, Emily decided to test whether or not TT practitioners could truly interact with a person's HEF. "
   ]
  },
  {
   "cell_type": "markdown",
   "metadata": {},
   "source": [
    "**Question 1:** Describe how you might set up an experiment to test this."
   ]
  },
  {
   "cell_type": "markdown",
   "metadata": {},
   "source": [
    "Using Hypothesis Testing , to reject or not to reject the null hypothesis through experiments"
   ]
  },
  {
   "cell_type": "markdown",
   "metadata": {},
   "source": [
    "### Emily's Experiment\n",
    "\n",
    "Emily's experiment was clean, simple, and effective. Due to her parents' occupations in the medical field, she had wide access to people who claimed to be TT practitioners. \n",
    "\n",
    "Emily took 21 TT practitioners and used them for her science experiment. She would take a TT practitioner and let them examine her hands to determine which had the stronger energy field. Then she had extend their hands through a screen so they could not see her. On the other side of the screen, Emily would flip a coin. Depending on how the coin landed, she would put out either her left hand or her right hand. The TT practitioner would then have to correctly answer which hand Emily put out. Overall, in 210 samples, the practitioner picked the correct hand 44% of the time. \n",
    "\n",
    "Emily's main goal here was to test whether or not the TT practicioners' guesses were random, like the flip of a coin. In most medical experiments, this is the norm. We want to test whether or not the treatment has an effect, *not* whether or not the treatment actually works. \n",
    "\n",
    "We will now begin to formulate this experiment in terms of the terminology we learned in this course. "
   ]
  },
  {
   "cell_type": "markdown",
   "metadata": {},
   "source": [
    "**Question 2**: What are the null and alternative hypotheses for Emily's experiment? "
   ]
  },
  {
   "cell_type": "markdown",
   "metadata": {
    "for_assignment_type": "student"
   },
   "source": [
    "**Your Answer Here:**\n",
    "\n",
    "Null Hypothesis: TT practicioners are randomly guessing the coins in the correct hand i.e. just as others \n",
    "\n",
    "\n",
    "Alternative Hypothesis: TT predicts not randomly"
   ]
  },
  {
   "cell_type": "markdown",
   "metadata": {},
   "source": [
    "**Question 3:** Remember that the practitioner got the correct answer 44% of the time. According to the null hypothesis, on average, what proportion of times do we expect the practitioner to guess the correct hand? Make sure your answer is between 0 and 1. "
   ]
  },
  {
   "cell_type": "code",
   "execution_count": 2,
   "metadata": {},
   "outputs": [
    {
     "data": {
      "text/plain": [
       "0.5"
      ]
     },
     "execution_count": 2,
     "metadata": {},
     "output_type": "execute_result"
    }
   ],
   "source": [
    "expected_correct = 0.5\n",
    "expected_correct"
   ]
  },
  {
   "cell_type": "markdown",
   "metadata": {},
   "source": [
    "The goal now is to see if our deviation from this expected proportion of correct answers is due to something other than chance. \n",
    "\n",
    "**Question 4:** Which of the following is the best statistic for testing this model? Assign `best_ts` to 1, 2, or 3.\n",
    "\n",
    "1. The difference of the expected percent correct and the actual percent correct\n",
    "2. The absolute difference of the expected percent correct and the actual percent correct\n",
    "3. The sum of the expected percent correct and the actual percent correct"
   ]
  },
  {
   "cell_type": "code",
   "execution_count": 3,
   "metadata": {},
   "outputs": [
    {
     "data": {
      "text/plain": [
       "2"
      ]
     },
     "execution_count": 3,
     "metadata": {},
     "output_type": "execute_result"
    }
   ],
   "source": [
    "best_ts = 2\n",
    "best_ts"
   ]
  },
  {
   "cell_type": "markdown",
   "metadata": {},
   "source": [
    "**Question 5:** Define the function `test_statistic` which takes in an expected proportion and an actual proportion, and returns the value of the test statistic chosen above. Assume that you are taking in proportions, but you want to return your answer as a percentage. \n",
    "\n",
    "*Hint:* Remember we are asking for a **percentage**, not a proportion. "
   ]
  },
  {
   "cell_type": "code",
   "execution_count": 4,
   "metadata": {},
   "outputs": [],
   "source": [
    "def test_statistic(expected_prop, actual_prop):\n",
    "    percentage=abs(actual_prop-expected_prop)*100\n",
    "    return percentage"
   ]
  },
  {
   "cell_type": "markdown",
   "metadata": {},
   "source": [
    "**Question 6:** Use your newly defined function to calculate the observed test statistic from Emily's experiment. "
   ]
  },
  {
   "cell_type": "code",
   "execution_count": 8,
   "metadata": {},
   "outputs": [
    {
     "data": {
      "text/plain": [
       "6.0"
      ]
     },
     "execution_count": 8,
     "metadata": {},
     "output_type": "execute_result"
    }
   ],
   "source": [
    "observed_test_statistic = test_statistic(expected_correct,0.44)\n",
    "observed_test_statistic"
   ]
  },
  {
   "cell_type": "markdown",
   "metadata": {},
   "source": [
    "**Is this test statistic likely if the null hypothesis was true? Or is the deviation from the expected proportion due to something other than chance?**\n",
    "\n",
    "In order to answer this question, we must simulate the experiment as though the null hypothesis was true, and calculate the test statistic per each simulation.\n",
    "\n",
    "**Question 7:** To begin simulating, we should start by creating an array which has two items in it. The first item should be the proportion of times, assuming the null model is true, a TT practictioner picks the correct hand. The second item should be the proportion of times, under the same assumption, that the TT practicioner picks the incorrect hand. Assign `model_proportions` to this array. After this, simulate, using the `sample_proportions` function, Emily running through this experiment 210 times (as done in real life), and assign the proportion of correct answers to `simulation_proportion`. Lastly, define `one_test_statistic` to the test statistic of this one simulation. "
   ]
  },
  {
   "cell_type": "code",
   "execution_count": 22,
   "metadata": {},
   "outputs": [
    {
     "data": {
      "text/plain": [
       "6.190476190476191"
      ]
     },
     "execution_count": 22,
     "metadata": {},
     "output_type": "execute_result"
    }
   ],
   "source": [
    "model_proportions = make_array(0.5,0.5)\n",
    "simulation_proportion = sample_proportions(210, model_proportions).item(0)\n",
    "one_test_statistic =  test_statistic(expected_correct, simulation_proportion)\n",
    "one_test_statistic"
   ]
  },
  {
   "cell_type": "markdown",
   "metadata": {},
   "source": [
    "**Question 8:** Let's now see what the distribution of test statistics is actually like under our fully specified model. Assign `simulated_test_statistics` to an array of 1000 test statistics that you simulated assuming the null hypothesis is true. \n",
    "\n",
    "*Hint:* This should follow the same pattern as normal simulations, in combination with the code you did in the previous problem.  "
   ]
  },
  {
   "cell_type": "code",
   "execution_count": 15,
   "metadata": {
    "for_assignment_type": "student",
    "scrolled": true
   },
   "outputs": [
    {
     "data": {
      "text/plain": [
       "array([ 2.85714286,  7.61904762,  2.85714286,  5.71428571,  1.42857143,\n",
       "        2.38095238,  1.9047619 ,  1.9047619 ,  3.80952381,  3.80952381,\n",
       "        0.95238095,  5.23809524,  1.42857143,  5.71428571,  1.42857143,\n",
       "        1.42857143,  2.38095238,  1.9047619 ,  2.38095238,  2.38095238,\n",
       "        2.38095238,  3.33333333,  2.38095238,  1.42857143,  4.28571429,\n",
       "        6.19047619,  2.38095238,  8.57142857,  1.42857143,  0.47619048,\n",
       "        4.28571429,  2.85714286,  4.28571429,  1.42857143,  4.28571429,\n",
       "        6.66666667,  4.28571429,  4.28571429,  0.95238095,  1.42857143,\n",
       "        1.9047619 ,  3.80952381,  1.42857143,  1.9047619 ,  0.95238095,\n",
       "        5.23809524,  6.19047619,  2.85714286,  1.9047619 ,  4.76190476,\n",
       "        2.38095238,  3.80952381,  9.52380952,  0.        ,  3.33333333,\n",
       "        1.42857143,  0.95238095,  2.38095238,  0.47619048,  3.80952381,\n",
       "        3.33333333,  0.        ,  9.52380952,  3.80952381,  3.80952381,\n",
       "        2.38095238,  4.28571429,  4.76190476,  1.9047619 ,  2.38095238,\n",
       "        2.38095238,  5.23809524,  1.9047619 ,  9.52380952,  4.28571429,\n",
       "        3.80952381,  3.80952381,  2.38095238,  4.76190476,  3.80952381,\n",
       "        1.9047619 ,  0.47619048,  0.        ,  2.85714286,  6.66666667,\n",
       "        0.47619048,  0.        ,  3.80952381,  0.47619048,  0.95238095,\n",
       "        6.19047619,  2.38095238,  2.85714286,  3.33333333,  2.85714286,\n",
       "        2.38095238,  0.47619048,  0.47619048,  2.38095238,  0.95238095,\n",
       "        6.66666667,  3.33333333,  3.80952381,  4.76190476,  2.38095238,\n",
       "        1.42857143,  4.76190476,  0.47619048,  1.42857143,  4.76190476,\n",
       "        0.95238095,  1.9047619 ,  3.33333333,  1.9047619 ,  7.14285714,\n",
       "        0.47619048,  0.95238095,  1.9047619 ,  1.9047619 ,  0.95238095,\n",
       "        5.71428571,  3.80952381,  5.71428571,  2.38095238,  1.9047619 ,\n",
       "        6.19047619,  0.        ,  0.95238095,  7.61904762,  0.        ,\n",
       "        2.85714286,  0.95238095,  0.        ,  0.95238095,  3.80952381,\n",
       "        0.95238095,  1.9047619 ,  0.47619048,  1.9047619 ,  7.14285714,\n",
       "        2.38095238,  3.33333333,  4.76190476,  0.95238095,  3.33333333,\n",
       "        0.        ,  0.95238095,  3.33333333,  1.9047619 , 10.        ,\n",
       "        1.9047619 ,  0.47619048,  4.76190476,  1.9047619 ,  2.38095238,\n",
       "        6.66666667,  2.38095238,  1.42857143,  4.76190476,  6.19047619,\n",
       "        2.38095238,  0.        ,  0.95238095,  0.95238095,  1.9047619 ,\n",
       "        3.33333333,  1.42857143,  0.47619048,  4.28571429,  4.76190476,\n",
       "        2.38095238,  0.        ,  1.9047619 ,  6.66666667,  1.9047619 ,\n",
       "        5.23809524,  1.9047619 ,  5.23809524,  2.38095238,  1.9047619 ,\n",
       "        2.85714286,  2.85714286,  3.80952381,  3.80952381,  3.80952381,\n",
       "        4.76190476,  2.38095238,  0.95238095,  1.42857143,  2.38095238,\n",
       "        4.28571429,  5.71428571,  0.47619048,  0.95238095,  0.47619048,\n",
       "        4.28571429,  5.23809524,  0.95238095,  2.38095238,  2.38095238,\n",
       "        5.71428571,  0.95238095,  0.        ,  1.9047619 ,  5.71428571,\n",
       "        0.95238095,  7.14285714,  0.47619048,  4.28571429,  1.42857143,\n",
       "        4.28571429,  4.28571429,  4.28571429,  8.0952381 ,  1.9047619 ,\n",
       "        2.38095238,  3.33333333,  1.9047619 ,  4.28571429,  0.95238095,\n",
       "        0.95238095,  0.        ,  3.80952381,  5.23809524,  0.        ,\n",
       "        2.85714286,  2.38095238,  3.33333333,  3.80952381,  5.71428571,\n",
       "        0.47619048,  2.38095238,  0.        ,  0.47619048,  3.33333333,\n",
       "        4.76190476,  0.        ,  4.28571429,  1.9047619 , 15.23809524,\n",
       "        4.28571429,  2.38095238,  2.38095238,  3.33333333,  4.76190476,\n",
       "        1.9047619 ,  0.95238095,  1.9047619 ,  2.85714286,  4.28571429,\n",
       "        1.42857143,  1.42857143,  3.33333333,  1.42857143,  1.9047619 ,\n",
       "        1.42857143,  3.33333333,  0.        ,  0.47619048,  5.71428571,\n",
       "        4.76190476,  1.9047619 ,  2.85714286,  0.95238095,  1.9047619 ,\n",
       "        1.42857143,  0.47619048,  2.85714286,  1.42857143,  3.33333333,\n",
       "        1.42857143,  0.47619048,  5.23809524,  1.9047619 ,  1.9047619 ,\n",
       "        0.47619048,  0.95238095,  9.52380952,  1.42857143,  9.52380952,\n",
       "        3.80952381,  3.80952381,  5.71428571,  2.85714286,  3.80952381,\n",
       "        1.9047619 ,  1.9047619 ,  7.14285714,  2.85714286,  3.80952381,\n",
       "        1.42857143,  4.28571429,  0.95238095,  4.28571429,  2.85714286,\n",
       "        1.42857143,  0.95238095,  3.33333333,  0.95238095,  3.80952381,\n",
       "        4.28571429,  3.80952381,  0.        ,  0.47619048,  0.95238095,\n",
       "        0.        ,  7.14285714,  7.14285714,  1.42857143,  5.71428571,\n",
       "        1.9047619 ,  1.42857143,  1.42857143,  6.66666667,  4.76190476,\n",
       "        6.19047619,  0.47619048,  1.9047619 ,  2.38095238,  2.85714286,\n",
       "        6.19047619,  1.9047619 ,  3.80952381,  0.95238095,  0.47619048,\n",
       "        0.47619048,  0.        ,  1.9047619 ,  7.14285714,  4.76190476,\n",
       "        0.47619048,  5.71428571,  9.52380952,  5.23809524,  2.85714286,\n",
       "        1.42857143,  1.9047619 ,  1.9047619 ,  0.47619048,  0.47619048,\n",
       "        2.85714286,  7.14285714,  1.9047619 ,  4.28571429,  0.95238095,\n",
       "        0.47619048,  4.76190476,  0.47619048,  0.47619048,  6.66666667,\n",
       "        1.42857143, 10.        ,  0.95238095,  2.85714286,  0.47619048,\n",
       "        1.42857143,  3.80952381,  2.38095238,  0.95238095,  7.61904762,\n",
       "        3.80952381,  0.95238095,  3.80952381,  1.9047619 ,  7.14285714,\n",
       "        0.95238095,  1.42857143,  0.95238095,  0.47619048,  0.        ,\n",
       "        1.42857143,  0.95238095,  8.57142857,  2.85714286,  3.80952381,\n",
       "        1.9047619 ,  4.76190476, 10.47619048,  0.47619048,  0.47619048,\n",
       "        0.95238095,  0.95238095,  0.95238095,  2.38095238,  7.14285714,\n",
       "        2.38095238,  2.38095238,  6.19047619,  0.95238095,  0.95238095,\n",
       "        2.85714286,  3.33333333,  0.47619048,  6.19047619,  0.47619048,\n",
       "        4.28571429,  3.80952381,  0.47619048,  3.80952381,  2.85714286,\n",
       "        2.38095238,  2.38095238,  3.33333333,  7.14285714,  0.47619048,\n",
       "        0.47619048,  0.47619048,  7.14285714,  1.9047619 ,  2.38095238,\n",
       "        1.42857143,  1.9047619 ,  3.33333333,  6.19047619,  0.        ,\n",
       "        0.47619048,  6.66666667,  1.42857143,  2.85714286,  3.33333333,\n",
       "        2.85714286,  0.95238095,  5.23809524,  0.47619048,  4.28571429,\n",
       "        1.9047619 ,  1.9047619 ,  2.38095238,  2.38095238,  2.85714286,\n",
       "        2.38095238,  3.80952381,  6.19047619,  6.19047619,  8.0952381 ,\n",
       "        2.38095238,  0.95238095,  6.19047619,  3.80952381,  4.28571429,\n",
       "        1.42857143,  0.95238095,  2.85714286,  1.9047619 ,  3.33333333,\n",
       "        3.33333333,  4.76190476,  9.52380952,  2.85714286,  3.80952381,\n",
       "        4.76190476,  6.66666667,  2.38095238,  2.38095238,  1.42857143,\n",
       "        0.47619048,  1.9047619 ,  5.23809524,  2.38095238,  0.95238095,\n",
       "        5.23809524,  7.61904762,  0.47619048,  3.80952381,  3.33333333,\n",
       "        1.42857143,  4.28571429,  0.47619048,  1.42857143,  2.38095238,\n",
       "        1.42857143,  1.9047619 ,  1.9047619 ,  3.80952381,  2.85714286,\n",
       "        2.85714286,  1.42857143,  3.80952381,  6.19047619,  1.9047619 ,\n",
       "        4.28571429,  2.38095238,  1.9047619 ,  1.42857143,  3.33333333,\n",
       "        0.        ,  1.42857143,  1.9047619 ,  0.47619048,  0.47619048,\n",
       "        0.47619048,  1.42857143,  1.9047619 ,  2.85714286,  1.9047619 ,\n",
       "        0.47619048,  1.42857143,  2.38095238, 12.38095238,  2.38095238,\n",
       "        2.38095238,  1.9047619 ,  0.47619048,  0.47619048,  0.95238095,\n",
       "        0.95238095,  4.28571429,  0.47619048,  3.33333333,  0.95238095,\n",
       "        0.        ,  0.        ,  0.95238095,  5.23809524,  7.14285714,\n",
       "        1.42857143,  1.42857143,  4.76190476,  3.33333333,  1.9047619 ,\n",
       "        0.47619048,  1.42857143,  2.85714286,  3.80952381,  5.23809524,\n",
       "        4.76190476,  1.9047619 ,  1.42857143,  0.47619048,  3.80952381,\n",
       "        3.80952381,  2.38095238,  1.9047619 ,  8.0952381 ,  1.9047619 ,\n",
       "        3.33333333,  4.76190476,  2.38095238,  1.42857143,  4.28571429,\n",
       "        1.9047619 ,  5.71428571,  2.85714286,  0.        ,  0.47619048,\n",
       "        3.33333333,  0.95238095,  3.80952381,  1.9047619 ,  0.        ,\n",
       "        2.38095238,  0.47619048,  1.9047619 ,  3.80952381,  0.95238095,\n",
       "        5.23809524,  4.76190476, 10.47619048,  0.95238095,  0.47619048,\n",
       "        3.80952381,  1.42857143,  0.47619048,  2.38095238,  0.        ,\n",
       "        0.95238095,  1.9047619 ,  3.80952381,  2.38095238,  3.33333333,\n",
       "        1.9047619 ,  7.61904762, 10.        ,  1.42857143,  2.38095238,\n",
       "        1.9047619 ,  2.85714286,  4.28571429,  2.85714286,  1.42857143,\n",
       "        1.9047619 ,  1.9047619 ,  4.28571429,  2.85714286,  2.38095238,\n",
       "        1.42857143,  8.0952381 ,  0.95238095,  2.85714286,  0.47619048,\n",
       "        1.9047619 ,  1.42857143,  1.9047619 ,  1.42857143,  1.42857143,\n",
       "        1.9047619 ,  0.95238095,  3.33333333,  4.76190476,  0.        ,\n",
       "        5.23809524,  2.38095238,  1.42857143,  0.95238095,  0.95238095,\n",
       "        1.42857143,  3.80952381,  0.47619048,  1.9047619 ,  4.28571429,\n",
       "        3.33333333,  5.71428571,  4.28571429,  1.9047619 ,  2.38095238,\n",
       "        0.95238095,  3.80952381,  3.80952381,  2.38095238,  2.85714286,\n",
       "        6.19047619,  1.9047619 ,  1.42857143,  1.9047619 ,  4.76190476,\n",
       "        2.85714286,  1.42857143,  1.9047619 ,  0.95238095,  2.85714286,\n",
       "        6.19047619,  3.33333333,  1.42857143,  1.9047619 ,  0.95238095,\n",
       "        4.28571429,  2.85714286,  3.80952381,  3.80952381,  0.        ,\n",
       "        0.95238095,  2.85714286,  2.38095238,  0.95238095,  4.28571429,\n",
       "        2.85714286,  1.42857143,  0.47619048,  1.9047619 ,  2.85714286,\n",
       "        1.42857143,  1.42857143,  0.        ,  2.38095238,  2.85714286,\n",
       "        2.38095238,  0.95238095,  3.33333333,  2.85714286,  3.33333333,\n",
       "        3.80952381,  1.9047619 ,  5.23809524,  6.19047619,  1.9047619 ,\n",
       "        0.47619048,  1.9047619 ,  3.80952381,  0.47619048,  0.95238095,\n",
       "        1.9047619 ,  0.47619048,  2.38095238,  4.76190476,  5.71428571,\n",
       "        1.42857143,  3.80952381,  1.9047619 ,  0.        ,  1.9047619 ,\n",
       "        3.33333333,  1.42857143,  1.9047619 ,  1.9047619 ,  1.9047619 ,\n",
       "        0.        ,  0.        ,  4.28571429,  6.66666667,  1.42857143,\n",
       "        2.85714286,  1.42857143,  1.9047619 ,  3.33333333,  2.85714286,\n",
       "        0.47619048,  1.9047619 ,  4.76190476,  7.61904762,  3.33333333,\n",
       "        0.95238095,  5.23809524,  0.95238095,  3.80952381,  0.95238095,\n",
       "        4.28571429,  2.85714286,  2.85714286,  0.47619048,  2.38095238,\n",
       "        1.9047619 ,  0.95238095,  1.42857143,  0.95238095,  2.38095238,\n",
       "        1.9047619 ,  1.9047619 ,  2.85714286,  0.95238095,  1.9047619 ,\n",
       "        6.19047619,  2.38095238,  0.47619048,  5.23809524,  1.9047619 ,\n",
       "        3.33333333,  1.9047619 ,  7.61904762,  4.76190476,  6.19047619,\n",
       "        4.28571429,  6.19047619,  0.        ,  3.80952381,  5.23809524,\n",
       "        0.47619048,  2.38095238,  4.28571429,  2.38095238,  0.95238095,\n",
       "        3.33333333,  3.33333333,  5.71428571,  0.95238095,  3.80952381,\n",
       "        2.38095238,  0.95238095,  2.85714286,  0.47619048,  3.80952381,\n",
       "        0.95238095,  1.42857143,  1.42857143,  4.28571429,  2.38095238,\n",
       "        3.33333333,  0.95238095,  6.19047619,  5.71428571,  2.85714286,\n",
       "        2.38095238,  3.80952381,  4.28571429,  5.71428571,  4.76190476,\n",
       "        3.33333333,  0.95238095,  0.95238095,  1.9047619 ,  7.14285714,\n",
       "        0.        ,  2.85714286,  0.95238095,  1.9047619 ,  0.47619048,\n",
       "        1.42857143,  4.28571429,  1.42857143,  1.42857143,  4.28571429,\n",
       "        1.42857143,  1.42857143,  0.47619048,  1.9047619 ,  3.80952381,\n",
       "        1.9047619 ,  5.71428571,  1.42857143,  3.80952381,  7.61904762,\n",
       "        2.85714286,  0.95238095,  0.        ,  4.76190476,  8.0952381 ,\n",
       "        4.28571429,  4.76190476,  3.80952381,  2.38095238,  1.9047619 ,\n",
       "        0.95238095,  5.71428571,  3.80952381,  0.95238095,  1.42857143,\n",
       "        4.76190476,  0.95238095,  4.76190476,  1.9047619 ,  2.85714286,\n",
       "        1.9047619 ,  1.42857143,  1.9047619 ,  0.47619048,  5.23809524,\n",
       "        1.42857143,  2.38095238,  0.        ,  1.42857143,  4.28571429,\n",
       "        3.33333333,  5.23809524,  2.38095238,  2.38095238,  1.42857143,\n",
       "        2.38095238,  3.33333333,  5.71428571,  0.47619048,  1.9047619 ,\n",
       "        0.        ,  1.42857143,  0.47619048,  1.9047619 ,  0.47619048,\n",
       "        4.28571429,  4.28571429,  5.23809524,  2.38095238,  1.9047619 ,\n",
       "        0.47619048,  3.33333333,  4.28571429,  2.85714286,  5.71428571,\n",
       "        5.23809524,  1.42857143,  1.9047619 ,  3.80952381,  5.23809524,\n",
       "        1.9047619 ,  0.95238095,  4.28571429,  0.47619048,  0.        ,\n",
       "        7.61904762,  1.9047619 ,  0.95238095,  1.9047619 ,  3.33333333,\n",
       "        3.33333333,  1.42857143,  6.66666667,  4.76190476,  0.        ,\n",
       "        1.9047619 ,  0.        ,  3.33333333,  3.33333333,  4.28571429,\n",
       "        2.38095238,  2.85714286,  2.85714286,  4.28571429,  1.42857143,\n",
       "        0.47619048,  0.95238095,  1.9047619 ,  0.95238095,  6.19047619,\n",
       "        1.42857143,  3.33333333,  3.80952381,  0.        ,  6.19047619,\n",
       "        3.33333333,  5.23809524,  4.28571429,  1.42857143,  6.66666667,\n",
       "        2.85714286,  0.95238095,  6.66666667,  3.33333333,  3.33333333,\n",
       "        3.33333333,  8.0952381 ,  0.47619048,  9.52380952,  1.9047619 ,\n",
       "        4.76190476,  4.28571429,  0.47619048,  0.        ,  2.85714286,\n",
       "        1.9047619 ,  1.9047619 ,  2.85714286,  1.42857143,  0.95238095,\n",
       "        7.14285714,  2.85714286,  3.33333333,  3.33333333,  1.9047619 ,\n",
       "        5.23809524,  6.66666667,  1.42857143,  1.42857143,  3.33333333,\n",
       "        3.33333333,  2.38095238,  1.42857143,  3.33333333,  1.42857143,\n",
       "        8.57142857,  1.9047619 ,  6.66666667,  3.80952381,  5.71428571,\n",
       "        0.95238095,  1.42857143,  6.19047619,  0.        ,  3.33333333,\n",
       "        3.33333333,  3.80952381,  0.95238095,  6.19047619,  0.95238095,\n",
       "        0.95238095,  2.85714286,  6.19047619,  2.38095238,  6.19047619,\n",
       "        5.71428571,  4.28571429,  3.80952381,  4.76190476,  3.33333333,\n",
       "        5.71428571,  5.23809524,  0.95238095,  0.95238095,  0.47619048,\n",
       "        1.9047619 ,  2.38095238,  3.80952381,  4.28571429,  0.47619048,\n",
       "        2.38095238,  1.42857143, 10.95238095,  1.42857143,  0.47619048,\n",
       "        8.57142857,  6.66666667,  4.28571429,  3.80952381,  1.9047619 ,\n",
       "        1.42857143,  2.38095238,  6.66666667,  0.95238095,  3.80952381,\n",
       "        3.80952381,  2.38095238,  0.47619048,  1.9047619 ,  2.38095238,\n",
       "        1.9047619 ,  3.33333333,  1.42857143,  7.14285714,  0.95238095,\n",
       "        3.80952381,  2.85714286,  0.        ,  3.33333333,  3.80952381,\n",
       "        0.        ,  1.42857143,  5.23809524,  0.47619048,  3.33333333,\n",
       "        4.28571429,  5.71428571,  3.80952381,  6.19047619,  6.19047619])"
      ]
     },
     "execution_count": 15,
     "metadata": {},
     "output_type": "execute_result"
    }
   ],
   "source": [
    "num_repetitions = 1000\n",
    "num_guesses = 210\n",
    "\n",
    "simulated_test_statistics = make_array()\n",
    "\n",
    "for i in np.arange(num_repetitions):\n",
    "    simulated_proportion = sample_proportions(num_guesses, model_proportions).item(0)\n",
    "    simulated_test_statistic = test_statistic(expected_correct,simulated_proportion)\n",
    "    simulated_test_statistics = np.append(simulated_test_statistics, simulated_test_statistic)\n",
    "simulated_test_statistics"
   ]
  },
  {
   "cell_type": "markdown",
   "metadata": {},
   "source": [
    "Let's view the distribution of the simulated test statistics under the null, and visually compare how the observed test statistic lies against the rest. "
   ]
  },
  {
   "cell_type": "code",
   "execution_count": 16,
   "metadata": {},
   "outputs": [
    {
     "data": {
      "text/plain": [
       "<matplotlib.collections.PathCollection at 0x1f636e4b8e0>"
      ]
     },
     "execution_count": 16,
     "metadata": {},
     "output_type": "execute_result"
    },
    {
     "data": {
      "image/png": "[encoded data removed]",
      "text/plain": [
       "<Figure size 432x288 with 1 Axes>"
      ]
     },
     "metadata": {},
     "output_type": "display_data"
    }
   ],
   "source": [
    "t = Table().with_column('Simulated Test Statistics', simulated_test_statistics)\n",
    "t.hist()\n",
    "plt.scatter(observed_test_statistic, 0, color='red', s=30)"
   ]
  },
  {
   "cell_type": "markdown",
   "metadata": {},
   "source": [
    "We can make a visual argument as to whether or not we believe the observed test statistic is likely to occur under the null, or we can use the definition of p-values to help us make a more formal argument. \n",
    "\n",
    "**Question 9:** Assume `p_value` to the integer corresponding to the correct definition of what a p-value really is. \n",
    "\n",
    "1. The chance, under the null hypothesis, that the test statistic is equal to the value that was observed\n",
    "2. The chance, under the null hypothesis, that the test statistic is equal to the value that was observed or is even further in the direction of the alternative\n",
    "3. The chance, under the alternative hypothesis, that the test statistic is equal to the value that was observed or is even further in the direction of the null \n",
    "4. The number of times, under the null hypothesis, that the test statistic is equal to the value that was observed or is even further in the direction of the alternative"
   ]
  },
  {
   "cell_type": "code",
   "execution_count": 17,
   "metadata": {},
   "outputs": [
    {
     "data": {
      "text/plain": [
       "2"
      ]
     },
     "execution_count": 17,
     "metadata": {},
     "output_type": "execute_result"
    }
   ],
   "source": [
    "p_value = 2\n",
    "p_value"
   ]
  },
  {
   "cell_type": "code",
   "execution_count": null,
   "metadata": {},
   "outputs": [],
   "source": []
  },
  {
   "cell_type": "markdown",
   "metadata": {},
   "source": [
    "**Question 10:** Using the definition above, calculate the p-value of Emily's observed value in this experiment. \n",
    "\n",
    "*Hint:* If our test statistic is further in the direction of the alternative, will larger value or a smaller value? \n",
    "\n",
    "*Hint:* [This section](https://www.inferentialthinking.com/chapters/11/3/decisions-and-uncertainty) of the textbook contains an example of calculating an empirical p-value."
   ]
  },
  {
   "cell_type": "code",
   "execution_count": 18,
   "metadata": {},
   "outputs": [
    {
     "data": {
      "text/plain": [
       "0.097"
      ]
     },
     "execution_count": 18,
     "metadata": {},
     "output_type": "execute_result"
    }
   ],
   "source": [
    "emily_p_val = sum(simulated_test_statistics>=observed_test_statistic)/len(simulated_test_statistics)\n",
    "emily_p_val"
   ]
  },
  {
   "cell_type": "markdown",
   "metadata": {},
   "source": [
    "If our p-value is less than or equal to .05, then this is in favor of our alternative and we reject the null hypothesis. Otherwise, we do not have enough evidence against our null hypothesis. Note that this does **not** say we side in favor with the null hypothesis and accept it, but rather, that we just fail to reject it. \n",
    "\n",
    "This should help you make your own conclusions about Emily Rosa's experiment. \n",
    "\n",
    "Therapeutic touch fell out of use after this experiment, which was eventually accepted into one of the premier medical journals. TT practitioners hit back and accused Emily and her family of tampering with the results, while some claimed that Emily's bad spiritual mood towards therapeutic touch made it difficult to read her HEF. Whatever it may be, Emily's experiment is a classic example about how anyone, with the right resources, can test anything they want!\n",
    "\n",
    "Lastly, make sure to run all the tests (the next cell has a shortcut for that), save your work, and run the submit cell! "
   ]
  },
  {
   "cell_type": "markdown",
   "metadata": {},
   "source": [
    "### Lab7 is done! "
   ]
  }
 ],
 "metadata": {
  "kernelspec": {
   "display_name": "Python 3",
   "language": "python",
   "name": "python3"
  },
  "language_info": {
   "codemirror_mode": {
    "name": "ipython",
    "version": 3
   },
   "file_extension": ".py",
   "mimetype": "text/x-python",
   "name": "python",
   "nbconvert_exporter": "python",
   "pygments_lexer": "ipython3",
   "version": "3.8.3"
  }
 },
 "nbformat": 4,
 "nbformat_minor": 2
}
